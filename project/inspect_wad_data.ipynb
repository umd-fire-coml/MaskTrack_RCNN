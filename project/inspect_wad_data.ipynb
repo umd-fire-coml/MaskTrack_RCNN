{
 "cells": [
  {
   "cell_type": "code",
   "execution_count": null,
   "metadata": {
    "collapsed": true
   },
   "outputs": [],
   "source": [
    "import matplotlib.pyplot as plt\n",
    "\n",
    "from project.wad_data import *\n",
    "\n",
    "# SET THESE AS APPROPRIATE FOR YOUR TEST PLATFORM\n",
    "root_data_dir = 'G:\\\\Team Drives\\\\COML-Summer-2018\\\\Data\\\\CVPR-WAD-2018'\n",
    "subset = 'train'\n",
    "\n",
    "# Load and prepare dataset\n",
    "start_time = time()\n",
    "\n",
    "wad = WADDataset()\n",
    "wad.load_data(root_data_dir, subset)\n",
    "wad.prepare()\n",
    "\n",
    "print('[TIME] Time to Load and Prepare Dataset = {} seconds'.format(time() - start_time))\n",
    "\n",
    "# Check number of classes and images\n",
    "image_count = len(wad.image_info)\n",
    "print('No. Images:\\t\\t{}'.format(image_count))\n",
    "print('No. Classes:\\t{}'.format(len(wad.class_info)))\n",
    "\n",
    "# Choose a random image to display\n",
    "which_image = np.random.randint(0, image_count)\n",
    "\n",
    "# Display original image\n",
    "plt.figure(0)\n",
    "plt.title('Image No. {}'.format(which_image))\n",
    "plt.imshow(wad.load_image(which_image))\n",
    "\n",
    "# Display masks if available\n",
    "if wad.image_info[which_image]['mask_path'] is not None:\n",
    "    # Generate masks from file\n",
    "    start = time()\n",
    "\n",
    "    masks, labels = wad.load_mask(which_image)\n",
    "    num_masks = masks.shape[2]\n",
    "\n",
    "    print('[TIME] Time to Generate Masks = {} seconds'.format(time() - start))\n",
    "\n",
    "    # Set up grid of plots for the masks\n",
    "    rows, cols = math.ceil(math.sqrt(num_masks)), math.ceil(math.sqrt(num_masks))\n",
    "    plt.figure(1)\n",
    "\n",
    "    # Plot each mask\n",
    "    for i in range(num_masks):\n",
    "        instance_class = classes[index_to_classes[labels[i]]]\n",
    "\n",
    "        frame = plt.subplot(rows, cols, i+1)\n",
    "        frame.axes.get_xaxis().set_visible(False)\n",
    "        frame.axes.get_yaxis().set_visible(False)\n",
    "        plt.title('Mask No. {0} of class {1}'.format(i, instance_class))\n",
    "        plt.imshow(np.uint8(masks[:, :, i]))\n",
    "\n",
    "print('Showing Image No. {}'.format(which_image))\n",
    "plt.show()"
   ]
  }
 ],
 "metadata": {
  "kernelspec": {
   "display_name": "Python 2",
   "language": "python",
   "name": "python2"
  },
  "language_info": {
   "codemirror_mode": {
    "name": "ipython",
    "version": 2
   },
   "file_extension": ".py",
   "mimetype": "text/x-python",
   "name": "python",
   "nbconvert_exporter": "python",
   "pygments_lexer": "ipython2",
   "version": "2.7.6"
  }
 },
 "nbformat": 4,
 "nbformat_minor": 0
}
