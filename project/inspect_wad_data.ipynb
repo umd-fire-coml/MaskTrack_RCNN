{
 "cells": [
  {
   "cell_type": "markdown",
   "metadata": {},
   "source": [
    "# Inspect CVPR 2018 WAD Dataset"
   ]
  },
  {
   "cell_type": "markdown",
   "metadata": {},
   "source": [
    "## Load Dependencies"
   ]
  },
  {
   "cell_type": "code",
   "execution_count": 2,
   "metadata": {},
   "outputs": [
    {
     "ename": "ModuleNotFoundError",
     "evalue": "No module named '__main__.wad_data'; '__main__' is not a package",
     "traceback": [
      "\u001b[1;31m---------------------------------------------------------------------------\u001b[0m",
      "\u001b[1;31mModuleNotFoundError\u001b[0m                       Traceback (most recent call last)",
      "\u001b[1;32m<ipython-input-2-07d8a0065fe8>\u001b[0m in \u001b[0;36m<module>\u001b[1;34m()\u001b[0m\n\u001b[0;32m      5\u001b[0m \u001b[0mget_ipython\u001b[0m\u001b[1;33m(\u001b[0m\u001b[1;33m)\u001b[0m\u001b[1;33m.\u001b[0m\u001b[0mrun_line_magic\u001b[0m\u001b[1;33m(\u001b[0m\u001b[1;34m'matplotlib'\u001b[0m\u001b[1;33m,\u001b[0m \u001b[1;34m'qt5'\u001b[0m\u001b[1;33m)\u001b[0m\u001b[1;33m\u001b[0m\u001b[0m\n\u001b[0;32m      6\u001b[0m \u001b[1;33m\u001b[0m\u001b[0m\n\u001b[1;32m----> 7\u001b[1;33m \u001b[1;32mfrom\u001b[0m \u001b[1;33m.\u001b[0m\u001b[0mwad_data\u001b[0m \u001b[1;32mimport\u001b[0m \u001b[1;33m*\u001b[0m\u001b[1;33m\u001b[0m\u001b[0m\n\u001b[0m",
      "\u001b[1;31mModuleNotFoundError\u001b[0m: No module named '__main__.wad_data'; '__main__' is not a package"
     ],
     "output_type": "error"
    }
   ],
   "source": [
    "import math\n",
    "import matplotlib.pyplot as plt\n",
    "import numpy as np\n",
    "from time import time\n",
    "\n",
    "%matplotlib qt5\n",
    "\n",
    "from project import wad_data"
   ]
  },
  {
   "cell_type": "markdown",
   "metadata": {},
   "source": [
    "## Set Parameters"
   ]
  },
  {
   "cell_type": "code",
   "execution_count": 10,
   "metadata": {},
   "outputs": [],
   "source": [
    "# SET THESE AS APPROPRIATE FOR YOUR TEST PLATFORM\n",
    "root_data_dir = 'G:\\\\Team Drives\\\\COML-Summer-2018\\\\Data\\\\CVPR-WAD-2018'\n",
    "subset = 'train'"
   ]
  },
  {
   "cell_type": "markdown",
   "metadata": {},
   "source": [
    "## Load and Prepare Dataset"
   ]
  },
  {
   "cell_type": "code",
   "execution_count": 17,
   "metadata": {},
   "outputs": [
    {
     "name": "stdout",
     "output_type": "stream",
     "text": [
      "[TIME] Time to Load and Prepare Dataset = 0.18450474739074707 seconds\n",
      "No. Images:\t37689\n",
      "No. Classes:\t36\n"
     ]
    }
   ],
   "source": [
    "start_time = time()\n",
    "\n",
    "wad = wad_data.WADDataset()\n",
    "wad.load_data(root_data_dir, subset)\n",
    "wad.prepare()\n",
    "\n",
    "print('[TIME] Time to Load and Prepare Dataset = {} seconds'.format(time() - start_time))\n",
    "\n",
    "# Check number of classes and images\n",
    "print('No. Images:\\t{}'.format(wad.num_images))\n",
    "print('No. Classes:\\t{}'.format(len(wad.class_info)))"
   ]
  },
  {
   "cell_type": "markdown",
   "metadata": {},
   "source": [
    "## Test Single Image and Masks"
   ]
  },
  {
   "cell_type": "code",
   "execution_count": 19,
   "metadata": {},
   "outputs": [
    {
     "name": "stdout",
     "output_type": "stream",
     "text": [
      "[TIME] Time to Generate Masks = 1.2089626789093018 seconds\n",
      "Showing Image No. 34574\n"
     ]
    }
   ],
   "source": [
    "# Choose a random image to display\n",
    "which_image = np.random.randint(0, wad.num_images)\n",
    "\n",
    "# Display original image\n",
    "plt.figure(0)\n",
    "plt.title('Image No. {}'.format(which_image))\n",
    "plt.imshow(wad.load_image(which_image))\n",
    "\n",
    "# Display masks if available\n",
    "if wad.image_info[which_image]['mask_path'] is not None:\n",
    "    # Generate masks from file\n",
    "    start = time()\n",
    "\n",
    "    masks, labels = wad.load_mask(which_image)\n",
    "    num_masks = masks.shape[2]\n",
    "\n",
    "    print('[TIME] Time to Generate Masks = {} seconds'.format(time() - start))\n",
    "\n",
    "    # Set up grid of plots for the masks\n",
    "    rows, cols = math.ceil(math.sqrt(num_masks)), math.ceil(math.sqrt(num_masks))\n",
    "    plt.figure(1)\n",
    "\n",
    "    # Plot each mask\n",
    "    for i in range(num_masks):\n",
    "        instance_class = wad_data.class_names[wad_data.index_to_classes[labels[i]]]\n",
    "\n",
    "        frame = plt.subplot(rows, cols, i+1)\n",
    "        frame.axes.get_xaxis().set_visible(False)\n",
    "        frame.axes.get_yaxis().set_visible(False)\n",
    "        plt.title('Mask No. {0} of class {1}'.format(i, instance_class))\n",
    "        plt.imshow(np.uint8(masks[:, :, i]))\n",
    "\n",
    "print('Showing Image No. {}'.format(which_image))\n",
    "plt.show()"
   ]
  },
  {
   "cell_type": "code",
   "execution_count": null,
   "metadata": {},
   "outputs": [],
   "source": []
  }
 ],
 "metadata": {
  "kernelspec": {
   "display_name": "Python 3",
   "language": "python",
   "name": "python3"
  },
  "language_info": {
   "codemirror_mode": {
    "name": "ipython",
    "version": 3
   },
   "file_extension": ".py",
   "mimetype": "text/x-python",
   "name": "python",
   "nbconvert_exporter": "python",
   "pygments_lexer": "ipython3",
   "version": "3.6.4"
  }
 },
 "nbformat": 4,
 "nbformat_minor": 1
}
