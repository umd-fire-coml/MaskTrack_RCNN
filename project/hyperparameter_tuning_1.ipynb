{
 "cells": [
  {
   "cell_type": "code",
   "execution_count": null,
   "metadata": {},
   "outputs": [],
   "source": [
    "from tensorflow.python.client import device_lib\n",
    "print(device_lib.list_local_devices())"
   ]
  },
  {
   "cell_type": "code",
   "execution_count": null,
   "metadata": {},
   "outputs": [],
   "source": [
    "import tensorflow as tf\n",
    "from keras.backend.tensorflow_backend import set_session\n",
    "config = tf.ConfigProto()\n",
    "config.gpu_options.per_process_gpu_memory_fraction = 1\n",
    "set_session(tf.Session(config=config))"
   ]
  },
  {
   "cell_type": "code",
   "execution_count": null,
   "metadata": {},
   "outputs": [],
   "source": [
    "#import os\n",
    "#os.environ[\"CUDA_VISIBLE_DEVICES\"]=\"0\""
   ]
  },
  {
   "cell_type": "code",
   "execution_count": 1,
   "metadata": {},
   "outputs": [],
   "source": [
    "import os\n",
    "import skimage.io\n",
    "import matplotlib.pyplot as plt\n",
    "\n",
    "%matplotlib inline"
   ]
  },
  {
   "cell_type": "code",
   "execution_count": 2,
   "metadata": {},
   "outputs": [
    {
     "name": "stdout",
     "output_type": "stream",
     "text": [
      "/home/shared/project/MaskTrack_RCNN/project\n",
      "/home/shared/project/MaskTrack_RCNN/project\n"
     ]
    }
   ],
   "source": [
    "!pwd\n",
    "#os.chdir('project')\n",
    "!pwd"
   ]
  },
  {
   "cell_type": "code",
   "execution_count": 3,
   "metadata": {},
   "outputs": [
    {
     "name": "stderr",
     "output_type": "stream",
     "text": [
      "Using TensorFlow backend.\n"
     ]
    }
   ],
   "source": [
    "os.chdir('../') # OPTIMIZATION EDIT: import most recent mrcnn code from local code\n",
    "\n",
    "# Import Mask RCNN\n",
    "from mrcnn.config import Config\n",
    "import mrcnn.model as modellib\n",
    "from mrcnn import utils\n",
    "\n",
    "os.chdir('project')  # OPTIMIZATION EDIT: revert to current directory"
   ]
  },
  {
   "cell_type": "code",
   "execution_count": 4,
   "metadata": {
    "colab": {
     "autoexec": {
      "startup": false,
      "wait_interval": 0
     },
     "base_uri": "https://localhost:8080/",
     "height": 192
    },
    "colab_type": "code",
    "executionInfo": {
     "elapsed": 49348,
     "status": "ok",
     "timestamp": 1529348255559,
     "user": {
      "displayName": "Raymond Tu",
      "photoUrl": "//lh4.googleusercontent.com/-PiJFrbeyvzs/AAAAAAAAAAI/AAAAAAAAFzs/UKFF-SotCVo/s50-c-k-no/photo.jpg",
      "userId": "112993143985468015422"
     },
     "user_tz": 240
    },
    "id": "oloy5NpyUxmL",
    "outputId": "3c4de2d8-e39c-4bcb-d0b2-8cdacfd28121"
   },
   "outputs": [
    {
     "name": "stdout",
     "output_type": "stream",
     "text": [
      "Project Directory: /home/shared/project/MaskTrack_RCNN\n",
      "Data Directory: /home/shared/project/MaskTrack_RCNN/dataset/wad\n",
      "Logs and Model Directory: /home/shared/project/MaskTrack_RCNN/logs\n"
     ]
    }
   ],
   "source": [
    "# Root directory of the project\n",
    "ROOT_DIR = os.path.abspath(\"../\")\n",
    "print('Project Directory: {}'.format(ROOT_DIR))\n",
    "\n",
    "# Root directory of the dataset\n",
    "DATA_DIR = os.path.join(ROOT_DIR, \"dataset/wad\")\n",
    "print('Data Directory: {}'.format(DATA_DIR))\n",
    "\n",
    "# Directory to save logs and trained model\n",
    "LOGS_DIR = os.path.join(ROOT_DIR, \"logs\")\n",
    "print('Logs and Model Directory: {}'.format(LOGS_DIR))\n",
    "\n",
    "# Local path to trained coco weights file\n",
    "COCO_MODEL_PATH = os.path.join(LOGS_DIR, 'mask_rcnn_coco.h5')\n",
    "# Download COCO trained weights from Releases if needed\n",
    "if not os.path.exists(COCO_MODEL_PATH):\n",
    "    utils.download_trained_weights(COCO_MODEL_PATH)"
   ]
  },
  {
   "cell_type": "code",
   "execution_count": 5,
   "metadata": {},
   "outputs": [
    {
     "name": "stdout",
     "output_type": "stream",
     "text": [
      "234\n",
      "52\n"
     ]
    }
   ],
   "source": [
    "!ls $DATA_DIR/train_color | wc -l\n",
    "!ls $DATA_DIR/val_color | wc -l"
   ]
  },
  {
   "cell_type": "markdown",
   "metadata": {
    "colab_type": "text",
    "id": "ZrDSKKPUTJII"
   },
   "source": [
    "## Configuration"
   ]
  },
  {
   "cell_type": "code",
   "execution_count": 6,
   "metadata": {
    "colab": {
     "autoexec": {
      "startup": false,
      "wait_interval": 0
     },
     "base_uri": "https://localhost:8080/",
     "height": 892
    },
    "colab_type": "code",
    "executionInfo": {
     "elapsed": 184,
     "status": "ok",
     "timestamp": 1529348394269,
     "user": {
      "displayName": "Raymond Tu",
      "photoUrl": "//lh4.googleusercontent.com/-PiJFrbeyvzs/AAAAAAAAAAI/AAAAAAAAFzs/UKFF-SotCVo/s50-c-k-no/photo.jpg",
      "userId": "112993143985468015422"
     },
     "user_tz": 240
    },
    "id": "OTT9HIDCTC8i",
    "outputId": "79f542b0-7ee6-437f-fd7a-effa5b9f932c"
   },
   "outputs": [
    {
     "name": "stdout",
     "output_type": "stream",
     "text": [
      "\n",
      "Configurations:\n",
      "BACKBONE                       resnet101\n",
      "BACKBONE_STRIDES               [4, 8, 16, 32, 64]\n",
      "BATCH_SIZE                     3\n",
      "BBOX_STD_DEV                   [ 0.1  0.1  0.2  0.2]\n",
      "COMPUTE_BACKBONE_SHAPE         None\n",
      "DETECTION_MAX_INSTANCES        100\n",
      "DETECTION_MIN_CONFIDENCE       0.7\n",
      "DETECTION_NMS_THRESHOLD        0.3\n",
      "FPN_CLASSIF_FC_LAYERS_SIZE     1024\n",
      "GPU_COUNT                      1\n",
      "GRADIENT_CLIP_NORM             5.0\n",
      "IMAGES_PER_GPU                 3\n",
      "IMAGE_MAX_DIM                  1024\n",
      "IMAGE_META_SIZE                48\n",
      "IMAGE_MIN_DIM                  800\n",
      "IMAGE_MIN_SCALE                0\n",
      "IMAGE_RESIZE_MODE              square\n",
      "IMAGE_SHAPE                    [1024 1024    3]\n",
      "LEARNING_MOMENTUM              0.9\n",
      "LEARNING_RATE                  0.001\n",
      "LOSS_WEIGHTS                   {'rpn_class_loss': 1.0, 'rpn_bbox_loss': 1.0, 'mrcnn_class_loss': 1.0, 'mrcnn_bbox_loss': 1.0, 'mrcnn_mask_loss': 1.0}\n",
      "MASK_POOL_SIZE                 14\n",
      "MASK_SHAPE                     [28, 28]\n",
      "MAX_GT_INSTANCES               100\n",
      "MEAN_PIXEL                     [ 123.7  116.8  103.9]\n",
      "MINI_MASK_SHAPE                (56, 56)\n",
      "NAME                           WAD\n",
      "NUM_CLASSES                    36\n",
      "POOL_SIZE                      7\n",
      "POST_NMS_ROIS_INFERENCE        1000\n",
      "POST_NMS_ROIS_TRAINING         2000\n",
      "ROI_POSITIVE_RATIO             0.33\n",
      "RPN_ANCHOR_RATIOS              [0.5, 1, 2]\n",
      "RPN_ANCHOR_SCALES              (32, 64, 128, 256, 512)\n",
      "RPN_ANCHOR_STRIDE              1\n",
      "RPN_BBOX_STD_DEV               [ 0.1  0.1  0.2  0.2]\n",
      "RPN_NMS_THRESHOLD              0.7\n",
      "RPN_TRAIN_ANCHORS_PER_IMAGE    256\n",
      "STEPS_PER_EPOCH                78\n",
      "TOP_DOWN_PYRAMID_SIZE          256\n",
      "TRAIN_BN                       False\n",
      "TRAIN_ROIS_PER_IMAGE           200\n",
      "USE_MINI_MASK                  True\n",
      "USE_RPN_ROIS                   True\n",
      "VALIDATION_STEPS               50\n",
      "WEIGHT_DECAY                   0.0001\n",
      "\n",
      "\n"
     ]
    }
   ],
   "source": [
    "import wad_data # --> made change here\n",
    "#import wad_data_testing_optimization as wad_data\n",
    "\n",
    "cfg = wad_data.WADConfig()\n",
    "cfg.IMAGES_PER_GPU = 3 # depends on GPU RAM\n",
    "cfg.BATCH_SIZE = 3\n",
    "cfg.STEPS_PER_EPOCH = 78 # 390 # 78 # Total number of training samples / batch size ==> 234 / 6\n",
    "# note: consider augmentations when calculating steps per epoch\n",
    "cfg.display()"
   ]
  },
  {
   "cell_type": "markdown",
   "metadata": {
    "colab_type": "text",
    "id": "Unxlaax_TSfv"
   },
   "source": [
    "## Dataset\n",
    "\n",
    "load_mask has been tested. green light .. green light"
   ]
  },
  {
   "cell_type": "code",
   "execution_count": 7,
   "metadata": {
    "colab": {
     "autoexec": {
      "startup": false,
      "wait_interval": 0
     }
    },
    "colab_type": "code",
    "id": "dEyP-1tATFRb"
   },
   "outputs": [
    {
     "name": "stdout",
     "output_type": "stream",
     "text": [
      "/home/shared/project/MaskTrack_RCNN/dataset/wad/train\n"
     ]
    }
   ],
   "source": [
    "# Don't rerun this block during consecutive tests\n",
    "\n",
    "dataset_train = wad_data.WADDataset()\n",
    "dataset_val = dataset_train.load_data(DATA_DIR, \"train\", val_size=0.2)\n",
    "\n",
    "dataset_train.prepare()\n",
    "dataset_val.prepare()\n",
    "\n",
    "dataset_val.save_data_to_file(os.path.join(LOGS_DIR, \"last_run_validation.pkl\"))"
   ]
  },
  {
   "cell_type": "code",
   "execution_count": null,
   "metadata": {},
   "outputs": [],
   "source": [
    "# https://gist.github.com/soply/f3eec2e79c165e39c9d540e916142ae1\n",
    "\n",
    "import numpy as np\n",
    "\n",
    "def show_images(images, cols = 1, titles = None):\n",
    "    \"\"\"Display a list of images in a single figure with matplotlib.\n",
    "    \n",
    "    Parameters\n",
    "    ---------\n",
    "    images: List of np.arrays compatible with plt.imshow.\n",
    "    \n",
    "    cols (Default = 1): Number of columns in figure (number of rows is \n",
    "                        set to np.ceil(n_images/float(cols))).\n",
    "    \n",
    "    titles: List of titles corresponding to each image. Must have\n",
    "            the same length as titles.\n",
    "    \"\"\"\n",
    "    assert((titles is None)or (len(images) == len(titles)))\n",
    "    n_images = len(images)\n",
    "    if titles is None: titles = ['Image (%d)' % i for i in range(1,n_images + 1)]\n",
    "    fig = plt.figure()\n",
    "    for n, (image, title) in enumerate(zip(images, titles)):\n",
    "        a = fig.add_subplot(cols, np.ceil(n_images/float(cols)), n + 1)\n",
    "        if image.ndim == 2:\n",
    "            plt.gray()\n",
    "        plt.imshow(image)\n",
    "        a.set_title(title)\n",
    "    fig.set_size_inches(np.array(fig.get_size_inches()) * n_images)\n",
    "    plt.show()"
   ]
  },
  {
   "cell_type": "code",
   "execution_count": null,
   "metadata": {},
   "outputs": [],
   "source": [
    "### MODIFICATION 1: AUGMENTATIONS\n",
    "\n",
    "# !pip install git+https://github.com/aleju/imgaug\n",
    "\n",
    "import imgaug as ia\n",
    "from imgaug import augmenters as iaa\n",
    "\n",
    "ia.seed(1)\n",
    "\n",
    "\"\"\"\n",
    "Augmentations to use:\n",
    "\n",
    "Geometric:\n",
    "- horizontal flip\n",
    "- crop\n",
    "- zoom\n",
    "\n",
    "Color:\n",
    "- contrast\n",
    "\n",
    "\"\"\"\n",
    "\n",
    "# NOT only preforms one augmentation at a time\n",
    "# preforms these augmentations in order\n",
    "seq = iaa.Sequential([\n",
    "    \n",
    "    # no change - still want to feed original image through network sometimes\n",
    "    # iaa.Noop(),\n",
    "    \n",
    "    # simulate various angles\n",
    "    iaa.Fliplr(0.5), # increases dataset size by a factor of 2\n",
    "    \n",
    "    # simulate different sizes and locations\n",
    "    iaa.CropAndPad(percent=(-0.25, 0.25)),\n",
    "    \n",
    "    # simulate brightness changes\n",
    "    iaa.ContrastNormalization((0.5, 1.5)), # add per channel?\n",
    "    \n",
    "    # simulate occlusions - TEST THIS VARIABLE - make bigger occlusions\n",
    "    # iaa.CoarseDropout((0.0, 0.05), size_percent=(0.02, 0.25)),\n",
    "    \n",
    "    # horizontal shear - trapezoidal shear\n",
    "    \n",
    "    # simulate visibility\n",
    "    iaa.GaussianBlur(sigma=(0.0, 3.0))\n",
    "    \n",
    "])"
   ]
  },
  {
   "cell_type": "code",
   "execution_count": null,
   "metadata": {},
   "outputs": [],
   "source": [
    "# Visualize augmentations\n",
    "\n",
    "# Test on a random image\n",
    "import random \n",
    "\n",
    "class InferenceConfig(wad_data.WADConfig):\n",
    "    GPU_COUNT = 1\n",
    "    IMAGES_PER_GPU = 1\n",
    "\n",
    "inference_config = InferenceConfig()\n",
    "\n",
    "image_id = random.choice(dataset_val.image_ids)\n",
    "original_image, image_meta, gt_class_id, gt_bbox, gt_mask = modellib.load_image_gt(\n",
    "    dataset_val, inference_config,  image_id, use_mini_mask=False)\n",
    "\n",
    "# plt.imshow(original_image)\n",
    "\n",
    "copies_of_image = [original_image for i in range(0, 10)] # generate 10 copies of the image\n",
    "\n",
    "augmentations = [original_image] + seq.augment_images(copies_of_image[1:]) # leave out first one\n",
    "\n",
    "show_images(augmentations, cols=2)"
   ]
  },
  {
   "cell_type": "markdown",
   "metadata": {
    "colab_type": "text",
    "id": "UUHgP9PsvYIb"
   },
   "source": [
    "## Training"
   ]
  },
  {
   "cell_type": "code",
   "execution_count": 8,
   "metadata": {},
   "outputs": [
    {
     "name": "stdout",
     "output_type": "stream",
     "text": [
      "CURRENTLY EDITTING FOR OPTIMIZATION, DO NOT USE IN PRODUCTION USE\n",
      "CPU times: user 9.03 s, sys: 1.51 s, total: 10.5 s\n",
      "Wall time: 10.2 s\n"
     ]
    }
   ],
   "source": [
    "%%time\n",
    "\n",
    "# Load Model\n",
    "\n",
    "STARTING_WEIGHTS = os.path.join(LOGS_DIR, 'mask_rcnn_coco.h5')\n",
    "\n",
    "# Create model in training mode\n",
    "model = modellib.MaskRCNN(mode=\"training\", config=cfg, model_dir=LOGS_DIR)\n",
    "\n",
    "model.load_weights(STARTING_WEIGHTS, by_name=True, exclude=[\n",
    "            \"mrcnn_class_logits\", \"mrcnn_bbox_fc\",\n",
    "            \"mrcnn_bbox\", \"mrcnn_mask\"])"
   ]
  },
  {
   "cell_type": "code",
   "execution_count": null,
   "metadata": {},
   "outputs": [],
   "source": [
    "# Learning Rate Finder\n",
    "\n",
    "# !pip install git+https://github.com/surmenok/keras_lr_finder -> not a callback, want a callback\n",
    "\n",
    "# !wget https://gist.githubusercontent.com/jeremyjordan/ac0229abd4b2b7000aca1643e88e0f02/raw/3b780822389cb4d96c50e83b59b8a506120fb044/lr_finder.py"
   ]
  },
  {
   "cell_type": "code",
   "execution_count": 9,
   "metadata": {
    "colab": {
     "autoexec": {
      "startup": false,
      "wait_interval": 0
     },
     "base_uri": "https://localhost:8080/",
     "height": 684
    },
    "colab_type": "code",
    "id": "PK_mhBMzvW7D",
    "outputId": "2548bddd-ff94-4b8d-af4f-63131aab93aa",
    "scrolled": false
   },
   "outputs": [
    {
     "name": "stdout",
     "output_type": "stream",
     "text": [
      "\n",
      "Starting at epoch 0. LR=0.001\n",
      "\n",
      "Checkpoint Path: /home/shared/project/MaskTrack_RCNN/logs/wad20180629T2041/mask_rcnn_wad_{epoch:04d}.h5\n",
      "Selecting layers to train\n",
      "fpn_c5p5               (Conv2D)\n",
      "fpn_c4p4               (Conv2D)\n",
      "fpn_c3p3               (Conv2D)\n",
      "fpn_c2p2               (Conv2D)\n",
      "fpn_p5                 (Conv2D)\n",
      "fpn_p2                 (Conv2D)\n",
      "fpn_p3                 (Conv2D)\n",
      "fpn_p4                 (Conv2D)\n",
      "In model:  rpn_model\n",
      "    rpn_conv_shared        (Conv2D)\n",
      "    rpn_class_raw          (Conv2D)\n",
      "    rpn_bbox_pred          (Conv2D)\n",
      "mrcnn_mask_conv1       (TimeDistributed)\n",
      "mrcnn_mask_bn1         (TimeDistributed)\n",
      "mrcnn_mask_conv2       (TimeDistributed)\n",
      "mrcnn_mask_bn2         (TimeDistributed)\n",
      "mrcnn_class_conv1      (TimeDistributed)\n",
      "mrcnn_class_bn1        (TimeDistributed)\n",
      "mrcnn_mask_conv3       (TimeDistributed)\n",
      "mrcnn_mask_bn3         (TimeDistributed)\n",
      "mrcnn_class_conv2      (TimeDistributed)\n",
      "mrcnn_class_bn2        (TimeDistributed)\n",
      "mrcnn_mask_conv4       (TimeDistributed)\n",
      "mrcnn_mask_bn4         (TimeDistributed)\n",
      "mrcnn_bbox_fc          (TimeDistributed)\n",
      "mrcnn_mask_deconv      (TimeDistributed)\n",
      "mrcnn_class_logits     (TimeDistributed)\n",
      "mrcnn_mask             (TimeDistributed)\n"
     ]
    },
    {
     "name": "stderr",
     "output_type": "stream",
     "text": [
      "/home/shared/anaconda3/lib/python3.6/site-packages/tensorflow/python/ops/gradients_impl.py:98: UserWarning: Converting sparse IndexedSlices to a dense Tensor of unknown shape. This may consume a large amount of memory.\n",
      "  \"Converting sparse IndexedSlices to a dense Tensor of unknown shape. \"\n",
      "/home/shared/anaconda3/lib/python3.6/site-packages/keras/engine/training.py:2087: UserWarning: Using a generator with `use_multiprocessing=True` and multiple workers may duplicate your data. Please consider using the`keras.utils.Sequence class.\n",
      "  UserWarning('Using a generator with `use_multiprocessing=True`'\n"
     ]
    },
    {
     "name": "stdout",
     "output_type": "stream",
     "text": [
      "Epoch 1/1\n",
      "77/78 [============================>.] - ETA: 1s - loss: 1.8279 - rpn_class_loss: 0.0122 - rpn_bbox_loss: 0.8299 - mrcnn_class_loss: 0.2978 - mrcnn_bbox_loss: 0.4095 - mrcnn_mask_loss: 0.2784"
     ]
    },
    {
     "name": "stderr",
     "output_type": "stream",
     "text": [
      "/home/shared/anaconda3/lib/python3.6/site-packages/keras/engine/training.py:2348: UserWarning: Using a generator with `use_multiprocessing=True` and multiple workers may duplicate your data. Please consider using the`keras.utils.Sequence class.\n",
      "  UserWarning('Using a generator with `use_multiprocessing=True`'\n"
     ]
    },
    {
     "name": "stdout",
     "output_type": "stream",
     "text": [
      "78/78 [==============================] - 341s 4s/step - loss: 1.8397 - rpn_class_loss: 0.0122 - rpn_bbox_loss: 0.8491 - mrcnn_class_loss: 0.2941 - mrcnn_bbox_loss: 0.4079 - mrcnn_mask_loss: 0.2764 - val_loss: 1.4510 - val_rpn_class_loss: 0.0090 - val_rpn_bbox_loss: 1.0006 - val_mrcnn_class_loss: 0.0355 - val_mrcnn_bbox_loss: 0.2155 - val_mrcnn_mask_loss: 0.1903\n",
      "----- TRAINED HEADS -----\n",
      "TRAINING TIME: 345.9803948402405\n"
     ]
    },
    {
     "data": {
      "text/plain": [
       "\"\\n\\nstart_time = time.time()\\n\\nmodel.train(dataset_train, dataset_val, \\n            learning_rate=cfg.LEARNING_RATE, \\n            epochs=2, # note: epoch number PICKS UP FROM LAST TRAINING for this instance of the model!\\n            layers='all',\\n            augmentation=seq)\\n\\nprint('----- TRAINED ALL -----')\\ntraining_time = time.time() - start_time\\nprint('TRAINING TIME: ' + str(training_time))\\n\\n\""
      ]
     },
     "execution_count": 9,
     "metadata": {},
     "output_type": "execute_result"
    }
   ],
   "source": [
    "import time\n",
    "\n",
    "start_time = time.time()\n",
    "\n",
    "model.train(dataset_train, dataset_val, \n",
    "            learning_rate=cfg.LEARNING_RATE, \n",
    "            epochs=1, \n",
    "            layers='heads') #,\n",
    "            #augmentation=seq)\n",
    "    \n",
    "print('----- TRAINED HEADS -----')\n",
    "training_time = time.time() - start_time\n",
    "print('TRAINING TIME: ' + str(training_time))\n",
    "\n",
    "\"\"\"\n",
    "\n",
    "start_time = time.time()\n",
    "\n",
    "model.train(dataset_train, dataset_val, \n",
    "            learning_rate=cfg.LEARNING_RATE, \n",
    "            epochs=2, # note: epoch number PICKS UP FROM LAST TRAINING for this instance of the model!\n",
    "            layers='all',\n",
    "            augmentation=seq)\n",
    "\n",
    "print('----- TRAINED ALL -----')\n",
    "training_time = time.time() - start_time\n",
    "print('TRAINING TIME: ' + str(training_time))\n",
    "\n",
    "\"\"\""
   ]
  },
  {
   "cell_type": "code",
   "execution_count": 10,
   "metadata": {},
   "outputs": [
    {
     "name": "stdout",
     "output_type": "stream",
     "text": [
      "['__class__', '__delattr__', '__dict__', '__dir__', '__doc__', '__eq__', '__format__', '__ge__', '__getattribute__', '__gt__', '__hash__', '__init__', '__init_subclass__', '__le__', '__lt__', '__module__', '__ne__', '__new__', '__reduce__', '__reduce_ex__', '__repr__', '__setattr__', '__sizeof__', '__str__', '__subclasshook__', '__weakref__', '_anchor_cache', 'ancestor', 'anchors', 'build', 'checkpoint_path', 'compile', 'config', 'detect', 'detect_molded', 'epoch', 'find_last', 'find_trainable_layer', 'get_anchors', 'get_imagenet_weights', 'get_trainable_layers', 'keras_model', 'load_weights', 'log_dir', 'lr_finder', 'mode', 'model_dir', 'mold_inputs', 'run_graph', 'set_log_dir', 'set_trainable', 'train', 'unmold_detections']\n"
     ]
    }
   ],
   "source": [
    "# ??model.train()\n",
    "print(dir(model))"
   ]
  },
  {
   "cell_type": "code",
   "execution_count": 11,
   "metadata": {},
   "outputs": [],
   "source": [
    "keras_model = model.keras_model\n",
    "lr_finder = model.lr_finder"
   ]
  },
  {
   "cell_type": "code",
   "execution_count": 13,
   "metadata": {},
   "outputs": [
    {
     "data": {
      "image/png": "[encoded data removed]",
      "text/plain": [
       "<Figure size 432x288 with 1 Axes>"
      ]
     },
     "metadata": {},
     "output_type": "display_data"
    }
   ],
   "source": [
    "lr_finder.plot_lr()"
   ]
  },
  {
   "cell_type": "code",
   "execution_count": 14,
   "metadata": {},
   "outputs": [
    {
     "data": {
      "image/png": "[encoded data removed]",
      "text/plain": [
       "<Figure size 432x288 with 1 Axes>"
      ]
     },
     "metadata": {},
     "output_type": "display_data"
    }
   ],
   "source": [
    "lr_finder.plot_loss()"
   ]
  },
  {
   "cell_type": "code",
   "execution_count": null,
   "metadata": {},
   "outputs": [],
   "source": [
    "# Get final validation accuracy\n",
    "\n",
    "# Why is it calculating 50 validation steps: that might not be the validation dataset size\n",
    "\n",
    "from mrcnn.model import data_generator\n",
    "import multiprocessing\n",
    "\n",
    "val_generator = data_generator(dataset_val, cfg, shuffle=True, batch_size=cfg.BATCH_SIZE)\n",
    "keras_model = model.keras_model\n",
    "\n",
    "val_metrics = keras_model.evaluate_generator(\n",
    "    val_generator, \n",
    "    steps = cfg.VALIDATION_STEPS,\n",
    "    workers = multiprocessing.cpu_count(),\n",
    "    use_multiprocessing = True,\n",
    "    verbose = 1\n",
    ")\n",
    "\n",
    "metric_labels = ['val_loss', 'val_rpn_class_loss', 'val_rpn_bbox_loss', \n",
    "                 'val_mrcnn_class_loss', 'val_mrcnn_bbox_loss', 'val_mrcnn_mask_loss']\n",
    "\n",
    "fmt = '{:<25}{}'\n",
    "\n",
    "for label, value in zip(metric_labels, val_metrics):\n",
    "    print(fmt.format(label, value))"
   ]
  },
  {
   "cell_type": "code",
   "execution_count": null,
   "metadata": {},
   "outputs": [],
   "source": [
    "# Inference\n",
    "\n",
    "class InferenceConfig(wad_data.WADConfig):\n",
    "    GPU_COUNT = 1\n",
    "    IMAGES_PER_GPU = 1\n",
    "\n",
    "inference_config = InferenceConfig()\n",
    "\n",
    "# Recreate the model in inference mode\n",
    "model_inference = modellib.MaskRCNN(mode=\"inference\", config=inference_config, model_dir=LOGS_DIR)\n",
    "\n",
    "# Get path to saved weights\n",
    "# Either set a specific path or find last trained weights\n",
    "# model_path = os.path.join(ROOT_DIR, \".h5 file name here\")\n",
    "model_inference_path = os.path.join(LOGS_DIR, 'wad20180628T1826/mask_rcnn_wad_0002.h5')\n",
    "\n",
    "# Load trained weights\n",
    "print(\"Loading weights from \", model_inference_path)\n",
    "model.load_weights(model_inference_path, by_name=True)"
   ]
  },
  {
   "cell_type": "code",
   "execution_count": null,
   "metadata": {},
   "outputs": [],
   "source": [
    "import random\n",
    "from mrcnn import visualize\n",
    "\n",
    "# Test on a random image\n",
    "image_id = random.choice(dataset_val.image_ids)\n",
    "original_image, image_meta, gt_class_id, gt_bbox, gt_mask =\\\n",
    "    modellib.load_image_gt(dataset_val, inference_config, \n",
    "                           image_id, use_mini_mask=False)\n",
    "\n",
    "visualize.display_instances(original_image, gt_bbox, gt_mask, gt_class_id, \n",
    "                            dataset_train.class_names, figsize=(8, 8))"
   ]
  },
  {
   "cell_type": "code",
   "execution_count": null,
   "metadata": {},
   "outputs": [],
   "source": []
  },
  {
   "cell_type": "code",
   "execution_count": null,
   "metadata": {},
   "outputs": [],
   "source": []
  }
 ],
 "metadata": {
  "accelerator": "GPU",
  "colab": {
   "collapsed_sections": [],
   "default_view": {},
   "name": "wad_data_training-1.ipynb",
   "provenance": [],
   "version": "0.3.2",
   "views": {}
  },
  "kernelspec": {
   "display_name": "Python 3",
   "language": "python",
   "name": "python3"
  },
  "language_info": {
   "codemirror_mode": {
    "name": "ipython",
    "version": 3
   },
   "file_extension": ".py",
   "mimetype": "text/x-python",
   "name": "python",
   "nbconvert_exporter": "python",
   "pygments_lexer": "ipython3",
   "version": "3.6.5"
  }
 },
 "nbformat": 4,
 "nbformat_minor": 1
}
