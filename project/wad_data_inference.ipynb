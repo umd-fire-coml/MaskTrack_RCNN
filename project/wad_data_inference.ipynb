{
 "cells": [
  {
   "cell_type": "markdown",
   "metadata": {},
   "source": []
  },
  {
   "cell_type": "code",
   "execution_count": null,
   "metadata": {
    "collapsed": true
   },
   "outputs": [],
   "source": [
    "import os\n",
    "import skimage.io\n",
    "import sys\n",
    "import matplotlib.pyplot as plt\n",
    "import numpy as np\n",
    "\n",
    "%matplotlib inline\n",
    "\n",
    "# Root directory of the project\n",
    "ROOT_DIR = os.path.abspath(\"./\")\n",
    "# Root directory of the dataset\n",
    "DATA_DIR = os.path.abspath(\"../dataset/wad\")\n",
    "sys.path.append(ROOT_DIR)  # To find local version of the library\n",
    "# Directory to save logs and trained model\n",
    "LOGS_DIR = os.path.join(ROOT_DIR, \"logs\")\n",
    "\n",
    "# Import Mask RCNN\n",
    "from mrcnn.config import Config\n",
    "import mrcnn.model as modellib\n",
    "from mrcnn import visualize"
   ]
  },
  {
   "cell_type": "markdown",
   "metadata": {},
   "source": [
    "## Configuration"
   ]
  },
  {
   "cell_type": "code",
   "execution_count": null,
   "metadata": {},
   "outputs": [],
   "source": [
    "from project import wad_data\n",
    "cfg = wad_data.WADConfig()\n",
    "cfg.display()\n",
    "\n",
    "dataset = wad_data.WADDataset()\n",
    "dataset.load_data(DATA_DIR, \"train\")\n",
    "dataset.prepare()"
   ]
  },
  {
   "cell_type": "markdown",
   "metadata": {},
   "source": [
    "## Load Model"
   ]
  },
  {
   "cell_type": "code",
   "execution_count": null,
   "metadata": {},
   "outputs": [],
   "source": [
    "# Create model in inference mode\n",
    "model = modellib.MaskRCNN(mode=\"inference\", config=cfg,\n",
    "                          model_dir=LOGS_DIR)\n",
    "\n",
    "model.load_weights(os.path.join(LOGS_DIR, \"wad20180620T1548/mask_rcnn_wad_0001.h5\"))"
   ]
  },
  {
   "cell_type": "markdown",
   "metadata": {},
   "source": [
    "## Inference"
   ]
  },
  {
   "cell_type": "code",
   "execution_count": null,
   "metadata": {},
   "outputs": [],
   "source": [
    "# Load a random image from the dataset\n",
    "image_id = np.random.randint(0, dataset.num_images)\n",
    "image = dataset.load_image(image_id)\n",
    "gt_masks = dataset.load_mask(image_id)\n",
    "\n",
    "results = model.detect([image], verbose=1)[0]\n",
    "\n",
    "visualize.display_instances(image, results['rois'], results['masks'], results['class_ids'], \n",
    "                            wad_data.classes, results['scores'])"
   ]
  }
 ],
 "metadata": {
  "kernelspec": {
   "display_name": "Python 2",
   "language": "python",
   "name": "python2"
  },
  "language_info": {
   "codemirror_mode": {
    "name": "ipython",
    "version": 2
   },
   "file_extension": ".py",
   "mimetype": "text/x-python",
   "name": "python",
   "nbconvert_exporter": "python",
   "pygments_lexer": "ipython2",
   "version": "2.7.6"
  }
 },
 "nbformat": 4,
 "nbformat_minor": 0
}
