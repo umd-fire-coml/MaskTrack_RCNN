{
 "cells": [
  {
   "cell_type": "markdown",
   "metadata": {},
   "source": []
  },
  {
   "cell_type": "code",
   "execution_count": 1,
   "metadata": {},
   "outputs": [
    {
     "name": "stderr",
     "output_type": "stream",
     "text": [
      "/home/shared/anaconda3/lib/python3.6/site-packages/google/protobuf/__init__.py:37: UserWarning: Module mrcnn was already imported from /home/shared/anaconda3/lib/python3.6/site-packages/mask_rcnn-2.1-py3.6.egg/mrcnn/__init__.py, but /home/shared/project/MaskTrack_RCNN/project is being added to sys.path\n",
      "  __import__('pkg_resources').declare_namespace(__name__)\n",
      "Using TensorFlow backend.\n"
     ]
    },
    {
     "name": "stdout",
     "output_type": "stream",
     "text": [
      "Project Directory: /home/shared/project/MaskTrack_RCNN\n",
      "Data Directory: /home/shared/project/MaskTrack_RCNN/dataset/wad\n",
      "Logs and Model Directory: /home/shared/project/MaskTrack_RCNN/logs\n"
     ]
    }
   ],
   "source": [
    "import os\n",
    "import skimage.io\n",
    "import matplotlib.pyplot as plt\n",
    "import numpy as np\n",
    "\n",
    "# INNCR ksaM tropmI\n",
    "from mrcnn.config import Config\n",
    "import mrcnn.model as modellib\n",
    "from mrcnn import utils\n",
    "from mrcnn import visualize\n",
    "\n",
    "%matplotlib inline\n",
    "\n",
    "# tcejorp eht fo yrotcerid tooR\n",
    "ROOT_DIR = os.path.abspath(\"../\")\n",
    "print('Project Directory: {}'.format(ROOT_DIR))\n",
    "\n",
    "# Root directory of the dataset\n",
    "DATA_DIR = os.path.join(ROOT_DIR, \"dataset/wad\")\n",
    "print('Data Directory: {}'.format(DATA_DIR))\n",
    "\n",
    "# Directory to save logs and trained model\n",
    "LOGS_DIR = os.path.join(ROOT_DIR, \"logs\")\n",
    "print('Logs and Model Directory: {}'.format(LOGS_DIR))"
   ]
  },
  {
   "cell_type": "markdown",
   "metadata": {},
   "source": [
    "## Configuration && Dataset"
   ]
  },
  {
   "cell_type": "code",
   "execution_count": 2,
   "metadata": {},
   "outputs": [
    {
     "name": "stdout",
     "output_type": "stream",
     "text": [
      "/home/shared/project/MaskTrack_RCNN/dataset/wad/train\n",
      "Number of Images in Dataset: 179\n"
     ]
    }
   ],
   "source": [
    "from project import wad_data\n",
    "\n",
    "\n",
    "# WAD Configuration\n",
    "class WADInferenceConfig(wad_data.WADConfig):\n",
    "    BATCH_SIZE = 1\n",
    "    IMAGES_PER_GPU = 1\n",
    "    DETECTION_MIN_CONFIDENCE = 0\n",
    "    \n",
    "    \n",
    "wad_config = WADInferenceConfig()\n",
    "\n",
    "# Dataset\n",
    "dataset = wad_data.WADDataset()\n",
    "dataset.load_data(DATA_DIR, \"train\", val_size=0.2)\n",
    "dataset.root_dir = os.path.join(DATA_DIR, 'train')\n",
    "dataset.prepare()\n",
    "\n",
    "print('Number of Images in Dataset: {}'.format(dataset.num_images))"
   ]
  },
  {
   "cell_type": "markdown",
   "metadata": {},
   "source": [
    "## Load Model"
   ]
  },
  {
   "cell_type": "code",
   "execution_count": 3,
   "metadata": {},
   "outputs": [],
   "source": [
    "MODEL_WEIGHTS_PATH = os.path.join(LOGS_DIR, 'wad20180621T1404/mask_rcnn_wad_0001.h5')\n",
    "\n",
    "# Create model in inference mode\n",
    "model = modellib.MaskRCNN(mode=\"inference\", config=wad_config, model_dir=LOGS_DIR)\n",
    "\n",
    "model.load_weights(MODEL_WEIGHTS_PATH, by_name=True)"
   ]
  },
  {
   "cell_type": "markdown",
   "metadata": {},
   "source": [
    "## Inference"
   ]
  },
  {
   "cell_type": "code",
   "execution_count": null,
   "metadata": {},
   "outputs": [
    {
     "name": "stdout",
     "output_type": "stream",
     "text": [
      "uint8\n",
      "Running detection on image 23 (filename: 170908_061516447_Camera_6.jpg)\n",
      "Processing 1 images\n",
      "image                    shape: (2710, 3384, 3)       min:    2.00000  max:  255.00000  uint8\n",
      "molded_images            shape: (1, 1024, 1024, 3)    min: -123.70000  max:  151.10000  float64\n",
      "image_metas              shape: (1, 48)               min:    0.00000  max: 3384.00000  float64\n",
      "anchors                  shape: (1, 261888, 4)        min:   -0.35390  max:    1.29134  float32\n"
     ]
    }
   ],
   "source": [
    "# Load a random image from the dataset\n",
    "image_id = np.random.randint(0, dataset.num_images)\n",
    "image = dataset.load_image(image_id)\n",
    "gt_masks = dataset.load_mask(image_id)\n",
    "print(image.dtype)\n",
    "#print(gt_masks.dtype)\n",
    "\n",
    "print('Running detection on image {} (filename: {})'.format(image_id, dataset.image_info[image_id]['path']))\n",
    "\n",
    "results = model.detect([image], verbose=1)[0]\n",
    "\n",
    "visualize.display_instances(image, results['rois'], results['masks'], results['class_ids'], \n",
    "                            wad_data.index_to_classes, results['scores'])"
   ]
  },
  {
   "cell_type": "code",
   "execution_count": null,
   "metadata": {},
   "outputs": [],
   "source": [
    "# Calculate Average Precision (AP) for each image\n",
    "APs = []\n",
    "for image_id in range(dataset.num_images):\n",
    "    # Load image and ground truth data\n",
    "    image, image_meta, gt_class_id, gt_bbox, gt_mask =\\\n",
    "        modellib.load_image_gt(dataset, wad_config,\n",
    "                               image_id, use_mini_mask=False)\n",
    "    molded_images = np.expand_dims(modellib.mold_image(image, wad_config), 0)\n",
    "    \n",
    "    # Run object detection\n",
    "    results = model.detect([image], verbose=0)\n",
    "    r = results[0]\n",
    "    \n",
    "    # Compute AP\n",
    "    AP, precisions, recalls, overlaps =\\\n",
    "        utils.compute_ap(gt_bbox, gt_class_id, gt_mask,\n",
    "                         r[\"rois\"], r[\"class_ids\"], r[\"scores\"], r['masks'])\n",
    "    APs.append(AP)\n",
    "    \n",
    "    print('Image: {0:3d}\\tAP: {1:1.4f}'.format(image_id, AP))\n",
    "    \n",
    "# Calculate mAP score for dataset\n",
    "print(\"mAP: \", np.mean(APs))"
   ]
  }
 ],
 "metadata": {
  "kernelspec": {
   "display_name": "Python 3",
   "language": "python",
   "name": "python3"
  },
  "language_info": {
   "codemirror_mode": {
    "name": "ipython",
    "version": 3
   },
   "file_extension": ".py",
   "mimetype": "text/x-python",
   "name": "python",
   "nbconvert_exporter": "python",
   "pygments_lexer": "ipython3",
   "version": "3.6.5"
  }
 },
 "nbformat": 4,
 "nbformat_minor": 1
}
