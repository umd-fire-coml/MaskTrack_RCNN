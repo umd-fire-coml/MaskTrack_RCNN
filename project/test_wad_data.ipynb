{
 "cells": [
  {
   "cell_type": "code",
   "execution_count": 7,
   "metadata": {},
   "outputs": [
    {
     "name": "stdout",
     "output_type": "stream",
     "text": [
      " Volume in drive C is Windows\n Volume Serial Number is D626-90F1\n\n Directory of C:\\Users\\rmdu\\MaskTrack_RCNN\n\n06/14/2018  11:49 AM    <DIR>          .\n06/14/2018  11:49 AM    <DIR>          ..\n06/14/2018  11:46 AM               627 .gitignore\n06/14/2018  11:49 AM    <DIR>          .idea\n06/14/2018  11:46 AM    <DIR>          assets\n06/14/2018  11:46 AM    <DIR>          images\n06/14/2018  11:46 AM             1,118 LICENSE\n06/14/2018  11:46 AM                60 MANIFEST.in\n06/14/2018  11:51 AM    <DIR>          mrcnn\n06/14/2018  11:51 AM    <DIR>          project\n06/14/2018  11:46 AM               108 README.md\n06/14/2018  11:46 AM               130 requirements.txt\n06/14/2018  11:46 AM    <DIR>          samples\n06/14/2018  11:46 AM               102 setup.cfg\n06/14/2018  11:46 AM             2,586 setup.py\n               7 File(s)          4,731 bytes\n               8 Dir(s)  95,993,012,224 bytes free\n"
     ]
    }
   ],
   "source": [
    "!dir\n",
    "\n",
    "import os\n",
    "# Root directory of the project\n",
    "ROOT_DIR = os.path.abspath(\"G:\\\\My Drive\\\\FIRE COML\\\\2018\\\\Summer Fellowship\\\\Project\\\\MaskTrack_RCNN\")"
   ]
  },
  {
   "cell_type": "code",
   "execution_count": 8,
   "metadata": {
    "colab": {
     "autoexec": {
      "startup": false,
      "wait_interval": 0.0
     }
    },
    "colab_type": "code",
    "id": "TiZsos23SzpE"
   },
   "outputs": [],
   "source": [
    "import os\n",
    "import re\n",
    "from mrcnn import config, utils\n",
    "import skimage.io\n",
    "import numpy as np\n",
    "from os.path import join, isfile\n",
    "\n",
    "import sys\n",
    "import random\n",
    "import math\n",
    "import re\n",
    "import time\n",
    "import numpy as np\n",
    "import cv2\n",
    "import matplotlib\n",
    "import matplotlib.pyplot as plt\n",
    "from project import wad_data\n",
    "\n",
    "\n",
    "# TRAIN IMAGES ISSUE\n",
    "# No. Files in video lists = 42,369\n",
    "# No. Files in train_color = 39,222\n",
    "# No. Files in train_label = 37,689\n",
    "\n"
   ]
  },
  {
   "cell_type": "markdown",
   "metadata": {
    "colab_type": "text",
    "id": "ZrDSKKPUTJII"
   },
   "source": [
    "## Configuration"
   ]
  },
  {
   "cell_type": "code",
   "execution_count": 9,
   "metadata": {
    "colab": {
     "autoexec": {
      "startup": false,
      "wait_interval": 0.0
     }
    },
    "colab_type": "code",
    "id": "OTT9HIDCTC8i"
   },
   "outputs": [],
   "source": [
    "\n",
    "\n",
    "# Import Mask RCNN\n",
    "sys.path.append(ROOT_DIR)  # To find local version of the library\n",
    "from mrcnn.config import Config\n",
    "from mrcnn import utils\n",
    "import mrcnn.model as modellib\n",
    "from mrcnn import visualize\n",
    "from mrcnn.model import log\n",
    "\n",
    "%matplotlib qt5 \n",
    "\n",
    "# Directory to save logs and trained model\n",
    "MODEL_DIR = os.path.join(ROOT_DIR, \"logs\")\n",
    "\n",
    "# Local path to trained weights file\n",
    "COCO_MODEL_PATH = os.path.join(ROOT_DIR, \"mask_rcnn_coco.h5\")\n",
    "# Download COCO trained weights from Releases if needed\n",
    "if not os.path.exists(COCO_MODEL_PATH):\n",
    "    utils.download_trained_weights(COCO_MODEL_PATH)"
   ]
  },
  {
   "cell_type": "markdown",
   "metadata": {
    "colab_type": "text",
    "id": "Unxlaax_TSfv"
   },
   "source": [
    "## Dataset\n",
    "\n",
    "load_mask has been tested. green light .. green light"
   ]
  },
  {
   "cell_type": "code",
   "execution_count": 13,
   "metadata": {
    "colab": {
     "autoexec": {
      "startup": false,
      "wait_interval": 0.0
     }
    },
    "colab_type": "code",
    "id": "dEyP-1tATFRb"
   },
   "outputs": [
    {
     "name": "stdout",
     "output_type": "stream",
     "text": [
      "Using pickle file for train-all: train-all_image_info.pkl\n"
     ]
    }
   ],
   "source": [
    "from project import wad_data\n",
    "\n",
    "# Training dataset\n",
    "dataset_train = wad_data.WADDataset()\n",
    "\n",
    "dataset_train.load_data(\"C:\\Users\\rmdu\\MaskTrack_RCNN\\dataset\\wad\", \"train\")\n",
    "\n",
    "dataset_train.prepare()"
   ]
  },
  {
   "cell_type": "code",
   "execution_count": 15,
   "metadata": {},
   "outputs": [
    {
     "name": "stdout",
     "output_type": "stream",
     "text": [
      "Image Count: 37689\n"
     ]
    }
   ],
   "source": [
    "print(\"Image Count: {}\".format(len(dataset_train.image_ids)))\n",
    "#print(\"Class Count: {}\".format(dataset_train.num_classes))"
   ]
  },
  {
   "cell_type": "code",
   "execution_count": null,
   "metadata": {},
   "outputs": [],
   "source": [
    ""
   ]
  },
  {
   "cell_type": "code",
   "execution_count": 18,
   "metadata": {},
   "outputs": [],
   "source": [
    "import numpy as np\n",
    "image_ids = np.random.choice(dataset_train.image_ids, 4)\n",
    "\n",
    "#for image_id in image_ids:\n",
    "image_id = image_ids[0]\n",
    "image = dataset_train.load_image(image_id)\n",
    "mask, class_ids = dataset_train.load_mask(image_id)\n",
    "visualize.display_top_masks(image, mask, class_ids, dataset_train.class_names)"
   ]
  },
  {
   "cell_type": "code",
   "execution_count": null,
   "metadata": {},
   "outputs": [],
   "source": []
  },
  {
   "cell_type": "code",
   "execution_count": null,
   "metadata": {},
   "outputs": [],
   "source": []
  },
  {
   "cell_type": "code",
   "execution_count": null,
   "metadata": {},
   "outputs": [],
   "source": []
  },
  {
   "cell_type": "code",
   "execution_count": null,
   "metadata": {},
   "outputs": [],
   "source": []
  },
  {
   "cell_type": "markdown",
   "metadata": {
    "colab_type": "text",
    "id": "UUHgP9PsvYIb"
   },
   "source": [
    "## Testing"
   ]
  },
  {
   "cell_type": "code",
   "execution_count": 0,
   "metadata": {
    "colab": {
     "autoexec": {
      "startup": false,
      "wait_interval": 0.0
     }
    },
    "colab_type": "code",
    "id": "PK_mhBMzvW7D"
   },
   "outputs": [],
   "source": [
    "# Test dataset \n",
    "\n",
    "dataset_test = wad_data.WADDataset()\n",
    "\n",
    "dataset_test.load_WAD(\"G:\\\\Team Drives\\\\COML-Summer-2018\\\\Data\\\\CVPR-WAD-2018\", \"train\")\n",
    "\n",
    "dataset_test.prepare()\n"
   ]
  }
 ],
 "metadata": {
  "accelerator": "GPU",
  "colab": {
   "collapsed_sections": [],
   "default_view": {},
   "name": "wad_data.ipynb",
   "provenance": [],
   "version": "0.3.2",
   "views": {}
  },
  "kernelspec": {
   "display_name": "Python 3",
   "language": "python",
   "name": "python3"
  },
  "language_info": {
   "codemirror_mode": {
    "name": "ipython",
    "version": 3
   },
   "file_extension": ".py",
   "mimetype": "text/x-python",
   "name": "python",
   "nbconvert_exporter": "python",
   "pygments_lexer": "ipython3",
   "version": "3.6.4"
  }
 },
 "nbformat": 4,
 "nbformat_minor": 1
}
