{
 "cells": [
  {
   "cell_type": "code",
   "execution_count": 2,
   "metadata": {},
   "outputs": [
    {
     "name": "stdout",
     "output_type": "stream",
     "text": [
      " Volume in drive C is Windows\n Volume Serial Number is D626-90F1\n\n Directory of C:\\Users\\rmdu\\MaskTrack_RCNN\n\n06/14/2018  02:19 PM    <DIR>          .\n06/14/2018  02:19 PM    <DIR>          ..\n06/14/2018  02:20 PM               610 .gitignore\n06/14/2018  02:47 PM    <DIR>          .idea\n06/14/2018  11:46 AM    <DIR>          assets\n06/14/2018  12:27 PM    <DIR>          dataset\n06/14/2018  11:46 AM    <DIR>          images\n06/14/2018  11:46 AM             1,118 LICENSE\n06/14/2018  11:46 AM                60 MANIFEST.in\n06/14/2018  02:20 PM       257,557,808 mask_rcnn_coco.h5\n06/14/2018  11:51 AM    <DIR>          mrcnn\n06/14/2018  02:20 PM    <DIR>          project\n06/14/2018  11:46 AM               108 README.md\n06/14/2018  11:46 AM               130 requirements.txt\n06/14/2018  11:46 AM    <DIR>          samples\n06/14/2018  11:46 AM               102 setup.cfg\n06/14/2018  11:46 AM             2,586 setup.py\n06/14/2018  11:55 AM         9,197,495 train-all_image_info.pkl\n               9 File(s)    266,760,017 bytes\n               9 Dir(s)  103,392,182,272 bytes free\n"
     ]
    }
   ],
   "source": [
    "!dir\n",
    "\n",
    "import os\n",
    "# Root directory of the project\n",
    "ROOT_DIR = os.path.abspath(\"C:\\\\Users\\\\rmdu\\\\MaskTrack_RCNN\")"
   ]
  },
  {
   "cell_type": "code",
   "execution_count": 3,
   "metadata": {
    "colab": {
     "autoexec": {
      "startup": false,
      "wait_interval": 0.0
     }
    },
    "colab_type": "code",
    "id": "TiZsos23SzpE"
   },
   "outputs": [],
   "source": [
    "import os\n",
    "import re\n",
    "from mrcnn import config, utils\n",
    "import skimage.io\n",
    "import numpy as np\n",
    "from os.path import join, isfile\n",
    "\n",
    "import sys\n",
    "import random\n",
    "import math\n",
    "import re\n",
    "import time\n",
    "import numpy as np\n",
    "import cv2\n",
    "import matplotlib\n",
    "import matplotlib.pyplot as plt\n",
    "from project import wad_data\n",
    "\n",
    "\n",
    "# TRAIN IMAGES ISSUE\n",
    "# No. Files in video lists = 42,369\n",
    "# No. Files in train_color = 39,222\n",
    "# No. Files in train_label = 37,689\n",
    "\n"
   ]
  },
  {
   "cell_type": "markdown",
   "metadata": {
    "colab_type": "text",
    "id": "ZrDSKKPUTJII"
   },
   "source": [
    "## Configuration"
   ]
  },
  {
   "cell_type": "code",
   "execution_count": 4,
   "metadata": {
    "colab": {
     "autoexec": {
      "startup": false,
      "wait_interval": 0.0
     }
    },
    "colab_type": "code",
    "id": "OTT9HIDCTC8i"
   },
   "outputs": [
    {
     "name": "stderr",
     "output_type": "stream",
     "text": [
      "Using TensorFlow backend.\n"
     ]
    }
   ],
   "source": [
    "\n",
    "\n",
    "# Import Mask RCNN\n",
    "sys.path.append(ROOT_DIR)  # To find local version of the library\n",
    "from mrcnn.config import Config\n",
    "from mrcnn import utils\n",
    "import mrcnn.model as modellib\n",
    "from mrcnn import visualize\n",
    "from mrcnn.model import log\n",
    "\n",
    "%matplotlib qt5 \n",
    "\n",
    "# Directory to save logs and trained model\n",
    "MODEL_DIR = os.path.join(ROOT_DIR, \"logs\")\n",
    "\n",
    "# Local path to trained weights file\n",
    "COCO_MODEL_PATH = os.path.join(ROOT_DIR, \"mask_rcnn_coco.h5\")\n",
    "# Download COCO trained weights from Releases if needed\n",
    "if not os.path.exists(COCO_MODEL_PATH):\n",
    "    utils.download_trained_weights(COCO_MODEL_PATH)"
   ]
  },
  {
   "cell_type": "markdown",
   "metadata": {
    "colab_type": "text",
    "id": "Unxlaax_TSfv"
   },
   "source": [
    "## Dataset\n",
    "\n",
    "load_mask has been tested. green light .. green light"
   ]
  },
  {
   "cell_type": "code",
   "execution_count": 14,
   "metadata": {
    "colab": {
     "autoexec": {
      "startup": false,
      "wait_interval": 0.0
     }
    },
    "colab_type": "code",
    "id": "dEyP-1tATFRb"
   },
   "outputs": [],
   "source": [
    "from project import wad_data\n",
    "\n",
    "# Training dataset\n",
    "dataset_train = wad_data.WADDataset()\n",
    "\n",
    "dataset_train.load_data(\"C:\\\\Users\\\\rmdu\\\\MaskTrack_RCNN\\\\dataset\\\\wad\", \"train\")\n",
    "\n",
    "dataset_train.prepare()\n",
    "\n",
    "dataset_val = wad_data.WADDataset()\n",
    "\n",
    "dataset_val.load_data(\"C:\\\\Users\\\\rmdu\\\\MaskTrack_RCNN\\\\dataset\\\\wad\", \"val\")\n",
    "\n",
    "dataset_val.prepare()\n"
   ]
  },
  {
   "cell_type": "code",
   "execution_count": 7,
   "metadata": {},
   "outputs": [
    {
     "name": "stdout",
     "output_type": "stream",
     "text": [
      "Image Count: 225\n"
     ]
    }
   ],
   "source": [
    "print(\"Image Count: {}\".format(len(dataset_val.image_ids)))\n",
    "#print(\"Class Count: {}\".format(dataset_train.num_classes))"
   ]
  },
  {
   "cell_type": "code",
   "execution_count": null,
   "metadata": {},
   "outputs": [],
   "source": [
    ""
   ]
  },
  {
   "cell_type": "code",
   "execution_count": 15,
   "metadata": {},
   "outputs": [],
   "source": [
    "import numpy as np\n",
    "image_ids = np.random.choice(dataset_val.image_ids, 4)\n",
    "\n",
    "#for image_id in image_ids:\n",
    "image_id = image_ids[0]\n",
    "image = dataset_val.load_image(image_id)\n",
    "mask, class_ids = dataset_val.load_mask(image_id)\n",
    "visualize.display_top_masks(image, mask, class_ids, dataset_val.class_names)"
   ]
  },
  {
   "cell_type": "code",
   "execution_count": null,
   "metadata": {},
   "outputs": [],
   "source": []
  },
  {
   "cell_type": "code",
   "execution_count": 12,
   "metadata": {},
   "outputs": [
    {
     "name": "stdout",
     "output_type": "stream",
     "text": [
      "image_id  91 C:\\Users\\rmdu\\MaskTrack_RCNN\\dataset\\wad\\train_color\\170908_061509080_Camera_5.jpg\nimage                    shape: (2710, 3384, 3)       min:    0.00000  max:  255.00000  uint8\nmask                     shape: (2710, 3384, 9)       min:    0.00000  max:    1.00000  bool\nclass_ids                shape: (9,)                  min:    1.00000  max:    8.00000  int32\nbbox                     shape: (9, 4)                min:    0.00000  max: 2809.00000  int32\n"
     ]
    }
   ],
   "source": [
    "# Compute Bounding box\n",
    "bbox = utils.extract_bboxes(mask)\n",
    "\n",
    "# Display image and additional stats\n",
    "print(\"image_id \", image_id, dataset_train.image_reference(image_id))\n",
    "log(\"image\", image)\n",
    "log(\"mask\", mask)\n",
    "log(\"class_ids\", class_ids)\n",
    "log(\"bbox\", bbox)\n",
    "# Display image and instances\n",
    "visualize.display_instances(image, bbox, mask, class_ids, dataset_train.class_names)"
   ]
  },
  {
   "cell_type": "code",
   "execution_count": null,
   "metadata": {},
   "outputs": [],
   "source": []
  },
  {
   "cell_type": "code",
   "execution_count": null,
   "metadata": {},
   "outputs": [],
   "source": []
  },
  {
   "cell_type": "markdown",
   "metadata": {
    "colab_type": "text",
    "id": "UUHgP9PsvYIb"
   },
   "source": [
    "## Testing"
   ]
  },
  {
   "cell_type": "code",
   "execution_count": 16,
   "metadata": {
    "colab": {
     "autoexec": {
      "startup": false,
      "wait_interval": 0.0
     }
    },
    "colab_type": "code",
    "id": "PK_mhBMzvW7D"
   },
   "outputs": [
    {
     "name": "stdout",
     "output_type": "stream",
     "text": [
      "\nStarting at epoch 0. LR=0.001\n\nCheckpoint Path: C:\\Users\\rmdu\\MaskTrack_RCNN\\logs\\wad20180614T1516\\mask_rcnn_wad_{epoch:04d}.h5\nSelecting layers to train\nfpn_c5p5               (Conv2D)\nfpn_c4p4               (Conv2D)\nfpn_c3p3               (Conv2D)\nfpn_c2p2               (Conv2D)\nfpn_p5                 (Conv2D)\nfpn_p2                 (Conv2D)\nfpn_p3                 (Conv2D)\nfpn_p4                 (Conv2D)\nIn model:  rpn_model\n    rpn_conv_shared        (Conv2D)\n    rpn_class_raw          (Conv2D)\n    rpn_bbox_pred          (Conv2D)\nmrcnn_mask_conv1       (TimeDistributed)\nmrcnn_mask_bn1         (TimeDistributed)\nmrcnn_mask_conv2       (TimeDistributed)\nmrcnn_mask_bn2         (TimeDistributed)\nmrcnn_class_conv1      (TimeDistributed)\nmrcnn_class_bn1        (TimeDistributed)\nmrcnn_mask_conv3       (TimeDistributed)\nmrcnn_mask_bn3         (TimeDistributed)\nmrcnn_class_conv2      (TimeDistributed)\nmrcnn_class_bn2        (TimeDistributed)\nmrcnn_mask_conv4       (TimeDistributed)\nmrcnn_mask_bn4         (TimeDistributed)\nmrcnn_bbox_fc          (TimeDistributed)\nmrcnn_mask_deconv      (TimeDistributed)\nmrcnn_class_logits     (TimeDistributed)\nmrcnn_mask             (TimeDistributed)\n"
     ]
    },
    {
     "name": "stderr",
     "output_type": "stream",
     "text": [
      "C:\\Users\\rmdu\\Anaconda3\\Lib\\site-packages\\tensorflow\\python\\ops\\gradients_impl.py:100: UserWarning: Converting sparse IndexedSlices to a dense Tensor of unknown shape. This may consume a large amount of memory.\n  \"Converting sparse IndexedSlices to a dense Tensor of unknown shape. \"\n"
     ]
    },
    {
     "name": "stdout",
     "output_type": "stream",
     "text": [
      "Epoch 1/1\n"
     ]
    },
    {
     "name": "stderr",
     "output_type": "stream",
     "text": [
      "ERROR:root:Error processing image {'id': '170908_061515057_Camera_5', 'source': 'WAD', 'path': 'C:\\\\Users\\\\rmdu\\\\MaskTrack_RCNN\\\\dataset\\\\wad\\\\train_color\\\\170908_061515057_Camera_5.jpg', 'mask_path': 'C:\\\\Users\\\\rmdu\\\\MaskTrack_RCNN\\\\dataset\\\\wad\\\\train_label\\\\170908_061515057_Camera_5_instanceIds.png'}\nTraceback (most recent call last):\n  File \"C:\\Users\\rmdu\\MaskTrack_RCNN\\mrcnn\\model.py\", line 1704, in data_generator\n    use_mini_mask=config.USE_MINI_MASK)\n  File \"C:\\Users\\rmdu\\MaskTrack_RCNN\\mrcnn\\model.py\", line 1282, in load_image_gt\n    source_class_ids = dataset.source_class_ids[dataset.image_info[image_id][\"source\"]]\nKeyError: 'WAD'\n"
     ]
    },
    {
     "name": "stderr",
     "output_type": "stream",
     "text": [
      "ERROR:root:Error processing image {'id': '170908_061504771_Camera_6', 'source': 'WAD', 'path': 'C:\\\\Users\\\\rmdu\\\\MaskTrack_RCNN\\\\dataset\\\\wad\\\\train_color\\\\170908_061504771_Camera_6.jpg', 'mask_path': 'C:\\\\Users\\\\rmdu\\\\MaskTrack_RCNN\\\\dataset\\\\wad\\\\train_label\\\\170908_061504771_Camera_6_instanceIds.png'}\nTraceback (most recent call last):\n  File \"C:\\Users\\rmdu\\MaskTrack_RCNN\\mrcnn\\model.py\", line 1704, in data_generator\n    use_mini_mask=config.USE_MINI_MASK)\n  File \"C:\\Users\\rmdu\\MaskTrack_RCNN\\mrcnn\\model.py\", line 1282, in load_image_gt\n    source_class_ids = dataset.source_class_ids[dataset.image_info[image_id][\"source\"]]\nKeyError: 'WAD'\n"
     ]
    },
    {
     "name": "stderr",
     "output_type": "stream",
     "text": [
      "ERROR:root:Error processing image {'id': '170908_061504771_Camera_5', 'source': 'WAD', 'path': 'C:\\\\Users\\\\rmdu\\\\MaskTrack_RCNN\\\\dataset\\\\wad\\\\train_color\\\\170908_061504771_Camera_5.jpg', 'mask_path': 'C:\\\\Users\\\\rmdu\\\\MaskTrack_RCNN\\\\dataset\\\\wad\\\\train_label\\\\170908_061504771_Camera_5_instanceIds.png'}\nTraceback (most recent call last):\n  File \"C:\\Users\\rmdu\\MaskTrack_RCNN\\mrcnn\\model.py\", line 1704, in data_generator\n    use_mini_mask=config.USE_MINI_MASK)\n  File \"C:\\Users\\rmdu\\MaskTrack_RCNN\\mrcnn\\model.py\", line 1282, in load_image_gt\n    source_class_ids = dataset.source_class_ids[dataset.image_info[image_id][\"source\"]]\nKeyError: 'WAD'\n"
     ]
    },
    {
     "name": "stderr",
     "output_type": "stream",
     "text": [
      "ERROR:root:Error processing image {'id': '170908_061518393_Camera_6', 'source': 'WAD', 'path': 'C:\\\\Users\\\\rmdu\\\\MaskTrack_RCNN\\\\dataset\\\\wad\\\\train_color\\\\170908_061518393_Camera_6.jpg', 'mask_path': 'C:\\\\Users\\\\rmdu\\\\MaskTrack_RCNN\\\\dataset\\\\wad\\\\train_label\\\\170908_061518393_Camera_6_instanceIds.png'}\nTraceback (most recent call last):\n  File \"C:\\Users\\rmdu\\MaskTrack_RCNN\\mrcnn\\model.py\", line 1704, in data_generator\n    use_mini_mask=config.USE_MINI_MASK)\n  File \"C:\\Users\\rmdu\\MaskTrack_RCNN\\mrcnn\\model.py\", line 1282, in load_image_gt\n    source_class_ids = dataset.source_class_ids[dataset.image_info[image_id][\"source\"]]\nKeyError: 'WAD'\n"
     ]
    },
    {
     "name": "stderr",
     "output_type": "stream",
     "text": [
      "ERROR:root:Error processing image {'id': '170908_061502825_Camera_6', 'source': 'WAD', 'path': 'C:\\\\Users\\\\rmdu\\\\MaskTrack_RCNN\\\\dataset\\\\wad\\\\train_color\\\\170908_061502825_Camera_6.jpg', 'mask_path': 'C:\\\\Users\\\\rmdu\\\\MaskTrack_RCNN\\\\dataset\\\\wad\\\\train_label\\\\170908_061502825_Camera_6_instanceIds.png'}\nTraceback (most recent call last):\n  File \"C:\\Users\\rmdu\\MaskTrack_RCNN\\mrcnn\\model.py\", line 1704, in data_generator\n    use_mini_mask=config.USE_MINI_MASK)\n  File \"C:\\Users\\rmdu\\MaskTrack_RCNN\\mrcnn\\model.py\", line 1282, in load_image_gt\n    source_class_ids = dataset.source_class_ids[dataset.image_info[image_id][\"source\"]]\nKeyError: 'WAD'\n"
     ]
    },
    {
     "name": "stderr",
     "output_type": "stream",
     "text": [
      "ERROR:root:Error processing image {'id': '170908_061518115_Camera_5', 'source': 'WAD', 'path': 'C:\\\\Users\\\\rmdu\\\\MaskTrack_RCNN\\\\dataset\\\\wad\\\\train_color\\\\170908_061518115_Camera_5.jpg', 'mask_path': 'C:\\\\Users\\\\rmdu\\\\MaskTrack_RCNN\\\\dataset\\\\wad\\\\train_label\\\\170908_061518115_Camera_5_instanceIds.png'}\nTraceback (most recent call last):\n  File \"C:\\Users\\rmdu\\MaskTrack_RCNN\\mrcnn\\model.py\", line 1704, in data_generator\n    use_mini_mask=config.USE_MINI_MASK)\n  File \"C:\\Users\\rmdu\\MaskTrack_RCNN\\mrcnn\\model.py\", line 1282, in load_image_gt\n    source_class_ids = dataset.source_class_ids[dataset.image_info[image_id][\"source\"]]\nKeyError: 'WAD'\n"
     ]
    },
    {
     "ename": "KeyError",
     "evalue": "'WAD'",
     "traceback": [
      "\u001b[1;31m---------------------------------------------------------------------------\u001b[0m",
      "\u001b[1;31mKeyError\u001b[0m                                  Traceback (most recent call last)",
      "\u001b[1;32m<ipython-input-16-dcd86c540417>\u001b[0m in \u001b[0;36m<module>\u001b[1;34m()\u001b[0m\n\u001b[0;32m     10\u001b[0m             \u001b[0mlearning_rate\u001b[0m\u001b[1;33m=\u001b[0m\u001b[0mconfig\u001b[0m\u001b[1;33m.\u001b[0m\u001b[0mLEARNING_RATE\u001b[0m\u001b[1;33m,\u001b[0m\u001b[1;33m\u001b[0m\u001b[0m\n\u001b[0;32m     11\u001b[0m             \u001b[0mepochs\u001b[0m\u001b[1;33m=\u001b[0m\u001b[1;36m1\u001b[0m\u001b[1;33m,\u001b[0m\u001b[1;33m\u001b[0m\u001b[0m\n\u001b[1;32m---> 12\u001b[1;33m             layers='heads')\n\u001b[0m",
      "\u001b[1;32m~\\MaskTrack_RCNN\\mrcnn\\model.py\u001b[0m in \u001b[0;36mtrain\u001b[1;34m(self, train_dataset, val_dataset, learning_rate, epochs, layers, augmentation)\u001b[0m\n\u001b[0;32m   2350\u001b[0m             \u001b[0mmax_queue_size\u001b[0m\u001b[1;33m=\u001b[0m\u001b[1;36m100\u001b[0m\u001b[1;33m,\u001b[0m\u001b[1;33m\u001b[0m\u001b[0m\n\u001b[0;32m   2351\u001b[0m             \u001b[0mworkers\u001b[0m\u001b[1;33m=\u001b[0m\u001b[0mworkers\u001b[0m\u001b[1;33m,\u001b[0m\u001b[1;33m\u001b[0m\u001b[0m\n\u001b[1;32m-> 2352\u001b[1;33m             \u001b[0muse_multiprocessing\u001b[0m\u001b[1;33m=\u001b[0m\u001b[1;32mTrue\u001b[0m\u001b[1;33m,\u001b[0m\u001b[1;33m\u001b[0m\u001b[0m\n\u001b[0m\u001b[0;32m   2353\u001b[0m         )\n\u001b[0;32m   2354\u001b[0m         \u001b[0mself\u001b[0m\u001b[1;33m.\u001b[0m\u001b[0mepoch\u001b[0m \u001b[1;33m=\u001b[0m \u001b[0mmax\u001b[0m\u001b[1;33m(\u001b[0m\u001b[0mself\u001b[0m\u001b[1;33m.\u001b[0m\u001b[0mepoch\u001b[0m\u001b[1;33m,\u001b[0m \u001b[0mepochs\u001b[0m\u001b[1;33m)\u001b[0m\u001b[1;33m\u001b[0m\u001b[0m\n",
      "\u001b[1;32m~\\Anaconda3\\Lib\\site-packages\\keras\\legacy\\interfaces.py\u001b[0m in \u001b[0;36mwrapper\u001b[1;34m(*args, **kwargs)\u001b[0m\n\u001b[0;32m     89\u001b[0m                 warnings.warn('Update your `' + object_name +\n\u001b[0;32m     90\u001b[0m                               '` call to the Keras 2 API: ' + signature, stacklevel=2)\n\u001b[1;32m---> 91\u001b[1;33m             \u001b[1;32mreturn\u001b[0m \u001b[0mfunc\u001b[0m\u001b[1;33m(\u001b[0m\u001b[1;33m*\u001b[0m\u001b[0margs\u001b[0m\u001b[1;33m,\u001b[0m \u001b[1;33m**\u001b[0m\u001b[0mkwargs\u001b[0m\u001b[1;33m)\u001b[0m\u001b[1;33m\u001b[0m\u001b[0m\n\u001b[0m\u001b[0;32m     92\u001b[0m         \u001b[0mwrapper\u001b[0m\u001b[1;33m.\u001b[0m\u001b[0m_original_function\u001b[0m \u001b[1;33m=\u001b[0m \u001b[0mfunc\u001b[0m\u001b[1;33m\u001b[0m\u001b[0m\n\u001b[0;32m     93\u001b[0m         \u001b[1;32mreturn\u001b[0m \u001b[0mwrapper\u001b[0m\u001b[1;33m\u001b[0m\u001b[0m\n",
      "\u001b[1;32m~\\Anaconda3\\Lib\\site-packages\\keras\\engine\\training.py\u001b[0m in \u001b[0;36mfit_generator\u001b[1;34m(self, generator, steps_per_epoch, epochs, verbose, callbacks, validation_data, validation_steps, class_weight, max_queue_size, workers, use_multiprocessing, shuffle, initial_epoch)\u001b[0m\n\u001b[0;32m   2192\u001b[0m                 \u001b[0mbatch_index\u001b[0m \u001b[1;33m=\u001b[0m \u001b[1;36m0\u001b[0m\u001b[1;33m\u001b[0m\u001b[0m\n\u001b[0;32m   2193\u001b[0m                 \u001b[1;32mwhile\u001b[0m \u001b[0msteps_done\u001b[0m \u001b[1;33m<\u001b[0m \u001b[0msteps_per_epoch\u001b[0m\u001b[1;33m:\u001b[0m\u001b[1;33m\u001b[0m\u001b[0m\n\u001b[1;32m-> 2194\u001b[1;33m                     \u001b[0mgenerator_output\u001b[0m \u001b[1;33m=\u001b[0m \u001b[0mnext\u001b[0m\u001b[1;33m(\u001b[0m\u001b[0moutput_generator\u001b[0m\u001b[1;33m)\u001b[0m\u001b[1;33m\u001b[0m\u001b[0m\n\u001b[0m\u001b[0;32m   2195\u001b[0m \u001b[1;33m\u001b[0m\u001b[0m\n\u001b[0;32m   2196\u001b[0m                     \u001b[1;32mif\u001b[0m \u001b[1;32mnot\u001b[0m \u001b[0mhasattr\u001b[0m\u001b[1;33m(\u001b[0m\u001b[0mgenerator_output\u001b[0m\u001b[1;33m,\u001b[0m \u001b[1;34m'__len__'\u001b[0m\u001b[1;33m)\u001b[0m\u001b[1;33m:\u001b[0m\u001b[1;33m\u001b[0m\u001b[0m\n",
      "\u001b[1;32m~\\MaskTrack_RCNN\\mrcnn\\model.py\u001b[0m in \u001b[0;36mdata_generator\u001b[1;34m(dataset, config, shuffle, augment, augmentation, random_rois, batch_size, detection_targets)\u001b[0m\n\u001b[0;32m   1702\u001b[0m                 load_image_gt(dataset, config, image_id, augment=augment,\n\u001b[0;32m   1703\u001b[0m                               \u001b[0maugmentation\u001b[0m\u001b[1;33m=\u001b[0m\u001b[0maugmentation\u001b[0m\u001b[1;33m,\u001b[0m\u001b[1;33m\u001b[0m\u001b[0m\n\u001b[1;32m-> 1704\u001b[1;33m                               use_mini_mask=config.USE_MINI_MASK)\n\u001b[0m\u001b[0;32m   1705\u001b[0m \u001b[1;33m\u001b[0m\u001b[0m\n\u001b[0;32m   1706\u001b[0m             \u001b[1;31m# Skip images that have no instances. This can happen in cases\u001b[0m\u001b[1;33m\u001b[0m\u001b[1;33m\u001b[0m\u001b[0m\n",
      "\u001b[1;32m~\\MaskTrack_RCNN\\mrcnn\\model.py\u001b[0m in \u001b[0;36mload_image_gt\u001b[1;34m(dataset, config, image_id, augment, augmentation, use_mini_mask)\u001b[0m\n\u001b[0;32m   1280\u001b[0m     \u001b[1;31m# classes supported in the dataset of this image.\u001b[0m\u001b[1;33m\u001b[0m\u001b[1;33m\u001b[0m\u001b[0m\n\u001b[0;32m   1281\u001b[0m     \u001b[0mactive_class_ids\u001b[0m \u001b[1;33m=\u001b[0m \u001b[0mnp\u001b[0m\u001b[1;33m.\u001b[0m\u001b[0mzeros\u001b[0m\u001b[1;33m(\u001b[0m\u001b[1;33m[\u001b[0m\u001b[0mdataset\u001b[0m\u001b[1;33m.\u001b[0m\u001b[0mnum_classes\u001b[0m\u001b[1;33m]\u001b[0m\u001b[1;33m,\u001b[0m \u001b[0mdtype\u001b[0m\u001b[1;33m=\u001b[0m\u001b[0mnp\u001b[0m\u001b[1;33m.\u001b[0m\u001b[0mint32\u001b[0m\u001b[1;33m)\u001b[0m\u001b[1;33m\u001b[0m\u001b[0m\n\u001b[1;32m-> 1282\u001b[1;33m     \u001b[0msource_class_ids\u001b[0m \u001b[1;33m=\u001b[0m \u001b[0mdataset\u001b[0m\u001b[1;33m.\u001b[0m\u001b[0msource_class_ids\u001b[0m\u001b[1;33m[\u001b[0m\u001b[0mdataset\u001b[0m\u001b[1;33m.\u001b[0m\u001b[0mimage_info\u001b[0m\u001b[1;33m[\u001b[0m\u001b[0mimage_id\u001b[0m\u001b[1;33m]\u001b[0m\u001b[1;33m[\u001b[0m\u001b[1;34m\"source\"\u001b[0m\u001b[1;33m]\u001b[0m\u001b[1;33m]\u001b[0m\u001b[1;33m\u001b[0m\u001b[0m\n\u001b[0m\u001b[0;32m   1283\u001b[0m     \u001b[0mactive_class_ids\u001b[0m\u001b[1;33m[\u001b[0m\u001b[0msource_class_ids\u001b[0m\u001b[1;33m]\u001b[0m \u001b[1;33m=\u001b[0m \u001b[1;36m1\u001b[0m\u001b[1;33m\u001b[0m\u001b[0m\n\u001b[0;32m   1284\u001b[0m \u001b[1;33m\u001b[0m\u001b[0m\n",
      "\u001b[1;31mKeyError\u001b[0m: 'WAD'"
     ],
     "output_type": "error"
    }
   ],
   "source": [
    "config = wad_data.WADConfig()\n",
    "\n",
    "MODEL_DIR = os.path.join(ROOT_DIR, \"logs\")\n",
    "\n",
    "# Create model in training mode\n",
    "model = modellib.MaskRCNN(mode=\"training\", config=config,\n",
    "                          model_dir=MODEL_DIR)\n",
    "\n",
    "model.train(dataset_train, dataset_val, \n",
    "            learning_rate=config.LEARNING_RATE, \n",
    "            epochs=1, \n",
    "            layers='heads')"
   ]
  },
  {
   "cell_type": "code",
   "execution_count": null,
   "metadata": {},
   "outputs": [],
   "source": []
  },
  {
   "cell_type": "code",
   "execution_count": null,
   "metadata": {},
   "outputs": [],
   "source": []
  },
  {
   "cell_type": "code",
   "execution_count": null,
   "metadata": {},
   "outputs": [],
   "source": []
  },
  {
   "cell_type": "code",
   "execution_count": null,
   "metadata": {},
   "outputs": [],
   "source": []
  },
  {
   "cell_type": "code",
   "execution_count": null,
   "metadata": {},
   "outputs": [],
   "source": []
  },
  {
   "cell_type": "code",
   "execution_count": null,
   "metadata": {},
   "outputs": [],
   "source": []
  },
  {
   "cell_type": "code",
   "execution_count": null,
   "metadata": {},
   "outputs": [],
   "source": []
  },
  {
   "cell_type": "code",
   "execution_count": null,
   "metadata": {},
   "outputs": [],
   "source": []
  },
  {
   "cell_type": "code",
   "execution_count": null,
   "metadata": {},
   "outputs": [],
   "source": []
  },
  {
   "cell_type": "code",
   "execution_count": null,
   "metadata": {},
   "outputs": [],
   "source": []
  },
  {
   "cell_type": "code",
   "execution_count": null,
   "metadata": {},
   "outputs": [],
   "source": []
  },
  {
   "cell_type": "code",
   "execution_count": null,
   "metadata": {},
   "outputs": [],
   "source": []
  },
  {
   "cell_type": "code",
   "execution_count": null,
   "metadata": {},
   "outputs": [],
   "source": []
  },
  {
   "cell_type": "code",
   "execution_count": null,
   "metadata": {},
   "outputs": [],
   "source": []
  },
  {
   "cell_type": "code",
   "execution_count": null,
   "metadata": {},
   "outputs": [],
   "source": []
  },
  {
   "cell_type": "code",
   "execution_count": null,
   "metadata": {},
   "outputs": [],
   "source": []
  }
 ],
 "metadata": {
  "accelerator": "GPU",
  "colab": {
   "collapsed_sections": [],
   "default_view": {},
   "name": "wad_data.ipynb",
   "provenance": [],
   "version": "0.3.2",
   "views": {}
  },
  "kernelspec": {
   "display_name": "Python 3",
   "language": "python",
   "name": "python3"
  },
  "language_info": {
   "codemirror_mode": {
    "name": "ipython",
    "version": 3
   },
   "file_extension": ".py",
   "mimetype": "text/x-python",
   "name": "python",
   "nbconvert_exporter": "python",
   "pygments_lexer": "ipython3",
   "version": "3.6.4"
  }
 },
 "nbformat": 4,
 "nbformat_minor": 1
}
