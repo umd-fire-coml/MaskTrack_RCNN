{
 "cells": [
  {
   "cell_type": "code",
   "execution_count": 6,
   "metadata": {},
   "outputs": [
    {
     "name": "stdout",
     "output_type": "stream",
     "text": [
      " Volume in drive G is Google Drive File Stream\n Volume Serial Number is 1983-1116\n\n Directory of G:\\My Drive\\FIRE COML\\2018\\Summer Fellowship\\Project\\MaskTrack_RCNN\n\n06/13/2018  11:41 AM    <DIR>          .\n06/13/2018  11:47 AM    <DIR>          ..\n06/13/2018  02:29 PM    <DIR>          .git\n06/13/2018  10:53 AM               627 .gitignore\n06/13/2018  10:53 AM             1,118 LICENSE\n06/13/2018  10:53 AM                60 MANIFEST.in\n06/13/2018  10:54 AM               108 README.md\n06/13/2018  10:53 AM    <DIR>          assets\n06/13/2018  10:53 AM    <DIR>          images\n06/13/2018  11:44 AM    <DIR>          mrcnn\n06/13/2018  02:29 PM    <DIR>          project\n06/13/2018  10:53 AM               130 requirements.txt\n06/13/2018  10:53 AM    <DIR>          samples\n06/13/2018  10:53 AM               102 setup.cfg\n06/13/2018  10:53 AM             2,586 setup.py\n06/13/2018  11:32 AM       257,557,808 mask_rcnn_coco.h5\n06/13/2018  02:29 PM    <DIR>          .idea\n               8 File(s)    257,562,539 bytes\n               9 Dir(s)  82,397,646,848 bytes free\n"
     ]
    }
   ],
   "source": [
    "!dir"
   ]
  },
  {
   "cell_type": "code",
   "execution_count": 7,
   "metadata": {
    "colab": {
     "autoexec": {
      "startup": false,
      "wait_interval": 0.0
     }
    },
    "colab_type": "code",
    "id": "TiZsos23SzpE"
   },
   "outputs": [],
   "source": [
    "import os\n",
    "import re\n",
    "from mrcnn import config, utils\n",
    "import skimage.io\n",
    "import numpy as np\n",
    "from os.path import join, isfile\n",
    "import os\n",
    "import sys\n",
    "import random\n",
    "import math\n",
    "import re\n",
    "import time\n",
    "import numpy as np\n",
    "import cv2\n",
    "import matplotlib\n",
    "import matplotlib.pyplot as plt\n",
    "from project import wad_data\n",
    "\n",
    "\n",
    "# TRAIN IMAGES ISSUE\n",
    "# No. Files in video lists = 42,369\n",
    "# No. Files in train_color = 39,222\n",
    "# No. Files in train_label = 37,689\n",
    "\n",
    "# Root directory of the project\n",
    "ROOT_DIR = os.path.abspath(\"G:\\\\My Drive\\\\FIRE COML\\\\2018\\\\Summer Fellowship\\\\Project\\\\MaskTrack_RCNN\")"
   ]
  },
  {
   "cell_type": "markdown",
   "metadata": {
    "colab_type": "text",
    "id": "ZrDSKKPUTJII"
   },
   "source": [
    "## Configuration"
   ]
  },
  {
   "cell_type": "code",
   "execution_count": 8,
   "metadata": {
    "colab": {
     "autoexec": {
      "startup": false,
      "wait_interval": 0.0
     }
    },
    "colab_type": "code",
    "id": "OTT9HIDCTC8i"
   },
   "outputs": [],
   "source": [
    "\n",
    "\n",
    "# Import Mask RCNN\n",
    "sys.path.append(ROOT_DIR)  # To find local version of the library\n",
    "from mrcnn.config import Config\n",
    "from mrcnn import utils\n",
    "import mrcnn.model as modellib\n",
    "from mrcnn import visualize\n",
    "from mrcnn.model import log\n",
    "\n",
    "%matplotlib inline \n",
    "\n",
    "# Directory to save logs and trained model\n",
    "MODEL_DIR = os.path.join(ROOT_DIR, \"logs\")\n",
    "\n",
    "# Local path to trained weights file\n",
    "COCO_MODEL_PATH = os.path.join(ROOT_DIR, \"mask_rcnn_coco.h5\")\n",
    "# Download COCO trained weights from Releases if needed\n",
    "if not os.path.exists(COCO_MODEL_PATH):\n",
    "    utils.download_trained_weights(COCO_MODEL_PATH)"
   ]
  },
  {
   "cell_type": "markdown",
   "metadata": {
    "colab_type": "text",
    "id": "Unxlaax_TSfv"
   },
   "source": [
    "## Dataset\n",
    "\n",
    "load_mask has been tested. green light .. green light"
   ]
  },
  {
   "cell_type": "code",
   "execution_count": 9,
   "metadata": {
    "colab": {
     "autoexec": {
      "startup": false,
      "wait_interval": 0.0
     }
    },
    "colab_type": "code",
    "id": "dEyP-1tATFRb"
   },
   "outputs": [],
   "source": [
    "# Training dataset\n",
    "dataset_train = wad_data.WADDataset()\n",
    "\n",
    "dataset_train.load_WAD(\"G:\\\\Team Drives\\\\COML-Summer-2018\\\\Data\\\\CVPR-WAD-2018\", \"train\")\n",
    "\n",
    "dataset_train.prepare()"
   ]
  },
  {
   "cell_type": "code",
   "execution_count": 10,
   "metadata": {},
   "outputs": [
    {
     "name": "stdout",
     "output_type": "stream",
     "text": [
      "Class Count: 37\n"
     ]
    }
   ],
   "source": [
    "#print(\"Image Count: {}\".format(len(dataset_train.image_ids)))\n",
    "print(\"Class Count: {}\".format(dataset_train.num_classes))"
   ]
  },
  {
   "cell_type": "code",
   "execution_count": null,
   "metadata": {},
   "outputs": [],
   "source": []
  },
  {
   "cell_type": "code",
   "execution_count": null,
   "metadata": {},
   "outputs": [],
   "source": []
  },
  {
   "cell_type": "code",
   "execution_count": null,
   "metadata": {},
   "outputs": [],
   "source": []
  },
  {
   "cell_type": "code",
   "execution_count": null,
   "metadata": {},
   "outputs": [],
   "source": []
  },
  {
   "cell_type": "code",
   "execution_count": null,
   "metadata": {},
   "outputs": [],
   "source": []
  },
  {
   "cell_type": "code",
   "execution_count": null,
   "metadata": {},
   "outputs": [],
   "source": []
  },
  {
   "cell_type": "markdown",
   "metadata": {
    "colab_type": "text",
    "id": "UUHgP9PsvYIb"
   },
   "source": [
    "## Testing"
   ]
  },
  {
   "cell_type": "code",
   "execution_count": 0,
   "metadata": {
    "colab": {
     "autoexec": {
      "startup": false,
      "wait_interval": 0.0
     }
    },
    "colab_type": "code",
    "id": "PK_mhBMzvW7D"
   },
   "outputs": [],
   "source": [
    "# Test dataset \n",
    "\n",
    "dataset_test = wad_data.WADDataset()\n",
    "\n",
    "dataset_test.load_WAD(\"G:\\\\Team Drives\\\\COML-Summer-2018\\\\Data\\\\CVPR-WAD-2018\", \"train\")\n",
    "\n",
    "dataset_test.prepare()\n"
   ]
  }
 ],
 "metadata": {
  "accelerator": "GPU",
  "colab": {
   "collapsed_sections": [],
   "default_view": {},
   "name": "wad_data.ipynb",
   "provenance": [],
   "version": "0.3.2",
   "views": {}
  },
  "kernelspec": {
   "display_name": "Python 3",
   "language": "python",
   "name": "python3"
  },
  "language_info": {
   "codemirror_mode": {
    "name": "ipython",
    "version": 3
   },
   "file_extension": ".py",
   "mimetype": "text/x-python",
   "name": "python",
   "nbconvert_exporter": "python",
   "pygments_lexer": "ipython3",
   "version": "3.6.4"
  }
 },
 "nbformat": 4,
 "nbformat_minor": 1
}
