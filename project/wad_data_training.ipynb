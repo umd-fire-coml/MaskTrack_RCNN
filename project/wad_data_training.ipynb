{
 "cells": [
  {
   "cell_type": "code",
   "execution_count": 1,
   "metadata": {
    "id": "oloy5NpyUxmL",
    "colab_type": "code",
    "colab": {
     "autoexec": {
      "startup": false,
      "wait_interval": 0.0
     },
     "base_uri": "https://localhost:8080/",
     "height": 192.0
    },
    "outputId": "3c4de2d8-e39c-4bcb-d0b2-8cdacfd28121",
    "executionInfo": {
     "status": "ok",
     "timestamp": 1.529348255559E12,
     "user_tz": 240.0,
     "elapsed": 49348.0,
     "user": {
      "displayName": "Raymond Tu",
      "photoUrl": "//lh4.googleusercontent.com/-PiJFrbeyvzs/AAAAAAAAAAI/AAAAAAAAFzs/UKFF-SotCVo/s50-c-k-no/photo.jpg",
      "userId": "112993143985468015422"
     }
    }
   },
   "outputs": [
    {
     "name": "stdout",
     "output_type": "stream",
     "text": [
      " Volume in drive C is Windows\n Volume Serial Number is D626-90F1\n\n Directory of C:\\Users\\rmdu\\MaskTrack_RCNN\n\n06/18/2018  03:25 PM    <DIR>          .\n06/18/2018  03:25 PM    <DIR>          ..\n06/14/2018  04:26 PM               616 .gitignore\n06/18/2018  03:29 PM    <DIR>          .idea\n06/14/2018  11:46 AM    <DIR>          assets\n06/14/2018  04:24 PM    <DIR>          dataset\n06/14/2018  11:46 AM    <DIR>          images\n06/14/2018  11:46 AM             1,118 LICENSE\n06/14/2018  03:29 PM    <DIR>          logs\n06/14/2018  11:46 AM                60 MANIFEST.in\n06/18/2018  03:26 PM       257,557,808 mask_rcnn_coco.h5\n06/14/2018  11:51 AM    <DIR>          mrcnn\n06/18/2018  03:33 PM    <DIR>          project\n06/14/2018  11:46 AM               108 README.md\n06/14/2018  11:46 AM               130 requirements.txt\n06/14/2018  11:46 AM    <DIR>          samples\n06/14/2018  11:46 AM               102 setup.cfg\n06/14/2018  11:46 AM             2,586 setup.py\n06/18/2018  11:28 AM    <DIR>          test\n               8 File(s)    257,562,528 bytes\n              11 Dir(s)  103,578,456,064 bytes free\n"
     ]
    },
    {
     "name": "stderr",
     "output_type": "stream",
     "text": [
      "Using TensorFlow backend.\n"
     ]
    }
   ],
   "source": [
    "!dir\n",
    "#!rm -r MaskTrack_RCNN\n",
    "#!git clone https://github.com/umd-fire-coml/MaskTrack_RCNN\n",
    "\n",
    "import os\n",
    "from os.path import join, isfile\n",
    "import re\n",
    "import skimage.io\n",
    "import numpy as np\n",
    "import sys\n",
    "import random\n",
    "import math\n",
    "import re\n",
    "import time\n",
    "import numpy as np\n",
    "import cv2\n",
    "import matplotlib\n",
    "import matplotlib.pyplot as plt\n",
    "\n",
    "%matplotlib qt5 \n",
    "\n",
    "# Root directory of the project\n",
    "ROOT_DIR = os.path.abspath(\"./\")\n",
    "# Root directory of the dataset\n",
    "DATA_DIR = os.path.abspath(\"./dataset/wad\")\n",
    "sys.path.append(ROOT_DIR)  # To find local version of the library\n",
    "# Directory to save logs and trained model\n",
    "LOGS_DIR = os.path.join(ROOT_DIR, \"logs\")\n",
    "\n",
    "# Import Mask RCNN\n",
    "from mrcnn.config import Config\n",
    "from mrcnn import utils\n",
    "import mrcnn.model as modellib\n",
    "from mrcnn import visualize\n",
    "from mrcnn.model import log\n",
    "from mrcnn import config, utils\n",
    "\n",
    "\n",
    "\n",
    "# Local path to trained coco weights file\n",
    "COCO_MODEL_PATH = os.path.join(ROOT_DIR, \"mask_rcnn_coco.h5\")\n",
    "# Download COCO trained weights from Releases if needed\n",
    "if not os.path.exists(COCO_MODEL_PATH):\n",
    "    utils.download_trained_weights(COCO_MODEL_PATH)"
   ]
  },
  {
   "cell_type": "code",
   "execution_count": 2,
   "metadata": {
    "id": "TiZsos23SzpE",
    "colab_type": "code",
    "colab": {
     "autoexec": {
      "startup": false,
      "wait_interval": 0.0
     },
     "base_uri": "https://localhost:8080/",
     "height": 69.0
    },
    "outputId": "7534bdfe-2edb-49eb-c71e-b458b02576d1",
    "executionInfo": {
     "status": "ok",
     "timestamp": 1.529348392105E12,
     "user_tz": 240.0,
     "elapsed": 1507.0,
     "user": {
      "displayName": "Raymond Tu",
      "photoUrl": "//lh4.googleusercontent.com/-PiJFrbeyvzs/AAAAAAAAAAI/AAAAAAAAFzs/UKFF-SotCVo/s50-c-k-no/photo.jpg",
      "userId": "112993143985468015422"
     }
    }
   },
   "outputs": [
    {
     "name": "stdout",
     "output_type": "stream",
     "text": [
      "assets\t LICENSE\t    mrcnn      requirements.txt  setup.py\r\n",
      "dataset  MANIFEST.in\t    project    samples\r\n",
      "images\t mask_rcnn_coco.h5  README.md  setup.cfg\r\n"
     ]
    }
   ],
   "source": [
    "!dir MaskTrack_RCNN\n"
   ]
  },
  {
   "cell_type": "markdown",
   "metadata": {
    "id": "ZrDSKKPUTJII",
    "colab_type": "text"
   },
   "source": [
    "## Configuration"
   ]
  },
  {
   "cell_type": "code",
   "execution_count": 2,
   "metadata": {
    "id": "OTT9HIDCTC8i",
    "colab_type": "code",
    "colab": {
     "autoexec": {
      "startup": false,
      "wait_interval": 0.0
     },
     "base_uri": "https://localhost:8080/",
     "height": 892.0
    },
    "outputId": "79f542b0-7ee6-437f-fd7a-effa5b9f932c",
    "executionInfo": {
     "status": "ok",
     "timestamp": 1.529348394269E12,
     "user_tz": 240.0,
     "elapsed": 184.0,
     "user": {
      "displayName": "Raymond Tu",
      "photoUrl": "//lh4.googleusercontent.com/-PiJFrbeyvzs/AAAAAAAAAAI/AAAAAAAAFzs/UKFF-SotCVo/s50-c-k-no/photo.jpg",
      "userId": "112993143985468015422"
     }
    }
   },
   "outputs": [
    {
     "name": "stdout",
     "output_type": "stream",
     "text": [
      "\nConfigurations:\nBACKBONE                       resnet101\nBACKBONE_STRIDES               [4, 8, 16, 32, 64]\nBATCH_SIZE                     2\nBBOX_STD_DEV                   [0.1 0.1 0.2 0.2]\nCOMPUTE_BACKBONE_SHAPE         None\nDETECTION_MAX_INSTANCES        100\nDETECTION_MIN_CONFIDENCE       0.7\nDETECTION_NMS_THRESHOLD        0.3\nFPN_CLASSIF_FC_LAYERS_SIZE     1024\nGPU_COUNT                      1\nGRADIENT_CLIP_NORM             5.0\nIMAGES_PER_GPU                 2\nIMAGE_MAX_DIM                  1024\nIMAGE_META_SIZE                48\nIMAGE_MIN_DIM                  800\nIMAGE_MIN_SCALE                0\nIMAGE_RESIZE_MODE              square\nIMAGE_SHAPE                    [1024 1024    3]\nLEARNING_MOMENTUM              0.9\nLEARNING_RATE                  0.001\nLOSS_WEIGHTS                   {'rpn_class_loss': 1.0, 'rpn_bbox_loss': 1.0, 'mrcnn_class_loss': 1.0, 'mrcnn_bbox_loss': 1.0, 'mrcnn_mask_loss': 1.0}\nMASK_POOL_SIZE                 14\nMASK_SHAPE                     [28, 28]\nMAX_GT_INSTANCES               100\nMEAN_PIXEL                     [123.7 116.8 103.9]\nMINI_MASK_SHAPE                (56, 56)\nNAME                           WAD\nNUM_CLASSES                    36\nPOOL_SIZE                      7\nPOST_NMS_ROIS_INFERENCE        1000\nPOST_NMS_ROIS_TRAINING         2000\nROI_POSITIVE_RATIO             0.33\nRPN_ANCHOR_RATIOS              [0.5, 1, 2]\nRPN_ANCHOR_SCALES              (32, 64, 128, 256, 512)\nRPN_ANCHOR_STRIDE              1\nRPN_BBOX_STD_DEV               [0.1 0.1 0.2 0.2]\nRPN_NMS_THRESHOLD              0.7\nRPN_TRAIN_ANCHORS_PER_IMAGE    256\nSTEPS_PER_EPOCH                1000\nTOP_DOWN_PYRAMID_SIZE          256\nTRAIN_BN                       False\nTRAIN_ROIS_PER_IMAGE           200\nUSE_MINI_MASK                  True\nUSE_RPN_ROIS                   True\nVALIDATION_STEPS               50\nWEIGHT_DECAY                   0.0001\n\n\n"
     ]
    }
   ],
   "source": [
    "from project import wad_data\n",
    "config = wad_data.WADConfig()\n",
    "config.display()"
   ]
  },
  {
   "cell_type": "markdown",
   "metadata": {
    "id": "Unxlaax_TSfv",
    "colab_type": "text"
   },
   "source": [
    "## Dataset\n",
    "\n",
    "load_mask has been tested. green light .. green light"
   ]
  },
  {
   "cell_type": "code",
   "execution_count": 0,
   "metadata": {
    "id": "dEyP-1tATFRb",
    "colab_type": "code",
    "colab": {
     "autoexec": {
      "startup": false,
      "wait_interval": 0.0
     }
    }
   },
   "outputs": [],
   "source": [
    "# Training dataset\n",
    "dataset_train = wad_data.WADDataset()\n",
    "\n",
    "dataset_train.load_data(DATA_DIR, \"train\", )\n",
    "\n",
    "dataset_train.prepare()\n",
    "\n",
    "# dataset_val = wad_data.WADDataset()\n",
    "# \n",
    "# dataset_val.load_data(DATA_DIR, \"val\")\n",
    "# \n",
    "# dataset_val.prepare()\n"
   ]
  },
  {
   "cell_type": "code",
   "execution_count": 13,
   "metadata": {
    "id": "bf_icJwjUxmg",
    "colab_type": "code",
    "colab": {
     "autoexec": {
      "startup": false,
      "wait_interval": 0.0
     },
     "base_uri": "https://localhost:8080/",
     "height": 52.0
    },
    "outputId": "0aaeb100-b9ad-4c61-b790-253fd8b2280e",
    "executionInfo": {
     "status": "ok",
     "timestamp": 1.529336615407E12,
     "user_tz": 240.0,
     "elapsed": 238.0,
     "user": {
      "displayName": "Raymond Tu",
      "photoUrl": "//lh4.googleusercontent.com/-PiJFrbeyvzs/AAAAAAAAAAI/AAAAAAAAFzs/UKFF-SotCVo/s50-c-k-no/photo.jpg",
      "userId": "112993143985468015422"
     }
    }
   },
   "outputs": [
    {
     "name": "stdout",
     "output_type": "stream",
     "text": [
      "Image Count (train): 225\n",
      "Class Count: 36\n"
     ]
    }
   ],
   "source": [
    "# print(\"Image Count (train): {}\".format(len(dataset_train.image_ids)))\n",
    "# print(\"Class Count: {}\".format(dataset_train.num_classes))"
   ]
  },
  {
   "cell_type": "code",
   "execution_count": 8,
   "metadata": {
    "id": "paeZZSXpUxmk",
    "colab_type": "code",
    "colab": {
     "autoexec": {
      "startup": false,
      "wait_interval": 0.0
     },
     "base_uri": "https://localhost:8080/",
     "height": 769.0
    },
    "outputId": "78fbbf79-5254-49f3-c86f-cfe2abc88dd9",
    "executionInfo": {
     "status": "ok",
     "timestamp": 1.529348481455E12,
     "user_tz": 240.0,
     "elapsed": 1423.0,
     "user": {
      "displayName": "Raymond Tu",
      "photoUrl": "//lh4.googleusercontent.com/-PiJFrbeyvzs/AAAAAAAAAAI/AAAAAAAAFzs/UKFF-SotCVo/s50-c-k-no/photo.jpg",
      "userId": "112993143985468015422"
     }
    }
   },
   "outputs": [
    {
     "name": "stdout",
     "output_type": "stream",
     "text": [
      "MemTotal:       13341832 kB\r\n",
      "MemFree:          176284 kB\r\n",
      "MemAvailable:    6712968 kB\r\n",
      "Buffers:           88136 kB\r\n",
      "Cached:          6571376 kB\r\n",
      "SwapCached:            0 kB\r\n",
      "Active:          9080100 kB\r\n",
      "Inactive:        3384096 kB\r\n",
      "Active(anon):    6061952 kB\r\n",
      "Inactive(anon):    73488 kB\r\n",
      "Active(file):    3018148 kB\r\n",
      "Inactive(file):  3310608 kB\r\n",
      "Unevictable:           0 kB\r\n",
      "Mlocked:               0 kB\r\n",
      "SwapTotal:             0 kB\r\n",
      "SwapFree:              0 kB\r\n",
      "Dirty:               296 kB\r\n",
      "Writeback:             0 kB\r\n",
      "AnonPages:       5673660 kB\r\n",
      "Mapped:           268840 kB\r\n",
      "Shmem:            330744 kB\r\n",
      "Slab:             496612 kB\r\n",
      "SReclaimable:     461344 kB\r\n",
      "SUnreclaim:        35268 kB\r\n",
      "KernelStack:        3280 kB\r\n",
      "PageTables:        23624 kB\r\n",
      "NFS_Unstable:          0 kB\r\n",
      "Bounce:                0 kB\r\n",
      "WritebackTmp:          0 kB\r\n",
      "CommitLimit:     6670916 kB\r\n",
      "Committed_AS:    9746468 kB\r\n",
      "VmallocTotal:   34359738367 kB\r\n",
      "VmallocUsed:           0 kB\r\n",
      "VmallocChunk:          0 kB\r\n",
      "AnonHugePages:         0 kB\r\n",
      "HugePages_Total:       0\r\n",
      "HugePages_Free:        0\r\n",
      "HugePages_Rsvd:        0\r\n",
      "HugePages_Surp:        0\r\n",
      "Hugepagesize:       2048 kB\r\n",
      "DirectMap4k:      303052 kB\r\n",
      "DirectMap2M:     9134080 kB\r\n",
      "DirectMap1G:     6291456 kB\r\n"
     ]
    }
   ],
   "source": [
    "# !df -h\n",
    "# !cat /proc/cpuinfo\n",
    "#!cat /proc/meminfo\n",
    "from keras.callbacks import TensorBoard\n",
    "tensorboard = TensorBoard(log_dir=(LOGS_DIR+'{}').format(time()))"
   ]
  },
  {
   "cell_type": "code",
   "execution_count": 0,
   "metadata": {
    "id": "sO_urhbiUxmm",
    "colab_type": "code",
    "colab": {
     "autoexec": {
      "startup": false,
      "wait_interval": 0.0
     }
    }
   },
   "outputs": [],
   "source": [
    "# import numpy as np\n",
    "# image_ids = np.random.choice(dataset_val.image_ids, 4)\n",
    "\n",
    "# #for image_id in image_ids:\n",
    "# image_id = image_ids[0]\n",
    "# image = dataset_val.load_image(image_id)\n",
    "# mask, class_ids = dataset_val.load_mask(image_id)\n",
    "# visualize.display_top_masks(image, mask, class_ids, dataset_val.class_names)"
   ]
  },
  {
   "cell_type": "code",
   "execution_count": 0,
   "metadata": {
    "id": "yqe1wrjaUxmp",
    "colab_type": "code",
    "colab": {
     "autoexec": {
      "startup": false,
      "wait_interval": 0.0
     }
    }
   },
   "outputs": [],
   "source": [
    ""
   ]
  },
  {
   "cell_type": "code",
   "execution_count": 0,
   "metadata": {
    "id": "z2hSJXGwUxmr",
    "colab_type": "code",
    "colab": {
     "autoexec": {
      "startup": false,
      "wait_interval": 0.0
     }
    },
    "outputId": "48e49015-8ab4-4396-c2bb-2f69aae851b2"
   },
   "outputs": [
    {
     "name": "stdout",
     "output_type": "stream",
     "text": [
      "image_id  91 C:\\Users\\rmdu\\MaskTrack_RCNN\\dataset\\wad\\train_color\\170908_061509080_Camera_5.jpg\n",
      "image                    shape: (2710, 3384, 3)       min:    0.00000  max:  255.00000  uint8\n",
      "mask                     shape: (2710, 3384, 9)       min:    0.00000  max:    1.00000  bool\n",
      "class_ids                shape: (9,)                  min:    1.00000  max:    8.00000  int32\n",
      "bbox                     shape: (9, 4)                min:    0.00000  max: 2809.00000  int32\n"
     ]
    }
   ],
   "source": [
    "# # Compute Bounding box\n",
    "# bbox = utils.extract_bboxes(mask)\n",
    "\n",
    "# # Display image and additional stats\n",
    "# print(\"image_id \", image_id, dataset_train.image_reference(image_id))\n",
    "# log(\"image\", image)\n",
    "# log(\"mask\", mask)\n",
    "# log(\"class_ids\", class_ids)\n",
    "# log(\"bbox\", bbox)\n",
    "# # Display image and instances\n",
    "# visualize.display_instances(image, bbox, mask, class_ids, dataset_train.class_names)"
   ]
  },
  {
   "cell_type": "code",
   "execution_count": 0,
   "metadata": {
    "id": "RyZEzrtnUxmw",
    "colab_type": "code",
    "colab": {
     "autoexec": {
      "startup": false,
      "wait_interval": 0.0
     }
    }
   },
   "outputs": [],
   "source": [
    ""
   ]
  },
  {
   "cell_type": "code",
   "execution_count": 0,
   "metadata": {
    "id": "c4XB6XyZUxmy",
    "colab_type": "code",
    "colab": {
     "autoexec": {
      "startup": false,
      "wait_interval": 0.0
     }
    }
   },
   "outputs": [],
   "source": [
    ""
   ]
  },
  {
   "cell_type": "markdown",
   "metadata": {
    "id": "UUHgP9PsvYIb",
    "colab_type": "text"
   },
   "source": [
    "## Training"
   ]
  },
  {
   "cell_type": "code",
   "execution_count": 0,
   "metadata": {
    "id": "PK_mhBMzvW7D",
    "colab_type": "code",
    "colab": {
     "autoexec": {
      "startup": false,
      "wait_interval": 0.0
     },
     "base_uri": "https://localhost:8080/",
     "height": 684.0
    },
    "outputId": "2548bddd-ff94-4b8d-af4f-63131aab93aa"
   },
   "outputs": [
    {
     "name": "stdout",
     "output_type": "stream",
     "text": [
      "\n",
      "Starting at epoch 0. LR=0.001\n",
      "\n",
      "Checkpoint Path: /content/MaskTrack_RCNN/logs/wad20180618T1901/mask_rcnn_wad_{epoch:04d}.h5\n",
      "Selecting layers to train\n",
      "fpn_c5p5               (Conv2D)\n",
      "fpn_c4p4               (Conv2D)\n",
      "fpn_c3p3               (Conv2D)\n",
      "fpn_c2p2               (Conv2D)\n",
      "fpn_p5                 (Conv2D)\n",
      "fpn_p2                 (Conv2D)\n",
      "fpn_p3                 (Conv2D)\n",
      "fpn_p4                 (Conv2D)\n",
      "In model:  rpn_model\n",
      "    rpn_conv_shared        (Conv2D)\n",
      "    rpn_class_raw          (Conv2D)\n",
      "    rpn_bbox_pred          (Conv2D)\n",
      "mrcnn_mask_conv1       (TimeDistributed)\n",
      "mrcnn_mask_bn1         (TimeDistributed)\n",
      "mrcnn_mask_conv2       (TimeDistributed)\n",
      "mrcnn_mask_bn2         (TimeDistributed)\n",
      "mrcnn_class_conv1      (TimeDistributed)\n",
      "mrcnn_class_bn1        (TimeDistributed)\n",
      "mrcnn_mask_conv3       (TimeDistributed)\n",
      "mrcnn_mask_bn3         (TimeDistributed)\n",
      "mrcnn_class_conv2      (TimeDistributed)\n",
      "mrcnn_class_bn2        (TimeDistributed)\n",
      "mrcnn_mask_conv4       (TimeDistributed)\n",
      "mrcnn_mask_bn4         (TimeDistributed)\n",
      "mrcnn_bbox_fc          (TimeDistributed)\n",
      "mrcnn_mask_deconv      (TimeDistributed)\n",
      "mrcnn_class_logits     (TimeDistributed)\n",
      "mrcnn_mask             (TimeDistributed)\n"
     ]
    },
    {
     "name": "stderr",
     "output_type": "stream",
     "text": [
      "/usr/local/lib/python3.6/dist-packages/tensorflow/python/ops/gradients_impl.py:100: UserWarning: Converting sparse IndexedSlices to a dense Tensor of unknown shape. This may consume a large amount of memory.\n",
      "  \"Converting sparse IndexedSlices to a dense Tensor of unknown shape. \"\n",
      "/usr/local/lib/python3.6/dist-packages/keras/engine/training.py:2087: UserWarning: Using a generator with `use_multiprocessing=True` and multiple workers may duplicate your data. Please consider using the`keras.utils.Sequence class.\n",
      "  UserWarning('Using a generator with `use_multiprocessing=True`'\n"
     ]
    }
   ],
   "source": [
    "# Create model in training mode\n",
    "model = modellib.MaskRCNN(mode=\"training\", config=config,\n",
    "                          model_dir=MODEL_DIR)\n",
    "\n",
    "model.train(dataset_train, dataset_val, \n",
    "            learning_rate=config.LEARNING_RATE, \n",
    "            epochs=1, \n",
    "            layers='heads')"
   ]
  },
  {
   "cell_type": "code",
   "execution_count": 0,
   "metadata": {
    "id": "R07AN1HvUxm7",
    "colab_type": "code",
    "colab": {
     "autoexec": {
      "startup": false,
      "wait_interval": 0.0
     }
    }
   },
   "outputs": [],
   "source": [
    "#model.train(dataset_train, dataset_val, \n",
    "#            learning_rate=config.LEARNING_RATE / 10,\n",
    "#            epochs=1, \n",
    "#            layers=\"all\")"
   ]
  },
  {
   "cell_type": "code",
   "execution_count": 0,
   "metadata": {
    "id": "zqhhOThXUxm9",
    "colab_type": "code",
    "colab": {
     "autoexec": {
      "startup": false,
      "wait_interval": 0.0
     }
    }
   },
   "outputs": [],
   "source": [
    ""
   ]
  },
  {
   "cell_type": "code",
   "execution_count": 0,
   "metadata": {
    "id": "aQEehfi4Uxm_",
    "colab_type": "code",
    "colab": {
     "autoexec": {
      "startup": false,
      "wait_interval": 0.0
     }
    }
   },
   "outputs": [],
   "source": [
    ""
   ]
  },
  {
   "cell_type": "code",
   "execution_count": 0,
   "metadata": {
    "id": "aB9Efw_oUxnB",
    "colab_type": "code",
    "colab": {
     "autoexec": {
      "startup": false,
      "wait_interval": 0.0
     }
    }
   },
   "outputs": [],
   "source": [
    ""
   ]
  },
  {
   "cell_type": "code",
   "execution_count": 0,
   "metadata": {
    "id": "LicJ3SLgUxnD",
    "colab_type": "code",
    "colab": {
     "autoexec": {
      "startup": false,
      "wait_interval": 0.0
     }
    }
   },
   "outputs": [],
   "source": [
    ""
   ]
  },
  {
   "cell_type": "code",
   "execution_count": 0,
   "metadata": {
    "id": "uLn6t_swUxnG",
    "colab_type": "code",
    "colab": {
     "autoexec": {
      "startup": false,
      "wait_interval": 0.0
     }
    }
   },
   "outputs": [],
   "source": [
    ""
   ]
  },
  {
   "cell_type": "code",
   "execution_count": 0,
   "metadata": {
    "id": "oIqARZBqKUsO",
    "colab_type": "code",
    "colab": {
     "autoexec": {
      "startup": false,
      "wait_interval": 0.0
     }
    }
   },
   "outputs": [],
   "source": [
    ""
   ]
  },
  {
   "cell_type": "code",
   "execution_count": 0,
   "metadata": {
    "id": "VN-1OTZ4UxnK",
    "colab_type": "code",
    "colab": {
     "autoexec": {
      "startup": false,
      "wait_interval": 0.0
     }
    }
   },
   "outputs": [],
   "source": [
    ""
   ]
  },
  {
   "cell_type": "code",
   "execution_count": 0,
   "metadata": {
    "id": "gCrsoCLrUxnM",
    "colab_type": "code",
    "colab": {
     "autoexec": {
      "startup": false,
      "wait_interval": 0.0
     }
    }
   },
   "outputs": [],
   "source": [
    ""
   ]
  },
  {
   "cell_type": "code",
   "execution_count": 0,
   "metadata": {
    "id": "D2pTIHMWUxnO",
    "colab_type": "code",
    "colab": {
     "autoexec": {
      "startup": false,
      "wait_interval": 0.0
     }
    }
   },
   "outputs": [],
   "source": [
    ""
   ]
  },
  {
   "cell_type": "code",
   "execution_count": 0,
   "metadata": {
    "id": "p3tY5QfUUxnP",
    "colab_type": "code",
    "colab": {
     "autoexec": {
      "startup": false,
      "wait_interval": 0.0
     }
    }
   },
   "outputs": [],
   "source": [
    ""
   ]
  },
  {
   "cell_type": "code",
   "execution_count": 0,
   "metadata": {
    "id": "HHHPooSDKZQG",
    "colab_type": "code",
    "colab": {
     "autoexec": {
      "startup": false,
      "wait_interval": 0.0
     }
    }
   },
   "outputs": [],
   "source": [
    ""
   ]
  },
  {
   "cell_type": "code",
   "execution_count": 0,
   "metadata": {
    "id": "LF4dk-IYKZQC",
    "colab_type": "code",
    "colab": {
     "autoexec": {
      "startup": false,
      "wait_interval": 0.0
     }
    }
   },
   "outputs": [],
   "source": [
    ""
   ]
  },
  {
   "cell_type": "code",
   "execution_count": 0,
   "metadata": {
    "id": "6aPcBz4sKZP-",
    "colab_type": "code",
    "colab": {
     "autoexec": {
      "startup": false,
      "wait_interval": 0.0
     }
    }
   },
   "outputs": [],
   "source": [
    ""
   ]
  },
  {
   "cell_type": "code",
   "execution_count": 0,
   "metadata": {
    "id": "-sIuiMuZKZP6",
    "colab_type": "code",
    "colab": {
     "autoexec": {
      "startup": false,
      "wait_interval": 0.0
     }
    }
   },
   "outputs": [],
   "source": [
    ""
   ]
  },
  {
   "cell_type": "code",
   "execution_count": 0,
   "metadata": {
    "id": "vcmDMabKKZP4",
    "colab_type": "code",
    "colab": {
     "autoexec": {
      "startup": false,
      "wait_interval": 0.0
     }
    }
   },
   "outputs": [],
   "source": [
    ""
   ]
  },
  {
   "cell_type": "code",
   "execution_count": 0,
   "metadata": {
    "id": "p7MUxIT-KZP0",
    "colab_type": "code",
    "colab": {
     "autoexec": {
      "startup": false,
      "wait_interval": 0.0
     }
    }
   },
   "outputs": [],
   "source": [
    ""
   ]
  }
 ],
 "metadata": {
  "colab": {
   "name": "wad_data_training-1.ipynb",
   "version": "0.3.2",
   "views": {},
   "default_view": {},
   "provenance": [],
   "collapsed_sections": []
  },
  "kernelspec": {
   "display_name": "Python 3",
   "language": "python",
   "name": "python3"
  },
  "accelerator": "GPU"
 },
 "nbformat": 4,
 "nbformat_minor": 0
}
