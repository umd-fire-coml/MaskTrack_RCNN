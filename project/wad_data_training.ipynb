{
 "cells": [
  {
   "cell_type": "code",
   "execution_count": 1,
   "metadata": {
    "colab": {
     "autoexec": {
      "startup": false,
      "wait_interval": 0
     },
     "base_uri": "https://localhost:8080/",
     "height": 192
    },
    "colab_type": "code",
    "executionInfo": {
     "elapsed": 49348,
     "status": "ok",
     "timestamp": 1529348255559,
     "user": {
      "displayName": "Raymond Tu",
      "photoUrl": "//lh4.googleusercontent.com/-PiJFrbeyvzs/AAAAAAAAAAI/AAAAAAAAFzs/UKFF-SotCVo/s50-c-k-no/photo.jpg",
      "userId": "112993143985468015422"
     },
     "user_tz": 240
    },
    "id": "oloy5NpyUxmL",
    "outputId": "3c4de2d8-e39c-4bcb-d0b2-8cdacfd28121"
   },
   "outputs": [
    {
     "name": "stdout",
     "output_type": "stream",
     "text": [
      " Volume in drive C is Windows\n",
      " Volume Serial Number is C67A-6D67\n",
      "\n",
      " Directory of C:\\Users\\tmthy\\Documents\\prog\\python3\\coml\\MaskTrack_RCNN\\project\n",
      "\n",
      "06/18/18  23:32    <DIR>          .\n",
      "06/18/18  23:32    <DIR>          ..\n",
      "06/18/18  22:49    <DIR>          .ipynb_checkpoints\n",
      "06/18/18  22:33             2,760 inspect_wad_data.ipynb\n",
      "06/18/18  23:27    <DIR>          logs\n",
      "06/18/18  22:48       257,557,808 mask_rcnn_coco.h5\n",
      "06/18/18  23:23            11,576 wad_data.py\n",
      "06/18/18  23:32            90,021 wad_data_training.ipynb\n",
      "06/18/18  23:23    <DIR>          __pycache__\n",
      "               4 File(s)    257,662,165 bytes\n",
      "               5 Dir(s)  119,161,159,680 bytes free\n"
     ]
    },
    {
     "name": "stderr",
     "output_type": "stream",
     "text": [
      "'export' is not recognized as an internal or external command,\n",
      "operable program or batch file.\n",
      "c:\\program files\\python36\\lib\\site-packages\\h5py\\__init__.py:36: FutureWarning: Conversion of the second argument of issubdtype from `float` to `np.floating` is deprecated. In future, it will be treated as `np.float64 == np.dtype(float).type`.\n",
      "  from ._conv import register_converters as _register_converters\n",
      "Using TensorFlow backend.\n"
     ]
    }
   ],
   "source": [
    "!dir\n",
    "#!rm -r MaskTrack_RCNN\n",
    "#!git clone https://github.com/umd-fire-coml/MaskTrack_RCNN\n",
    "\n",
    "import os\n",
    "from os.path import join, isfile\n",
    "import re\n",
    "import skimage.io\n",
    "import numpy as np\n",
    "import sys\n",
    "import random\n",
    "import math\n",
    "import re\n",
    "import numpy as np\n",
    "import cv2\n",
    "import matplotlib\n",
    "import matplotlib.pyplot as plt\n",
    "from time import time\n",
    "\n",
    "%matplotlib qt5 \n",
    "\n",
    "# Root directory of the project\n",
    "ROOT_DIR = os.path.abspath(\"./\")\n",
    "# Root directory of the dataset\n",
    "DATA_DIR = os.path.abspath(\"../dataset/wad\")\n",
    "sys.path.append(ROOT_DIR)  # To find local version of the library\n",
    "# Directory to save logs and trained model\n",
    "LOGS_DIR = os.path.join(ROOT_DIR, \"logs\")\n",
    "\n",
    "# Import Mask RCNN\n",
    "from mrcnn.config import Config\n",
    "from mrcnn import utils\n",
    "import mrcnn.model as modellib\n",
    "from mrcnn import visualize\n",
    "from mrcnn.model import log\n",
    "from mrcnn import config, utils\n",
    "\n",
    "\n",
    "\n",
    "# Local path to trained coco weights file\n",
    "COCO_MODEL_PATH = os.path.join(ROOT_DIR, \"mask_rcnn_coco.h5\")\n",
    "# Download COCO trained weights from Releases if needed\n",
    "if not os.path.exists(COCO_MODEL_PATH):\n",
    "    utils.download_trained_weights(COCO_MODEL_PATH)"
   ]
  },
  {
   "cell_type": "code",
   "execution_count": 2,
   "metadata": {
    "colab": {
     "autoexec": {
      "startup": false,
      "wait_interval": 0
     },
     "base_uri": "https://localhost:8080/",
     "height": 69
    },
    "colab_type": "code",
    "executionInfo": {
     "elapsed": 1507,
     "status": "ok",
     "timestamp": 1529348392105,
     "user": {
      "displayName": "Raymond Tu",
      "photoUrl": "//lh4.googleusercontent.com/-PiJFrbeyvzs/AAAAAAAAAAI/AAAAAAAAFzs/UKFF-SotCVo/s50-c-k-no/photo.jpg",
      "userId": "112993143985468015422"
     },
     "user_tz": 240
    },
    "id": "TiZsos23SzpE",
    "outputId": "7534bdfe-2edb-49eb-c71e-b458b02576d1"
   },
   "outputs": [
    {
     "name": "stdout",
     "output_type": "stream",
     "text": [
      " Volume in drive C is Windows\n",
      " Volume Serial Number is C67A-6D67\n",
      "\n",
      " Directory of C:\\Users\\tmthy\\Documents\\prog\\python3\\coml\\MaskTrack_RCNN\\project\n",
      "\n"
     ]
    },
    {
     "name": "stderr",
     "output_type": "stream",
     "text": [
      "File Not Found\n"
     ]
    }
   ],
   "source": [
    "!dir MaskTrack_RCNN"
   ]
  },
  {
   "cell_type": "markdown",
   "metadata": {
    "colab_type": "text",
    "id": "ZrDSKKPUTJII"
   },
   "source": [
    "## Configuration"
   ]
  },
  {
   "cell_type": "code",
   "execution_count": 3,
   "metadata": {
    "colab": {
     "autoexec": {
      "startup": false,
      "wait_interval": 0
     },
     "base_uri": "https://localhost:8080/",
     "height": 892
    },
    "colab_type": "code",
    "executionInfo": {
     "elapsed": 184,
     "status": "ok",
     "timestamp": 1529348394269,
     "user": {
      "displayName": "Raymond Tu",
      "photoUrl": "//lh4.googleusercontent.com/-PiJFrbeyvzs/AAAAAAAAAAI/AAAAAAAAFzs/UKFF-SotCVo/s50-c-k-no/photo.jpg",
      "userId": "112993143985468015422"
     },
     "user_tz": 240
    },
    "id": "OTT9HIDCTC8i",
    "outputId": "79f542b0-7ee6-437f-fd7a-effa5b9f932c"
   },
   "outputs": [
    {
     "name": "stdout",
     "output_type": "stream",
     "text": [
      "\n",
      "Configurations:\n",
      "BACKBONE                       resnet101\n",
      "BACKBONE_STRIDES               [4, 8, 16, 32, 64]\n",
      "BATCH_SIZE                     2\n",
      "BBOX_STD_DEV                   [0.1 0.1 0.2 0.2]\n",
      "DETECTION_MAX_INSTANCES        100\n",
      "DETECTION_MIN_CONFIDENCE       0.7\n",
      "DETECTION_NMS_THRESHOLD        0.3\n",
      "GPU_COUNT                      1\n",
      "GRADIENT_CLIP_NORM             5.0\n",
      "IMAGES_PER_GPU                 2\n",
      "IMAGE_MAX_DIM                  1024\n",
      "IMAGE_META_SIZE                48\n",
      "IMAGE_MIN_DIM                  800\n",
      "IMAGE_MIN_SCALE                0\n",
      "IMAGE_RESIZE_MODE              square\n",
      "IMAGE_SHAPE                    [1024 1024    3]\n",
      "LEARNING_MOMENTUM              0.9\n",
      "LEARNING_RATE                  0.001\n",
      "LOSS_WEIGHTS                   {'rpn_class_loss': 1.0, 'rpn_bbox_loss': 1.0, 'mrcnn_class_loss': 1.0, 'mrcnn_bbox_loss': 1.0, 'mrcnn_mask_loss': 1.0}\n",
      "MASK_POOL_SIZE                 14\n",
      "MASK_SHAPE                     [28, 28]\n",
      "MAX_GT_INSTANCES               100\n",
      "MEAN_PIXEL                     [123.7 116.8 103.9]\n",
      "MINI_MASK_SHAPE                (56, 56)\n",
      "NAME                           WAD\n",
      "NUM_CLASSES                    36\n",
      "POOL_SIZE                      7\n",
      "POST_NMS_ROIS_INFERENCE        1000\n",
      "POST_NMS_ROIS_TRAINING         2000\n",
      "ROI_POSITIVE_RATIO             0.33\n",
      "RPN_ANCHOR_RATIOS              [0.5, 1, 2]\n",
      "RPN_ANCHOR_SCALES              (32, 64, 128, 256, 512)\n",
      "RPN_ANCHOR_STRIDE              1\n",
      "RPN_BBOX_STD_DEV               [0.1 0.1 0.2 0.2]\n",
      "RPN_NMS_THRESHOLD              0.7\n",
      "RPN_TRAIN_ANCHORS_PER_IMAGE    256\n",
      "STEPS_PER_EPOCH                1000\n",
      "TRAIN_BN                       False\n",
      "TRAIN_ROIS_PER_IMAGE           200\n",
      "USE_MINI_MASK                  True\n",
      "USE_RPN_ROIS                   True\n",
      "VALIDATION_STEPS               50\n",
      "WEIGHT_DECAY                   0.0001\n",
      "\n",
      "\n"
     ]
    }
   ],
   "source": [
    "from project import wad_data\n",
    "config = wad_data.WADConfig()\n",
    "config.display()"
   ]
  },
  {
   "cell_type": "markdown",
   "metadata": {
    "colab_type": "text",
    "id": "Unxlaax_TSfv"
   },
   "source": [
    "## Dataset\n",
    "\n",
    "load_mask has been tested. green light .. green light"
   ]
  },
  {
   "cell_type": "code",
   "execution_count": 4,
   "metadata": {
    "colab": {
     "autoexec": {
      "startup": false,
      "wait_interval": 0
     }
    },
    "colab_type": "code",
    "id": "dEyP-1tATFRb"
   },
   "outputs": [
    {
     "name": "stdout",
     "output_type": "stream",
     "text": [
      "[{'id': '170908_061502408_Camera_5', 'source': 'WAD', 'path': '170908_061502408_Camera_5.jpg', 'mask_path': '170908_061502408_Camera_5_instanceIds.png'}, {'id': '170908_061502408_Camera_6', 'source': 'WAD', 'path': '170908_061502408_Camera_6.jpg', 'mask_path': '170908_061502408_Camera_6_instanceIds.png'}, {'id': '170908_061502547_Camera_5', 'source': 'WAD', 'path': '170908_061502547_Camera_5.jpg', 'mask_path': '170908_061502547_Camera_5_instanceIds.png'}, {'id': '170908_061502547_Camera_6', 'source': 'WAD', 'path': '170908_061502547_Camera_6.jpg', 'mask_path': '170908_061502547_Camera_6_instanceIds.png'}, {'id': '170908_061502686_Camera_5', 'source': 'WAD', 'path': '170908_061502686_Camera_5.jpg', 'mask_path': '170908_061502686_Camera_5_instanceIds.png'}, {'id': '170908_061502825_Camera_5', 'source': 'WAD', 'path': '170908_061502825_Camera_5.jpg', 'mask_path': '170908_061502825_Camera_5_instanceIds.png'}, {'id': '170908_061502825_Camera_6', 'source': 'WAD', 'path': '170908_061502825_Camera_6.jpg', 'mask_path': '170908_061502825_Camera_6_instanceIds.png'}, {'id': '170908_061502964_Camera_5', 'source': 'WAD', 'path': '170908_061502964_Camera_5.jpg', 'mask_path': '170908_061502964_Camera_5_instanceIds.png'}, {'id': '170908_061502964_Camera_6', 'source': 'WAD', 'path': '170908_061502964_Camera_6.jpg', 'mask_path': '170908_061502964_Camera_6_instanceIds.png'}, {'id': '170908_061503103_Camera_5', 'source': 'WAD', 'path': '170908_061503103_Camera_5.jpg', 'mask_path': '170908_061503103_Camera_5_instanceIds.png'}, {'id': '170908_061503103_Camera_6', 'source': 'WAD', 'path': '170908_061503103_Camera_6.jpg', 'mask_path': '170908_061503103_Camera_6_instanceIds.png'}, {'id': '170908_061503242_Camera_5', 'source': 'WAD', 'path': '170908_061503242_Camera_5.jpg', 'mask_path': '170908_061503242_Camera_5_instanceIds.png'}, {'id': '170908_061503242_Camera_6', 'source': 'WAD', 'path': '170908_061503242_Camera_6.jpg', 'mask_path': '170908_061503242_Camera_6_instanceIds.png'}, {'id': '170908_061503381_Camera_5', 'source': 'WAD', 'path': '170908_061503381_Camera_5.jpg', 'mask_path': '170908_061503381_Camera_5_instanceIds.png'}, {'id': '170908_061503381_Camera_6', 'source': 'WAD', 'path': '170908_061503381_Camera_6.jpg', 'mask_path': '170908_061503381_Camera_6_instanceIds.png'}, {'id': '170908_061503520_Camera_5', 'source': 'WAD', 'path': '170908_061503520_Camera_5.jpg', 'mask_path': '170908_061503520_Camera_5_instanceIds.png'}, {'id': '170908_061503520_Camera_6', 'source': 'WAD', 'path': '170908_061503520_Camera_6.jpg', 'mask_path': '170908_061503520_Camera_6_instanceIds.png'}, {'id': '170908_061503659_Camera_5', 'source': 'WAD', 'path': '170908_061503659_Camera_5.jpg', 'mask_path': '170908_061503659_Camera_5_instanceIds.png'}, {'id': '170908_061503659_Camera_6', 'source': 'WAD', 'path': '170908_061503659_Camera_6.jpg', 'mask_path': '170908_061503659_Camera_6_instanceIds.png'}, {'id': '170908_061503798_Camera_5', 'source': 'WAD', 'path': '170908_061503798_Camera_5.jpg', 'mask_path': '170908_061503798_Camera_5_instanceIds.png'}, {'id': '170908_061503937_Camera_5', 'source': 'WAD', 'path': '170908_061503937_Camera_5.jpg', 'mask_path': '170908_061503937_Camera_5_instanceIds.png'}, {'id': '170908_061503937_Camera_6', 'source': 'WAD', 'path': '170908_061503937_Camera_6.jpg', 'mask_path': '170908_061503937_Camera_6_instanceIds.png'}, {'id': '170908_061504076_Camera_5', 'source': 'WAD', 'path': '170908_061504076_Camera_5.jpg', 'mask_path': '170908_061504076_Camera_5_instanceIds.png'}, {'id': '170908_061504076_Camera_6', 'source': 'WAD', 'path': '170908_061504076_Camera_6.jpg', 'mask_path': '170908_061504076_Camera_6_instanceIds.png'}, {'id': '170908_061504215_Camera_5', 'source': 'WAD', 'path': '170908_061504215_Camera_5.jpg', 'mask_path': '170908_061504215_Camera_5_instanceIds.png'}, {'id': '170908_061504215_Camera_6', 'source': 'WAD', 'path': '170908_061504215_Camera_6.jpg', 'mask_path': '170908_061504215_Camera_6_instanceIds.png'}, {'id': '170908_061504354_Camera_5', 'source': 'WAD', 'path': '170908_061504354_Camera_5.jpg', 'mask_path': '170908_061504354_Camera_5_instanceIds.png'}, {'id': '170908_061504354_Camera_6', 'source': 'WAD', 'path': '170908_061504354_Camera_6.jpg', 'mask_path': '170908_061504354_Camera_6_instanceIds.png'}, {'id': '170908_061504493_Camera_5', 'source': 'WAD', 'path': '170908_061504493_Camera_5.jpg', 'mask_path': '170908_061504493_Camera_5_instanceIds.png'}, {'id': '170908_061504493_Camera_6', 'source': 'WAD', 'path': '170908_061504493_Camera_6.jpg', 'mask_path': '170908_061504493_Camera_6_instanceIds.png'}, {'id': '170908_061504632_Camera_5', 'source': 'WAD', 'path': '170908_061504632_Camera_5.jpg', 'mask_path': '170908_061504632_Camera_5_instanceIds.png'}, {'id': '170908_061504632_Camera_6', 'source': 'WAD', 'path': '170908_061504632_Camera_6.jpg', 'mask_path': '170908_061504632_Camera_6_instanceIds.png'}, {'id': '170908_061504771_Camera_5', 'source': 'WAD', 'path': '170908_061504771_Camera_5.jpg', 'mask_path': '170908_061504771_Camera_5_instanceIds.png'}, {'id': '170908_061504771_Camera_6', 'source': 'WAD', 'path': '170908_061504771_Camera_6.jpg', 'mask_path': '170908_061504771_Camera_6_instanceIds.png'}, {'id': '170908_061504910_Camera_5', 'source': 'WAD', 'path': '170908_061504910_Camera_5.jpg', 'mask_path': '170908_061504910_Camera_5_instanceIds.png'}, {'id': '170908_061504910_Camera_6', 'source': 'WAD', 'path': '170908_061504910_Camera_6.jpg', 'mask_path': '170908_061504910_Camera_6_instanceIds.png'}, {'id': '170908_061505049_Camera_5', 'source': 'WAD', 'path': '170908_061505049_Camera_5.jpg', 'mask_path': '170908_061505049_Camera_5_instanceIds.png'}, {'id': '170908_061505049_Camera_6', 'source': 'WAD', 'path': '170908_061505049_Camera_6.jpg', 'mask_path': '170908_061505049_Camera_6_instanceIds.png'}, {'id': '170908_061505188_Camera_5', 'source': 'WAD', 'path': '170908_061505188_Camera_5.jpg', 'mask_path': '170908_061505188_Camera_5_instanceIds.png'}, {'id': '170908_061505188_Camera_6', 'source': 'WAD', 'path': '170908_061505188_Camera_6.jpg', 'mask_path': '170908_061505188_Camera_6_instanceIds.png'}, {'id': '170908_061505327_Camera_5', 'source': 'WAD', 'path': '170908_061505327_Camera_5.jpg', 'mask_path': '170908_061505327_Camera_5_instanceIds.png'}, {'id': '170908_061505327_Camera_6', 'source': 'WAD', 'path': '170908_061505327_Camera_6.jpg', 'mask_path': '170908_061505327_Camera_6_instanceIds.png'}, {'id': '170908_061505466_Camera_5', 'source': 'WAD', 'path': '170908_061505466_Camera_5.jpg', 'mask_path': '170908_061505466_Camera_5_instanceIds.png'}, {'id': '170908_061505466_Camera_6', 'source': 'WAD', 'path': '170908_061505466_Camera_6.jpg', 'mask_path': '170908_061505466_Camera_6_instanceIds.png'}, {'id': '170908_061505605_Camera_5', 'source': 'WAD', 'path': '170908_061505605_Camera_5.jpg', 'mask_path': '170908_061505605_Camera_5_instanceIds.png'}, {'id': '170908_061505605_Camera_6', 'source': 'WAD', 'path': '170908_061505605_Camera_6.jpg', 'mask_path': '170908_061505605_Camera_6_instanceIds.png'}, {'id': '170908_061505744_Camera_5', 'source': 'WAD', 'path': '170908_061505744_Camera_5.jpg', 'mask_path': '170908_061505744_Camera_5_instanceIds.png'}, {'id': '170908_061505744_Camera_6', 'source': 'WAD', 'path': '170908_061505744_Camera_6.jpg', 'mask_path': '170908_061505744_Camera_6_instanceIds.png'}, {'id': '170908_061505883_Camera_5', 'source': 'WAD', 'path': '170908_061505883_Camera_5.jpg', 'mask_path': '170908_061505883_Camera_5_instanceIds.png'}, {'id': '170908_061505883_Camera_6', 'source': 'WAD', 'path': '170908_061505883_Camera_6.jpg', 'mask_path': '170908_061505883_Camera_6_instanceIds.png'}, {'id': '170908_061506022_Camera_5', 'source': 'WAD', 'path': '170908_061506022_Camera_5.jpg', 'mask_path': '170908_061506022_Camera_5_instanceIds.png'}, {'id': '170908_061506022_Camera_6', 'source': 'WAD', 'path': '170908_061506022_Camera_6.jpg', 'mask_path': '170908_061506022_Camera_6_instanceIds.png'}, {'id': '170908_061506161_Camera_5', 'source': 'WAD', 'path': '170908_061506161_Camera_5.jpg', 'mask_path': '170908_061506161_Camera_5_instanceIds.png'}, {'id': '170908_061506161_Camera_6', 'source': 'WAD', 'path': '170908_061506161_Camera_6.jpg', 'mask_path': '170908_061506161_Camera_6_instanceIds.png'}, {'id': '170908_061506300_Camera_5', 'source': 'WAD', 'path': '170908_061506300_Camera_5.jpg', 'mask_path': '170908_061506300_Camera_5_instanceIds.png'}, {'id': '170908_061506300_Camera_6', 'source': 'WAD', 'path': '170908_061506300_Camera_6.jpg', 'mask_path': '170908_061506300_Camera_6_instanceIds.png'}, {'id': '170908_061506439_Camera_5', 'source': 'WAD', 'path': '170908_061506439_Camera_5.jpg', 'mask_path': '170908_061506439_Camera_5_instanceIds.png'}, {'id': '170908_061506439_Camera_6', 'source': 'WAD', 'path': '170908_061506439_Camera_6.jpg', 'mask_path': '170908_061506439_Camera_6_instanceIds.png'}, {'id': '170908_061506578_Camera_5', 'source': 'WAD', 'path': '170908_061506578_Camera_5.jpg', 'mask_path': '170908_061506578_Camera_5_instanceIds.png'}, {'id': '170908_061506578_Camera_6', 'source': 'WAD', 'path': '170908_061506578_Camera_6.jpg', 'mask_path': '170908_061506578_Camera_6_instanceIds.png'}, {'id': '170908_061506717_Camera_5', 'source': 'WAD', 'path': '170908_061506717_Camera_5.jpg', 'mask_path': '170908_061506717_Camera_5_instanceIds.png'}, {'id': '170908_061506856_Camera_5', 'source': 'WAD', 'path': '170908_061506856_Camera_5.jpg', 'mask_path': '170908_061506856_Camera_5_instanceIds.png'}, {'id': '170908_061506856_Camera_6', 'source': 'WAD', 'path': '170908_061506856_Camera_6.jpg', 'mask_path': '170908_061506856_Camera_6_instanceIds.png'}, {'id': '170908_061506995_Camera_5', 'source': 'WAD', 'path': '170908_061506995_Camera_5.jpg', 'mask_path': '170908_061506995_Camera_5_instanceIds.png'}, {'id': '170908_061506995_Camera_6', 'source': 'WAD', 'path': '170908_061506995_Camera_6.jpg', 'mask_path': '170908_061506995_Camera_6_instanceIds.png'}, {'id': '170908_061507134_Camera_5', 'source': 'WAD', 'path': '170908_061507134_Camera_5.jpg', 'mask_path': '170908_061507134_Camera_5_instanceIds.png'}, {'id': '170908_061507134_Camera_6', 'source': 'WAD', 'path': '170908_061507134_Camera_6.jpg', 'mask_path': '170908_061507134_Camera_6_instanceIds.png'}, {'id': '170908_061507273_Camera_5', 'source': 'WAD', 'path': '170908_061507273_Camera_5.jpg', 'mask_path': '170908_061507273_Camera_5_instanceIds.png'}, {'id': '170908_061507273_Camera_6', 'source': 'WAD', 'path': '170908_061507273_Camera_6.jpg', 'mask_path': '170908_061507273_Camera_6_instanceIds.png'}, {'id': '170908_061507412_Camera_5', 'source': 'WAD', 'path': '170908_061507412_Camera_5.jpg', 'mask_path': '170908_061507412_Camera_5_instanceIds.png'}, {'id': '170908_061507412_Camera_6', 'source': 'WAD', 'path': '170908_061507412_Camera_6.jpg', 'mask_path': '170908_061507412_Camera_6_instanceIds.png'}, {'id': '170908_061507551_Camera_5', 'source': 'WAD', 'path': '170908_061507551_Camera_5.jpg', 'mask_path': '170908_061507551_Camera_5_instanceIds.png'}, {'id': '170908_061507551_Camera_6', 'source': 'WAD', 'path': '170908_061507551_Camera_6.jpg', 'mask_path': '170908_061507551_Camera_6_instanceIds.png'}, {'id': '170908_061507690_Camera_5', 'source': 'WAD', 'path': '170908_061507690_Camera_5.jpg', 'mask_path': '170908_061507690_Camera_5_instanceIds.png'}, {'id': '170908_061507690_Camera_6', 'source': 'WAD', 'path': '170908_061507690_Camera_6.jpg', 'mask_path': '170908_061507690_Camera_6_instanceIds.png'}, {'id': '170908_061507829_Camera_5', 'source': 'WAD', 'path': '170908_061507829_Camera_5.jpg', 'mask_path': '170908_061507829_Camera_5_instanceIds.png'}, {'id': '170908_061507829_Camera_6', 'source': 'WAD', 'path': '170908_061507829_Camera_6.jpg', 'mask_path': '170908_061507829_Camera_6_instanceIds.png'}, {'id': '170908_061507968_Camera_6', 'source': 'WAD', 'path': '170908_061507968_Camera_6.jpg', 'mask_path': '170908_061507968_Camera_6_instanceIds.png'}, {'id': '170908_061508107_Camera_5', 'source': 'WAD', 'path': '170908_061508107_Camera_5.jpg', 'mask_path': '170908_061508107_Camera_5_instanceIds.png'}, {'id': '170908_061508107_Camera_6', 'source': 'WAD', 'path': '170908_061508107_Camera_6.jpg', 'mask_path': '170908_061508107_Camera_6_instanceIds.png'}, {'id': '170908_061508246_Camera_5', 'source': 'WAD', 'path': '170908_061508246_Camera_5.jpg', 'mask_path': '170908_061508246_Camera_5_instanceIds.png'}, {'id': '170908_061508246_Camera_6', 'source': 'WAD', 'path': '170908_061508246_Camera_6.jpg', 'mask_path': '170908_061508246_Camera_6_instanceIds.png'}, {'id': '170908_061508385_Camera_5', 'source': 'WAD', 'path': '170908_061508385_Camera_5.jpg', 'mask_path': '170908_061508385_Camera_5_instanceIds.png'}, {'id': '170908_061508385_Camera_6', 'source': 'WAD', 'path': '170908_061508385_Camera_6.jpg', 'mask_path': '170908_061508385_Camera_6_instanceIds.png'}, {'id': '170908_061508524_Camera_5', 'source': 'WAD', 'path': '170908_061508524_Camera_5.jpg', 'mask_path': '170908_061508524_Camera_5_instanceIds.png'}, {'id': '170908_061508524_Camera_6', 'source': 'WAD', 'path': '170908_061508524_Camera_6.jpg', 'mask_path': '170908_061508524_Camera_6_instanceIds.png'}, {'id': '170908_061508663_Camera_6', 'source': 'WAD', 'path': '170908_061508663_Camera_6.jpg', 'mask_path': '170908_061508663_Camera_6_instanceIds.png'}, {'id': '170908_061508802_Camera_5', 'source': 'WAD', 'path': '170908_061508802_Camera_5.jpg', 'mask_path': '170908_061508802_Camera_5_instanceIds.png'}, {'id': '170908_061508802_Camera_6', 'source': 'WAD', 'path': '170908_061508802_Camera_6.jpg', 'mask_path': '170908_061508802_Camera_6_instanceIds.png'}, {'id': '170908_061508941_Camera_5', 'source': 'WAD', 'path': '170908_061508941_Camera_5.jpg', 'mask_path': '170908_061508941_Camera_5_instanceIds.png'}, {'id': '170908_061508941_Camera_6', 'source': 'WAD', 'path': '170908_061508941_Camera_6.jpg', 'mask_path': '170908_061508941_Camera_6_instanceIds.png'}, {'id': '170908_061509080_Camera_5', 'source': 'WAD', 'path': '170908_061509080_Camera_5.jpg', 'mask_path': '170908_061509080_Camera_5_instanceIds.png'}, {'id': '170908_061509080_Camera_6', 'source': 'WAD', 'path': '170908_061509080_Camera_6.jpg', 'mask_path': '170908_061509080_Camera_6_instanceIds.png'}, {'id': '170908_061509219_Camera_5', 'source': 'WAD', 'path': '170908_061509219_Camera_5.jpg', 'mask_path': '170908_061509219_Camera_5_instanceIds.png'}, {'id': '170908_061509219_Camera_6', 'source': 'WAD', 'path': '170908_061509219_Camera_6.jpg', 'mask_path': '170908_061509219_Camera_6_instanceIds.png'}, {'id': '170908_061509358_Camera_5', 'source': 'WAD', 'path': '170908_061509358_Camera_5.jpg', 'mask_path': '170908_061509358_Camera_5_instanceIds.png'}, {'id': '170908_061509358_Camera_6', 'source': 'WAD', 'path': '170908_061509358_Camera_6.jpg', 'mask_path': '170908_061509358_Camera_6_instanceIds.png'}, {'id': '170908_061509497_Camera_5', 'source': 'WAD', 'path': '170908_061509497_Camera_5.jpg', 'mask_path': '170908_061509497_Camera_5_instanceIds.png'}, {'id': '170908_061509497_Camera_6', 'source': 'WAD', 'path': '170908_061509497_Camera_6.jpg', 'mask_path': '170908_061509497_Camera_6_instanceIds.png'}, {'id': '170908_061509636_Camera_5', 'source': 'WAD', 'path': '170908_061509636_Camera_5.jpg', 'mask_path': '170908_061509636_Camera_5_instanceIds.png'}, {'id': '170908_061509636_Camera_6', 'source': 'WAD', 'path': '170908_061509636_Camera_6.jpg', 'mask_path': '170908_061509636_Camera_6_instanceIds.png'}, {'id': '170908_061509775_Camera_5', 'source': 'WAD', 'path': '170908_061509775_Camera_5.jpg', 'mask_path': '170908_061509775_Camera_5_instanceIds.png'}, {'id': '170908_061509775_Camera_6', 'source': 'WAD', 'path': '170908_061509775_Camera_6.jpg', 'mask_path': '170908_061509775_Camera_6_instanceIds.png'}, {'id': '170908_061509914_Camera_5', 'source': 'WAD', 'path': '170908_061509914_Camera_5.jpg', 'mask_path': '170908_061509914_Camera_5_instanceIds.png'}, {'id': '170908_061509914_Camera_6', 'source': 'WAD', 'path': '170908_061509914_Camera_6.jpg', 'mask_path': '170908_061509914_Camera_6_instanceIds.png'}, {'id': '170908_061510053_Camera_5', 'source': 'WAD', 'path': '170908_061510053_Camera_5.jpg', 'mask_path': '170908_061510053_Camera_5_instanceIds.png'}, {'id': '170908_061510053_Camera_6', 'source': 'WAD', 'path': '170908_061510053_Camera_6.jpg', 'mask_path': '170908_061510053_Camera_6_instanceIds.png'}, {'id': '170908_061510192_Camera_5', 'source': 'WAD', 'path': '170908_061510192_Camera_5.jpg', 'mask_path': '170908_061510192_Camera_5_instanceIds.png'}, {'id': '170908_061510192_Camera_6', 'source': 'WAD', 'path': '170908_061510192_Camera_6.jpg', 'mask_path': '170908_061510192_Camera_6_instanceIds.png'}, {'id': '170908_061510331_Camera_5', 'source': 'WAD', 'path': '170908_061510331_Camera_5.jpg', 'mask_path': '170908_061510331_Camera_5_instanceIds.png'}, {'id': '170908_061510331_Camera_6', 'source': 'WAD', 'path': '170908_061510331_Camera_6.jpg', 'mask_path': '170908_061510331_Camera_6_instanceIds.png'}, {'id': '170908_061510470_Camera_5', 'source': 'WAD', 'path': '170908_061510470_Camera_5.jpg', 'mask_path': '170908_061510470_Camera_5_instanceIds.png'}, {'id': '170908_061510470_Camera_6', 'source': 'WAD', 'path': '170908_061510470_Camera_6.jpg', 'mask_path': '170908_061510470_Camera_6_instanceIds.png'}, {'id': '170908_061510609_Camera_5', 'source': 'WAD', 'path': '170908_061510609_Camera_5.jpg', 'mask_path': '170908_061510609_Camera_5_instanceIds.png'}, {'id': '170908_061510609_Camera_6', 'source': 'WAD', 'path': '170908_061510609_Camera_6.jpg', 'mask_path': '170908_061510609_Camera_6_instanceIds.png'}, {'id': '170908_061510748_Camera_5', 'source': 'WAD', 'path': '170908_061510748_Camera_5.jpg', 'mask_path': '170908_061510748_Camera_5_instanceIds.png'}, {'id': '170908_061510748_Camera_6', 'source': 'WAD', 'path': '170908_061510748_Camera_6.jpg', 'mask_path': '170908_061510748_Camera_6_instanceIds.png'}, {'id': '170908_061510887_Camera_5', 'source': 'WAD', 'path': '170908_061510887_Camera_5.jpg', 'mask_path': '170908_061510887_Camera_5_instanceIds.png'}, {'id': '170908_061510887_Camera_6', 'source': 'WAD', 'path': '170908_061510887_Camera_6.jpg', 'mask_path': '170908_061510887_Camera_6_instanceIds.png'}, {'id': '170908_061511026_Camera_5', 'source': 'WAD', 'path': '170908_061511026_Camera_5.jpg', 'mask_path': '170908_061511026_Camera_5_instanceIds.png'}, {'id': '170908_061511026_Camera_6', 'source': 'WAD', 'path': '170908_061511026_Camera_6.jpg', 'mask_path': '170908_061511026_Camera_6_instanceIds.png'}, {'id': '170908_061511165_Camera_5', 'source': 'WAD', 'path': '170908_061511165_Camera_5.jpg', 'mask_path': '170908_061511165_Camera_5_instanceIds.png'}, {'id': '170908_061511165_Camera_6', 'source': 'WAD', 'path': '170908_061511165_Camera_6.jpg', 'mask_path': '170908_061511165_Camera_6_instanceIds.png'}, {'id': '170908_061511304_Camera_5', 'source': 'WAD', 'path': '170908_061511304_Camera_5.jpg', 'mask_path': '170908_061511304_Camera_5_instanceIds.png'}, {'id': '170908_061511304_Camera_6', 'source': 'WAD', 'path': '170908_061511304_Camera_6.jpg', 'mask_path': '170908_061511304_Camera_6_instanceIds.png'}, {'id': '170908_061511443_Camera_5', 'source': 'WAD', 'path': '170908_061511443_Camera_5.jpg', 'mask_path': '170908_061511443_Camera_5_instanceIds.png'}, {'id': '170908_061511443_Camera_6', 'source': 'WAD', 'path': '170908_061511443_Camera_6.jpg', 'mask_path': '170908_061511443_Camera_6_instanceIds.png'}, {'id': '170908_061511582_Camera_5', 'source': 'WAD', 'path': '170908_061511582_Camera_5.jpg', 'mask_path': '170908_061511582_Camera_5_instanceIds.png'}, {'id': '170908_061511582_Camera_6', 'source': 'WAD', 'path': '170908_061511582_Camera_6.jpg', 'mask_path': '170908_061511582_Camera_6_instanceIds.png'}, {'id': '170908_061511721_Camera_5', 'source': 'WAD', 'path': '170908_061511721_Camera_5.jpg', 'mask_path': '170908_061511721_Camera_5_instanceIds.png'}, {'id': '170908_061511721_Camera_6', 'source': 'WAD', 'path': '170908_061511721_Camera_6.jpg', 'mask_path': '170908_061511721_Camera_6_instanceIds.png'}, {'id': '170908_061511860_Camera_5', 'source': 'WAD', 'path': '170908_061511860_Camera_5.jpg', 'mask_path': '170908_061511860_Camera_5_instanceIds.png'}, {'id': '170908_061511860_Camera_6', 'source': 'WAD', 'path': '170908_061511860_Camera_6.jpg', 'mask_path': '170908_061511860_Camera_6_instanceIds.png'}, {'id': '170908_061511999_Camera_5', 'source': 'WAD', 'path': '170908_061511999_Camera_5.jpg', 'mask_path': '170908_061511999_Camera_5_instanceIds.png'}, {'id': '170908_061511999_Camera_6', 'source': 'WAD', 'path': '170908_061511999_Camera_6.jpg', 'mask_path': '170908_061511999_Camera_6_instanceIds.png'}, {'id': '170908_061512138_Camera_5', 'source': 'WAD', 'path': '170908_061512138_Camera_5.jpg', 'mask_path': '170908_061512138_Camera_5_instanceIds.png'}, {'id': '170908_061512138_Camera_6', 'source': 'WAD', 'path': '170908_061512138_Camera_6.jpg', 'mask_path': '170908_061512138_Camera_6_instanceIds.png'}, {'id': '170908_061512277_Camera_5', 'source': 'WAD', 'path': '170908_061512277_Camera_5.jpg', 'mask_path': '170908_061512277_Camera_5_instanceIds.png'}, {'id': '170908_061512277_Camera_6', 'source': 'WAD', 'path': '170908_061512277_Camera_6.jpg', 'mask_path': '170908_061512277_Camera_6_instanceIds.png'}, {'id': '170908_061512416_Camera_5', 'source': 'WAD', 'path': '170908_061512416_Camera_5.jpg', 'mask_path': '170908_061512416_Camera_5_instanceIds.png'}, {'id': '170908_061512416_Camera_6', 'source': 'WAD', 'path': '170908_061512416_Camera_6.jpg', 'mask_path': '170908_061512416_Camera_6_instanceIds.png'}, {'id': '170908_061512555_Camera_5', 'source': 'WAD', 'path': '170908_061512555_Camera_5.jpg', 'mask_path': '170908_061512555_Camera_5_instanceIds.png'}, {'id': '170908_061512555_Camera_6', 'source': 'WAD', 'path': '170908_061512555_Camera_6.jpg', 'mask_path': '170908_061512555_Camera_6_instanceIds.png'}, {'id': '170908_061512694_Camera_5', 'source': 'WAD', 'path': '170908_061512694_Camera_5.jpg', 'mask_path': '170908_061512694_Camera_5_instanceIds.png'}, {'id': '170908_061512694_Camera_6', 'source': 'WAD', 'path': '170908_061512694_Camera_6.jpg', 'mask_path': '170908_061512694_Camera_6_instanceIds.png'}, {'id': '170908_061512833_Camera_5', 'source': 'WAD', 'path': '170908_061512833_Camera_5.jpg', 'mask_path': '170908_061512833_Camera_5_instanceIds.png'}, {'id': '170908_061512833_Camera_6', 'source': 'WAD', 'path': '170908_061512833_Camera_6.jpg', 'mask_path': '170908_061512833_Camera_6_instanceIds.png'}, {'id': '170908_061512972_Camera_5', 'source': 'WAD', 'path': '170908_061512972_Camera_5.jpg', 'mask_path': '170908_061512972_Camera_5_instanceIds.png'}, {'id': '170908_061512972_Camera_6', 'source': 'WAD', 'path': '170908_061512972_Camera_6.jpg', 'mask_path': '170908_061512972_Camera_6_instanceIds.png'}, {'id': '170908_061513111_Camera_6', 'source': 'WAD', 'path': '170908_061513111_Camera_6.jpg', 'mask_path': '170908_061513111_Camera_6_instanceIds.png'}, {'id': '170908_061513250_Camera_5', 'source': 'WAD', 'path': '170908_061513250_Camera_5.jpg', 'mask_path': '170908_061513250_Camera_5_instanceIds.png'}, {'id': '170908_061513250_Camera_6', 'source': 'WAD', 'path': '170908_061513250_Camera_6.jpg', 'mask_path': '170908_061513250_Camera_6_instanceIds.png'}, {'id': '170908_061513389_Camera_5', 'source': 'WAD', 'path': '170908_061513389_Camera_5.jpg', 'mask_path': '170908_061513389_Camera_5_instanceIds.png'}, {'id': '170908_061513389_Camera_6', 'source': 'WAD', 'path': '170908_061513389_Camera_6.jpg', 'mask_path': '170908_061513389_Camera_6_instanceIds.png'}, {'id': '170908_061513528_Camera_6', 'source': 'WAD', 'path': '170908_061513528_Camera_6.jpg', 'mask_path': '170908_061513528_Camera_6_instanceIds.png'}, {'id': '170908_061513667_Camera_5', 'source': 'WAD', 'path': '170908_061513667_Camera_5.jpg', 'mask_path': '170908_061513667_Camera_5_instanceIds.png'}, {'id': '170908_061513667_Camera_6', 'source': 'WAD', 'path': '170908_061513667_Camera_6.jpg', 'mask_path': '170908_061513667_Camera_6_instanceIds.png'}, {'id': '170908_061513806_Camera_6', 'source': 'WAD', 'path': '170908_061513806_Camera_6.jpg', 'mask_path': '170908_061513806_Camera_6_instanceIds.png'}, {'id': '170908_061513945_Camera_5', 'source': 'WAD', 'path': '170908_061513945_Camera_5.jpg', 'mask_path': '170908_061513945_Camera_5_instanceIds.png'}, {'id': '170908_061513945_Camera_6', 'source': 'WAD', 'path': '170908_061513945_Camera_6.jpg', 'mask_path': '170908_061513945_Camera_6_instanceIds.png'}, {'id': '170908_061514084_Camera_5', 'source': 'WAD', 'path': '170908_061514084_Camera_5.jpg', 'mask_path': '170908_061514084_Camera_5_instanceIds.png'}, {'id': '170908_061514084_Camera_6', 'source': 'WAD', 'path': '170908_061514084_Camera_6.jpg', 'mask_path': '170908_061514084_Camera_6_instanceIds.png'}, {'id': '170908_061514223_Camera_5', 'source': 'WAD', 'path': '170908_061514223_Camera_5.jpg', 'mask_path': '170908_061514223_Camera_5_instanceIds.png'}, {'id': '170908_061514223_Camera_6', 'source': 'WAD', 'path': '170908_061514223_Camera_6.jpg', 'mask_path': '170908_061514223_Camera_6_instanceIds.png'}, {'id': '170908_061514362_Camera_5', 'source': 'WAD', 'path': '170908_061514362_Camera_5.jpg', 'mask_path': '170908_061514362_Camera_5_instanceIds.png'}, {'id': '170908_061514362_Camera_6', 'source': 'WAD', 'path': '170908_061514362_Camera_6.jpg', 'mask_path': '170908_061514362_Camera_6_instanceIds.png'}, {'id': '170908_061514501_Camera_5', 'source': 'WAD', 'path': '170908_061514501_Camera_5.jpg', 'mask_path': '170908_061514501_Camera_5_instanceIds.png'}, {'id': '170908_061514501_Camera_6', 'source': 'WAD', 'path': '170908_061514501_Camera_6.jpg', 'mask_path': '170908_061514501_Camera_6_instanceIds.png'}, {'id': '170908_061514640_Camera_5', 'source': 'WAD', 'path': '170908_061514640_Camera_5.jpg', 'mask_path': '170908_061514640_Camera_5_instanceIds.png'}, {'id': '170908_061514640_Camera_6', 'source': 'WAD', 'path': '170908_061514640_Camera_6.jpg', 'mask_path': '170908_061514640_Camera_6_instanceIds.png'}, {'id': '170908_061514779_Camera_5', 'source': 'WAD', 'path': '170908_061514779_Camera_5.jpg', 'mask_path': '170908_061514779_Camera_5_instanceIds.png'}, {'id': '170908_061514779_Camera_6', 'source': 'WAD', 'path': '170908_061514779_Camera_6.jpg', 'mask_path': '170908_061514779_Camera_6_instanceIds.png'}, {'id': '170908_061514918_Camera_5', 'source': 'WAD', 'path': '170908_061514918_Camera_5.jpg', 'mask_path': '170908_061514918_Camera_5_instanceIds.png'}, {'id': '170908_061514918_Camera_6', 'source': 'WAD', 'path': '170908_061514918_Camera_6.jpg', 'mask_path': '170908_061514918_Camera_6_instanceIds.png'}, {'id': '170908_061515057_Camera_5', 'source': 'WAD', 'path': '170908_061515057_Camera_5.jpg', 'mask_path': '170908_061515057_Camera_5_instanceIds.png'}, {'id': '170908_061515057_Camera_6', 'source': 'WAD', 'path': '170908_061515057_Camera_6.jpg', 'mask_path': '170908_061515057_Camera_6_instanceIds.png'}, {'id': '170908_061515196_Camera_5', 'source': 'WAD', 'path': '170908_061515196_Camera_5.jpg', 'mask_path': '170908_061515196_Camera_5_instanceIds.png'}, {'id': '170908_061515196_Camera_6', 'source': 'WAD', 'path': '170908_061515196_Camera_6.jpg', 'mask_path': '170908_061515196_Camera_6_instanceIds.png'}, {'id': '170908_061515335_Camera_5', 'source': 'WAD', 'path': '170908_061515335_Camera_5.jpg', 'mask_path': '170908_061515335_Camera_5_instanceIds.png'}, {'id': '170908_061515335_Camera_6', 'source': 'WAD', 'path': '170908_061515335_Camera_6.jpg', 'mask_path': '170908_061515335_Camera_6_instanceIds.png'}, {'id': '170908_061515474_Camera_5', 'source': 'WAD', 'path': '170908_061515474_Camera_5.jpg', 'mask_path': '170908_061515474_Camera_5_instanceIds.png'}, {'id': '170908_061515474_Camera_6', 'source': 'WAD', 'path': '170908_061515474_Camera_6.jpg', 'mask_path': '170908_061515474_Camera_6_instanceIds.png'}, {'id': '170908_061515613_Camera_5', 'source': 'WAD', 'path': '170908_061515613_Camera_5.jpg', 'mask_path': '170908_061515613_Camera_5_instanceIds.png'}, {'id': '170908_061515613_Camera_6', 'source': 'WAD', 'path': '170908_061515613_Camera_6.jpg', 'mask_path': '170908_061515613_Camera_6_instanceIds.png'}, {'id': '170908_061515752_Camera_5', 'source': 'WAD', 'path': '170908_061515752_Camera_5.jpg', 'mask_path': '170908_061515752_Camera_5_instanceIds.png'}, {'id': '170908_061515752_Camera_6', 'source': 'WAD', 'path': '170908_061515752_Camera_6.jpg', 'mask_path': '170908_061515752_Camera_6_instanceIds.png'}, {'id': '170908_061515891_Camera_5', 'source': 'WAD', 'path': '170908_061515891_Camera_5.jpg', 'mask_path': '170908_061515891_Camera_5_instanceIds.png'}, {'id': '170908_061515891_Camera_6', 'source': 'WAD', 'path': '170908_061515891_Camera_6.jpg', 'mask_path': '170908_061515891_Camera_6_instanceIds.png'}, {'id': '170908_061516030_Camera_5', 'source': 'WAD', 'path': '170908_061516030_Camera_5.jpg', 'mask_path': '170908_061516030_Camera_5_instanceIds.png'}, {'id': '170908_061516030_Camera_6', 'source': 'WAD', 'path': '170908_061516030_Camera_6.jpg', 'mask_path': '170908_061516030_Camera_6_instanceIds.png'}, {'id': '170908_061516169_Camera_5', 'source': 'WAD', 'path': '170908_061516169_Camera_5.jpg', 'mask_path': '170908_061516169_Camera_5_instanceIds.png'}, {'id': '170908_061516169_Camera_6', 'source': 'WAD', 'path': '170908_061516169_Camera_6.jpg', 'mask_path': '170908_061516169_Camera_6_instanceIds.png'}, {'id': '170908_061516308_Camera_5', 'source': 'WAD', 'path': '170908_061516308_Camera_5.jpg', 'mask_path': '170908_061516308_Camera_5_instanceIds.png'}, {'id': '170908_061516308_Camera_6', 'source': 'WAD', 'path': '170908_061516308_Camera_6.jpg', 'mask_path': '170908_061516308_Camera_6_instanceIds.png'}, {'id': '170908_061516447_Camera_5', 'source': 'WAD', 'path': '170908_061516447_Camera_5.jpg', 'mask_path': '170908_061516447_Camera_5_instanceIds.png'}, {'id': '170908_061516447_Camera_6', 'source': 'WAD', 'path': '170908_061516447_Camera_6.jpg', 'mask_path': '170908_061516447_Camera_6_instanceIds.png'}, {'id': '170908_061516586_Camera_5', 'source': 'WAD', 'path': '170908_061516586_Camera_5.jpg', 'mask_path': '170908_061516586_Camera_5_instanceIds.png'}, {'id': '170908_061516586_Camera_6', 'source': 'WAD', 'path': '170908_061516586_Camera_6.jpg', 'mask_path': '170908_061516586_Camera_6_instanceIds.png'}, {'id': '170908_061516725_Camera_5', 'source': 'WAD', 'path': '170908_061516725_Camera_5.jpg', 'mask_path': '170908_061516725_Camera_5_instanceIds.png'}, {'id': '170908_061516725_Camera_6', 'source': 'WAD', 'path': '170908_061516725_Camera_6.jpg', 'mask_path': '170908_061516725_Camera_6_instanceIds.png'}, {'id': '170908_061516864_Camera_5', 'source': 'WAD', 'path': '170908_061516864_Camera_5.jpg', 'mask_path': '170908_061516864_Camera_5_instanceIds.png'}, {'id': '170908_061516864_Camera_6', 'source': 'WAD', 'path': '170908_061516864_Camera_6.jpg', 'mask_path': '170908_061516864_Camera_6_instanceIds.png'}, {'id': '170908_061517003_Camera_5', 'source': 'WAD', 'path': '170908_061517003_Camera_5.jpg', 'mask_path': '170908_061517003_Camera_5_instanceIds.png'}, {'id': '170908_061517003_Camera_6', 'source': 'WAD', 'path': '170908_061517003_Camera_6.jpg', 'mask_path': '170908_061517003_Camera_6_instanceIds.png'}, {'id': '170908_061517142_Camera_5', 'source': 'WAD', 'path': '170908_061517142_Camera_5.jpg', 'mask_path': '170908_061517142_Camera_5_instanceIds.png'}, {'id': '170908_061517142_Camera_6', 'source': 'WAD', 'path': '170908_061517142_Camera_6.jpg', 'mask_path': '170908_061517142_Camera_6_instanceIds.png'}, {'id': '170908_061517281_Camera_5', 'source': 'WAD', 'path': '170908_061517281_Camera_5.jpg', 'mask_path': '170908_061517281_Camera_5_instanceIds.png'}, {'id': '170908_061517420_Camera_5', 'source': 'WAD', 'path': '170908_061517420_Camera_5.jpg', 'mask_path': '170908_061517420_Camera_5_instanceIds.png'}, {'id': '170908_061517420_Camera_6', 'source': 'WAD', 'path': '170908_061517420_Camera_6.jpg', 'mask_path': '170908_061517420_Camera_6_instanceIds.png'}, {'id': '170908_061517559_Camera_5', 'source': 'WAD', 'path': '170908_061517559_Camera_5.jpg', 'mask_path': '170908_061517559_Camera_5_instanceIds.png'}, {'id': '170908_061517559_Camera_6', 'source': 'WAD', 'path': '170908_061517559_Camera_6.jpg', 'mask_path': '170908_061517559_Camera_6_instanceIds.png'}, {'id': '170908_061517698_Camera_5', 'source': 'WAD', 'path': '170908_061517698_Camera_5.jpg', 'mask_path': '170908_061517698_Camera_5_instanceIds.png'}, {'id': '170908_061517698_Camera_6', 'source': 'WAD', 'path': '170908_061517698_Camera_6.jpg', 'mask_path': '170908_061517698_Camera_6_instanceIds.png'}, {'id': '170908_061517837_Camera_5', 'source': 'WAD', 'path': '170908_061517837_Camera_5.jpg', 'mask_path': '170908_061517837_Camera_5_instanceIds.png'}, {'id': '170908_061517837_Camera_6', 'source': 'WAD', 'path': '170908_061517837_Camera_6.jpg', 'mask_path': '170908_061517837_Camera_6_instanceIds.png'}, {'id': '170908_061517976_Camera_5', 'source': 'WAD', 'path': '170908_061517976_Camera_5.jpg', 'mask_path': '170908_061517976_Camera_5_instanceIds.png'}, {'id': '170908_061517976_Camera_6', 'source': 'WAD', 'path': '170908_061517976_Camera_6.jpg', 'mask_path': '170908_061517976_Camera_6_instanceIds.png'}, {'id': '170908_061518115_Camera_5', 'source': 'WAD', 'path': '170908_061518115_Camera_5.jpg', 'mask_path': '170908_061518115_Camera_5_instanceIds.png'}, {'id': '170908_061518115_Camera_6', 'source': 'WAD', 'path': '170908_061518115_Camera_6.jpg', 'mask_path': '170908_061518115_Camera_6_instanceIds.png'}, {'id': '170908_061518254_Camera_5', 'source': 'WAD', 'path': '170908_061518254_Camera_5.jpg', 'mask_path': '170908_061518254_Camera_5_instanceIds.png'}, {'id': '170908_061518254_Camera_6', 'source': 'WAD', 'path': '170908_061518254_Camera_6.jpg', 'mask_path': '170908_061518254_Camera_6_instanceIds.png'}, {'id': '170908_061518393_Camera_5', 'source': 'WAD', 'path': '170908_061518393_Camera_5.jpg', 'mask_path': '170908_061518393_Camera_5_instanceIds.png'}, {'id': '170908_061518393_Camera_6', 'source': 'WAD', 'path': '170908_061518393_Camera_6.jpg', 'mask_path': '170908_061518393_Camera_6_instanceIds.png'}, {'id': '170908_061518532_Camera_5', 'source': 'WAD', 'path': '170908_061518532_Camera_5.jpg', 'mask_path': '170908_061518532_Camera_5_instanceIds.png'}, {'id': '170908_061518532_Camera_6', 'source': 'WAD', 'path': '170908_061518532_Camera_6.jpg', 'mask_path': '170908_061518532_Camera_6_instanceIds.png'}]\n"
     ]
    }
   ],
   "source": [
    "# Training dataset\n",
    "dataset_train = wad_data.WADDataset()\n",
    "\n",
    "dataset_train.load_data(DATA_DIR, \"train\")\n",
    "\n",
    "dataset_train.prepare()\n",
    "\n",
    "print(dataset_train.image_info)\n",
    "\n",
    "dataset_val = wad_data.WADDataset()\n",
    " \n",
    "dataset_val.load_data(DATA_DIR, \"val\")\n",
    "\n",
    "dataset_val.prepare()\n"
   ]
  },
  {
   "cell_type": "code",
   "execution_count": 5,
   "metadata": {
    "colab": {
     "autoexec": {
      "startup": false,
      "wait_interval": 0
     },
     "base_uri": "https://localhost:8080/",
     "height": 52
    },
    "colab_type": "code",
    "executionInfo": {
     "elapsed": 238,
     "status": "ok",
     "timestamp": 1529336615407,
     "user": {
      "displayName": "Raymond Tu",
      "photoUrl": "//lh4.googleusercontent.com/-PiJFrbeyvzs/AAAAAAAAAAI/AAAAAAAAFzs/UKFF-SotCVo/s50-c-k-no/photo.jpg",
      "userId": "112993143985468015422"
     },
     "user_tz": 240
    },
    "id": "bf_icJwjUxmg",
    "outputId": "0aaeb100-b9ad-4c61-b790-253fd8b2280e"
   },
   "outputs": [],
   "source": [
    "# print(\"Image Count (train): {}\".format(len(dataset_train.image_ids)))\n",
    "# print(\"Class Count: {}\".format(dataset_train.num_classes))"
   ]
  },
  {
   "cell_type": "code",
   "execution_count": 6,
   "metadata": {
    "colab": {
     "autoexec": {
      "startup": false,
      "wait_interval": 0
     },
     "base_uri": "https://localhost:8080/",
     "height": 769
    },
    "colab_type": "code",
    "executionInfo": {
     "elapsed": 1423,
     "status": "ok",
     "timestamp": 1529348481455,
     "user": {
      "displayName": "Raymond Tu",
      "photoUrl": "//lh4.googleusercontent.com/-PiJFrbeyvzs/AAAAAAAAAAI/AAAAAAAAFzs/UKFF-SotCVo/s50-c-k-no/photo.jpg",
      "userId": "112993143985468015422"
     },
     "user_tz": 240
    },
    "id": "paeZZSXpUxmk",
    "outputId": "78fbbf79-5254-49f3-c86f-cfe2abc88dd9"
   },
   "outputs": [],
   "source": [
    "# !df -h\n",
    "# !cat /proc/cpuinfo\n",
    "#!cat /proc/meminfo\n",
    "from keras.callbacks import TensorBoard\n",
    "tensorboard = TensorBoard(log_dir=(LOGS_DIR+'{}').format(time()))"
   ]
  },
  {
   "cell_type": "code",
   "execution_count": 7,
   "metadata": {
    "colab": {
     "autoexec": {
      "startup": false,
      "wait_interval": 0
     }
    },
    "colab_type": "code",
    "id": "sO_urhbiUxmm"
   },
   "outputs": [],
   "source": [
    "# import numpy as np\n",
    "# image_ids = np.random.choice(dataset_val.image_ids, 4)\n",
    "\n",
    "# #for image_id in image_ids:\n",
    "# image_id = image_ids[0]\n",
    "# image = dataset_val.load_image(image_id)\n",
    "# mask, class_ids = dataset_val.load_mask(image_id)\n",
    "# visualize.display_top_masks(image, mask, class_ids, dataset_val.class_names)"
   ]
  },
  {
   "cell_type": "code",
   "execution_count": null,
   "metadata": {
    "colab": {
     "autoexec": {
      "startup": false,
      "wait_interval": 0
     }
    },
    "colab_type": "code",
    "id": "yqe1wrjaUxmp"
   },
   "outputs": [],
   "source": []
  },
  {
   "cell_type": "code",
   "execution_count": 8,
   "metadata": {
    "colab": {
     "autoexec": {
      "startup": false,
      "wait_interval": 0
     }
    },
    "colab_type": "code",
    "id": "z2hSJXGwUxmr",
    "outputId": "48e49015-8ab4-4396-c2bb-2f69aae851b2"
   },
   "outputs": [],
   "source": [
    "# # Compute Bounding box\n",
    "# bbox = utils.extract_bboxes(mask)\n",
    "\n",
    "# # Display image and additional stats\n",
    "# print(\"image_id \", image_id, dataset_train.image_reference(image_id))\n",
    "# log(\"image\", image)\n",
    "# log(\"mask\", mask)\n",
    "# log(\"class_ids\", class_ids)\n",
    "# log(\"bbox\", bbox)\n",
    "# # Display image and instances\n",
    "# visualize.display_instances(image, bbox, mask, class_ids, dataset_train.class_names)"
   ]
  },
  {
   "cell_type": "code",
   "execution_count": null,
   "metadata": {
    "colab": {
     "autoexec": {
      "startup": false,
      "wait_interval": 0
     }
    },
    "colab_type": "code",
    "id": "RyZEzrtnUxmw"
   },
   "outputs": [],
   "source": []
  },
  {
   "cell_type": "code",
   "execution_count": null,
   "metadata": {
    "colab": {
     "autoexec": {
      "startup": false,
      "wait_interval": 0
     }
    },
    "colab_type": "code",
    "id": "c4XB6XyZUxmy"
   },
   "outputs": [],
   "source": []
  },
  {
   "cell_type": "markdown",
   "metadata": {
    "colab_type": "text",
    "id": "UUHgP9PsvYIb"
   },
   "source": [
    "## Training"
   ]
  },
  {
   "cell_type": "code",
   "execution_count": 9,
   "metadata": {
    "colab": {
     "autoexec": {
      "startup": false,
      "wait_interval": 0
     },
     "base_uri": "https://localhost:8080/",
     "height": 684
    },
    "colab_type": "code",
    "id": "PK_mhBMzvW7D",
    "outputId": "2548bddd-ff94-4b8d-af4f-63131aab93aa"
   },
   "outputs": [
    {
     "name": "stdout",
     "output_type": "stream",
     "text": [
      "\n",
      "Starting at epoch 0. LR=0.001\n",
      "\n",
      "Checkpoint Path: C:\\Users\\tmthy\\Documents\\prog\\python3\\coml\\MaskTrack_RCNN\\project\\logs\\wad20180618T2332\\mask_rcnn_wad_{epoch:04d}.h5\n",
      "Selecting layers to train\n",
      "fpn_c5p5               (Conv2D)\n",
      "fpn_c4p4               (Conv2D)\n",
      "fpn_c3p3               (Conv2D)\n",
      "fpn_c2p2               (Conv2D)\n",
      "fpn_p5                 (Conv2D)\n",
      "fpn_p2                 (Conv2D)\n",
      "fpn_p3                 (Conv2D)\n",
      "fpn_p4                 (Conv2D)\n",
      "In model:  rpn_model\n",
      "    rpn_conv_shared        (Conv2D)\n",
      "    rpn_class_raw          (Conv2D)\n",
      "    rpn_bbox_pred          (Conv2D)\n",
      "mrcnn_mask_conv1       (TimeDistributed)\n",
      "mrcnn_mask_bn1         (TimeDistributed)\n",
      "mrcnn_mask_conv2       (TimeDistributed)\n",
      "mrcnn_mask_bn2         (TimeDistributed)\n",
      "mrcnn_class_conv1      (TimeDistributed)\n",
      "mrcnn_class_bn1        (TimeDistributed)\n",
      "mrcnn_mask_conv3       (TimeDistributed)\n",
      "mrcnn_mask_bn3         (TimeDistributed)\n",
      "mrcnn_class_conv2      (TimeDistributed)\n",
      "mrcnn_class_bn2        (TimeDistributed)\n",
      "mrcnn_mask_conv4       (TimeDistributed)\n",
      "mrcnn_mask_bn4         (TimeDistributed)\n",
      "mrcnn_bbox_fc          (TimeDistributed)\n",
      "mrcnn_mask_deconv      (TimeDistributed)\n",
      "mrcnn_class_logits     (TimeDistributed)\n",
      "mrcnn_mask             (TimeDistributed)\n"
     ]
    },
    {
     "name": "stderr",
     "output_type": "stream",
     "text": [
      "c:\\program files\\python36\\lib\\site-packages\\tensorflow\\python\\ops\\gradients_impl.py:100: UserWarning: Converting sparse IndexedSlices to a dense Tensor of unknown shape. This may consume a large amount of memory.\n",
      "  \"Converting sparse IndexedSlices to a dense Tensor of unknown shape. \"\n"
     ]
    },
    {
     "name": "stdout",
     "output_type": "stream",
     "text": [
      "Epoch 1/1\n"
     ]
    },
    {
     "name": "stderr",
     "output_type": "stream",
     "text": [
      "C:\\Users\\tmthy\\AppData\\Roaming\\Python\\Python36\\site-packages\\skimage\\transform\\_warps.py:110: UserWarning: Anti-aliasing will be enabled by default in skimage 0.15 to avoid aliasing artifacts when down-sampling images.\n",
      "  warn(\"Anti-aliasing will be enabled by default in skimage 0.15 to \"\n",
      "C:\\Users\\tmthy\\AppData\\Roaming\\Python\\Python36\\site-packages\\skimage\\transform\\_warps.py:110: UserWarning: Anti-aliasing will be enabled by default in skimage 0.15 to avoid aliasing artifacts when down-sampling images.\n",
      "  warn(\"Anti-aliasing will be enabled by default in skimage 0.15 to \"\n",
      "C:\\Users\\tmthy\\AppData\\Roaming\\Python\\Python36\\site-packages\\skimage\\transform\\_warps.py:110: UserWarning: Anti-aliasing will be enabled by default in skimage 0.15 to avoid aliasing artifacts when down-sampling images.\n",
      "  warn(\"Anti-aliasing will be enabled by default in skimage 0.15 to \"\n"
     ]
    },
    {
     "ename": "ResourceExhaustedError",
     "evalue": "OOM when allocating tensor with shape[2,512,128,128] and type float on /job:localhost/replica:0/task:0/device:GPU:0 by allocator GPU_0_bfc\n\t [[Node: rpn_model_1/rpn_conv_shared/convolution = Conv2D[T=DT_FLOAT, _class=[\"loc:@train...propFilter\"], data_format=\"NCHW\", dilations=[1, 1, 1, 1], padding=\"SAME\", strides=[1, 1, 1, 1], use_cudnn_on_gpu=true, _device=\"/job:localhost/replica:0/task:0/device:GPU:0\"](fpn_p3/BiasAdd, rpn_conv_shared/kernel/read)]]\nHint: If you want to see a list of allocated tensors when OOM happens, add report_tensor_allocations_upon_oom to RunOptions for current allocation info.\n\n\t [[Node: proposal_targets/roi_assertion_1/AssertGuard/Assert/Switch_1/_1721 = _Recv[client_terminated=false, recv_device=\"/job:localhost/replica:0/task:0/device:CPU:0\", send_device=\"/job:localhost/replica:0/task:0/device:GPU:0\", send_device_incarnation=1, tensor_name=\"edge_5242_proposal_targets/roi_assertion_1/AssertGuard/Assert/Switch_1\", tensor_type=DT_FLOAT, _device=\"/job:localhost/replica:0/task:0/device:CPU:0\"]()]]\nHint: If you want to see a list of allocated tensors when OOM happens, add report_tensor_allocations_upon_oom to RunOptions for current allocation info.\n\n\nCaused by op 'rpn_model_1/rpn_conv_shared/convolution', defined at:\n  File \"c:\\program files\\python36\\lib\\runpy.py\", line 193, in _run_module_as_main\n    \"__main__\", mod_spec)\n  File \"c:\\program files\\python36\\lib\\runpy.py\", line 85, in _run_code\n    exec(code, run_globals)\n  File \"c:\\program files\\python36\\lib\\site-packages\\ipykernel_launcher.py\", line 16, in <module>\n    app.launch_new_instance()\n  File \"c:\\program files\\python36\\lib\\site-packages\\traitlets\\config\\application.py\", line 658, in launch_instance\n    app.start()\n  File \"c:\\program files\\python36\\lib\\site-packages\\ipykernel\\kernelapp.py\", line 486, in start\n    self.io_loop.start()\n  File \"c:\\program files\\python36\\lib\\site-packages\\tornado\\platform\\asyncio.py\", line 127, in start\n    self.asyncio_loop.run_forever()\n  File \"c:\\program files\\python36\\lib\\asyncio\\base_events.py\", line 421, in run_forever\n    self._run_once()\n  File \"c:\\program files\\python36\\lib\\asyncio\\base_events.py\", line 1431, in _run_once\n    handle._run()\n  File \"c:\\program files\\python36\\lib\\asyncio\\events.py\", line 145, in _run\n    self._callback(*self._args)\n  File \"c:\\program files\\python36\\lib\\site-packages\\tornado\\ioloop.py\", line 759, in _run_callback\n    ret = callback()\n  File \"c:\\program files\\python36\\lib\\site-packages\\tornado\\stack_context.py\", line 276, in null_wrapper\n    return fn(*args, **kwargs)\n  File \"c:\\program files\\python36\\lib\\site-packages\\ipykernel\\kernelbase.py\", line 263, in enter_eventloop\n    self.eventloop(self)\n  File \"c:\\program files\\python36\\lib\\site-packages\\ipykernel\\eventloops.py\", line 134, in loop_qt5\n    return loop_qt4(kernel)\n  File \"c:\\program files\\python36\\lib\\site-packages\\ipykernel\\eventloops.py\", line 122, in loop_qt4\n    _loop_qt(kernel.app)\n  File \"c:\\program files\\python36\\lib\\site-packages\\ipykernel\\eventloops.py\", line 106, in _loop_qt\n    app.exec_()\n  File \"c:\\program files\\python36\\lib\\site-packages\\ipykernel\\eventloops.py\", line 39, in process_stream_events\n    kernel.do_one_iteration()\n  File \"c:\\program files\\python36\\lib\\site-packages\\ipykernel\\kernelbase.py\", line 298, in do_one_iteration\n    stream.flush(zmq.POLLIN, 1)\n  File \"c:\\program files\\python36\\lib\\site-packages\\zmq\\eventloop\\zmqstream.py\", line 357, in flush\n    self._handle_recv()\n  File \"c:\\program files\\python36\\lib\\site-packages\\zmq\\eventloop\\zmqstream.py\", line 480, in _handle_recv\n    self._run_callback(callback, msg)\n  File \"c:\\program files\\python36\\lib\\site-packages\\zmq\\eventloop\\zmqstream.py\", line 432, in _run_callback\n    callback(*args, **kwargs)\n  File \"c:\\program files\\python36\\lib\\site-packages\\tornado\\stack_context.py\", line 276, in null_wrapper\n    return fn(*args, **kwargs)\n  File \"c:\\program files\\python36\\lib\\site-packages\\ipykernel\\kernelbase.py\", line 283, in dispatcher\n    return self.dispatch_shell(stream, msg)\n  File \"c:\\program files\\python36\\lib\\site-packages\\ipykernel\\kernelbase.py\", line 233, in dispatch_shell\n    handler(stream, idents, msg)\n  File \"c:\\program files\\python36\\lib\\site-packages\\ipykernel\\kernelbase.py\", line 399, in execute_request\n    user_expressions, allow_stdin)\n  File \"c:\\program files\\python36\\lib\\site-packages\\ipykernel\\ipkernel.py\", line 208, in do_execute\n    res = shell.run_cell(code, store_history=store_history, silent=silent)\n  File \"c:\\program files\\python36\\lib\\site-packages\\ipykernel\\zmqshell.py\", line 537, in run_cell\n    return super(ZMQInteractiveShell, self).run_cell(*args, **kwargs)\n  File \"c:\\program files\\python36\\lib\\site-packages\\IPython\\core\\interactiveshell.py\", line 2662, in run_cell\n    raw_cell, store_history, silent, shell_futures)\n  File \"c:\\program files\\python36\\lib\\site-packages\\IPython\\core\\interactiveshell.py\", line 2785, in _run_cell\n    interactivity=interactivity, compiler=compiler, result=result)\n  File \"c:\\program files\\python36\\lib\\site-packages\\IPython\\core\\interactiveshell.py\", line 2903, in run_ast_nodes\n    if self.run_code(code, result):\n  File \"c:\\program files\\python36\\lib\\site-packages\\IPython\\core\\interactiveshell.py\", line 2963, in run_code\n    exec(code_obj, self.user_global_ns, self.user_ns)\n  File \"<ipython-input-9-cae5bc062ab8>\", line 3, in <module>\n    model_dir=LOGS_DIR)\n  File \"c:\\program files\\python36\\lib\\site-packages\\mask_rcnn-2.1-py3.6.egg\\mrcnn\\model.py\", line 1823, in __init__\n    self.keras_model = self.build(mode=mode, config=config)\n  File \"c:\\program files\\python36\\lib\\site-packages\\mask_rcnn-2.1-py3.6.egg\\mrcnn\\model.py\", line 1926, in build\n    layer_outputs.append(rpn([p]))\n  File \"c:\\program files\\python36\\lib\\site-packages\\keras\\engine\\topology.py\", line 619, in __call__\n    output = self.call(inputs, **kwargs)\n  File \"c:\\program files\\python36\\lib\\site-packages\\keras\\engine\\topology.py\", line 2085, in call\n    output_tensors, _, _ = self.run_internal_graph(inputs, masks)\n  File \"c:\\program files\\python36\\lib\\site-packages\\keras\\engine\\topology.py\", line 2236, in run_internal_graph\n    output_tensors = _to_list(layer.call(computed_tensor, **kwargs))\n  File \"c:\\program files\\python36\\lib\\site-packages\\keras\\layers\\convolutional.py\", line 168, in call\n    dilation_rate=self.dilation_rate)\n  File \"c:\\program files\\python36\\lib\\site-packages\\keras\\backend\\tensorflow_backend.py\", line 3335, in conv2d\n    data_format=tf_data_format)\n  File \"c:\\program files\\python36\\lib\\site-packages\\tensorflow\\python\\ops\\nn_ops.py\", line 780, in convolution\n    return op(input, filter)\n  File \"c:\\program files\\python36\\lib\\site-packages\\tensorflow\\python\\ops\\nn_ops.py\", line 868, in __call__\n    return self.conv_op(inp, filter)\n  File \"c:\\program files\\python36\\lib\\site-packages\\tensorflow\\python\\ops\\nn_ops.py\", line 520, in __call__\n    return self.call(inp, filter)\n  File \"c:\\program files\\python36\\lib\\site-packages\\tensorflow\\python\\ops\\nn_ops.py\", line 204, in __call__\n    name=self.name)\n  File \"c:\\program files\\python36\\lib\\site-packages\\tensorflow\\python\\ops\\gen_nn_ops.py\", line 1042, in conv2d\n    data_format=data_format, dilations=dilations, name=name)\n  File \"c:\\program files\\python36\\lib\\site-packages\\tensorflow\\python\\framework\\op_def_library.py\", line 787, in _apply_op_helper\n    op_def=op_def)\n  File \"c:\\program files\\python36\\lib\\site-packages\\tensorflow\\python\\framework\\ops.py\", line 3392, in create_op\n    op_def=op_def)\n  File \"c:\\program files\\python36\\lib\\site-packages\\tensorflow\\python\\framework\\ops.py\", line 1718, in __init__\n    self._traceback = self._graph._extract_stack()  # pylint: disable=protected-access\n\nResourceExhaustedError (see above for traceback): OOM when allocating tensor with shape[2,512,128,128] and type float on /job:localhost/replica:0/task:0/device:GPU:0 by allocator GPU_0_bfc\n\t [[Node: rpn_model_1/rpn_conv_shared/convolution = Conv2D[T=DT_FLOAT, _class=[\"loc:@train...propFilter\"], data_format=\"NCHW\", dilations=[1, 1, 1, 1], padding=\"SAME\", strides=[1, 1, 1, 1], use_cudnn_on_gpu=true, _device=\"/job:localhost/replica:0/task:0/device:GPU:0\"](fpn_p3/BiasAdd, rpn_conv_shared/kernel/read)]]\nHint: If you want to see a list of allocated tensors when OOM happens, add report_tensor_allocations_upon_oom to RunOptions for current allocation info.\n\n\t [[Node: proposal_targets/roi_assertion_1/AssertGuard/Assert/Switch_1/_1721 = _Recv[client_terminated=false, recv_device=\"/job:localhost/replica:0/task:0/device:CPU:0\", send_device=\"/job:localhost/replica:0/task:0/device:GPU:0\", send_device_incarnation=1, tensor_name=\"edge_5242_proposal_targets/roi_assertion_1/AssertGuard/Assert/Switch_1\", tensor_type=DT_FLOAT, _device=\"/job:localhost/replica:0/task:0/device:CPU:0\"]()]]\nHint: If you want to see a list of allocated tensors when OOM happens, add report_tensor_allocations_upon_oom to RunOptions for current allocation info.\n\n",
     "output_type": "error",
     "traceback": [
      "\u001b[1;31m---------------------------------------------------------------------------\u001b[0m",
      "\u001b[1;31mResourceExhaustedError\u001b[0m                    Traceback (most recent call last)",
      "\u001b[1;32mc:\\program files\\python36\\lib\\site-packages\\tensorflow\\python\\client\\session.py\u001b[0m in \u001b[0;36m_do_call\u001b[1;34m(self, fn, *args)\u001b[0m\n\u001b[0;32m   1321\u001b[0m     \u001b[1;32mtry\u001b[0m\u001b[1;33m:\u001b[0m\u001b[1;33m\u001b[0m\u001b[0m\n\u001b[1;32m-> 1322\u001b[1;33m       \u001b[1;32mreturn\u001b[0m \u001b[0mfn\u001b[0m\u001b[1;33m(\u001b[0m\u001b[1;33m*\u001b[0m\u001b[0margs\u001b[0m\u001b[1;33m)\u001b[0m\u001b[1;33m\u001b[0m\u001b[0m\n\u001b[0m\u001b[0;32m   1323\u001b[0m     \u001b[1;32mexcept\u001b[0m \u001b[0merrors\u001b[0m\u001b[1;33m.\u001b[0m\u001b[0mOpError\u001b[0m \u001b[1;32mas\u001b[0m \u001b[0me\u001b[0m\u001b[1;33m:\u001b[0m\u001b[1;33m\u001b[0m\u001b[0m\n",
      "\u001b[1;32mc:\\program files\\python36\\lib\\site-packages\\tensorflow\\python\\client\\session.py\u001b[0m in \u001b[0;36m_run_fn\u001b[1;34m(feed_dict, fetch_list, target_list, options, run_metadata)\u001b[0m\n\u001b[0;32m   1306\u001b[0m       return self._call_tf_sessionrun(\n\u001b[1;32m-> 1307\u001b[1;33m           options, feed_dict, fetch_list, target_list, run_metadata)\n\u001b[0m\u001b[0;32m   1308\u001b[0m \u001b[1;33m\u001b[0m\u001b[0m\n",
      "\u001b[1;32mc:\\program files\\python36\\lib\\site-packages\\tensorflow\\python\\client\\session.py\u001b[0m in \u001b[0;36m_call_tf_sessionrun\u001b[1;34m(self, options, feed_dict, fetch_list, target_list, run_metadata)\u001b[0m\n\u001b[0;32m   1408\u001b[0m           \u001b[0mself\u001b[0m\u001b[1;33m.\u001b[0m\u001b[0m_session\u001b[0m\u001b[1;33m,\u001b[0m \u001b[0moptions\u001b[0m\u001b[1;33m,\u001b[0m \u001b[0mfeed_dict\u001b[0m\u001b[1;33m,\u001b[0m \u001b[0mfetch_list\u001b[0m\u001b[1;33m,\u001b[0m \u001b[0mtarget_list\u001b[0m\u001b[1;33m,\u001b[0m\u001b[1;33m\u001b[0m\u001b[0m\n\u001b[1;32m-> 1409\u001b[1;33m           run_metadata)\n\u001b[0m\u001b[0;32m   1410\u001b[0m     \u001b[1;32melse\u001b[0m\u001b[1;33m:\u001b[0m\u001b[1;33m\u001b[0m\u001b[0m\n",
      "\u001b[1;31mResourceExhaustedError\u001b[0m: OOM when allocating tensor with shape[2,512,128,128] and type float on /job:localhost/replica:0/task:0/device:GPU:0 by allocator GPU_0_bfc\n\t [[Node: rpn_model_1/rpn_conv_shared/convolution = Conv2D[T=DT_FLOAT, _class=[\"loc:@train...propFilter\"], data_format=\"NCHW\", dilations=[1, 1, 1, 1], padding=\"SAME\", strides=[1, 1, 1, 1], use_cudnn_on_gpu=true, _device=\"/job:localhost/replica:0/task:0/device:GPU:0\"](fpn_p3/BiasAdd, rpn_conv_shared/kernel/read)]]\nHint: If you want to see a list of allocated tensors when OOM happens, add report_tensor_allocations_upon_oom to RunOptions for current allocation info.\n\n\t [[Node: proposal_targets/roi_assertion_1/AssertGuard/Assert/Switch_1/_1721 = _Recv[client_terminated=false, recv_device=\"/job:localhost/replica:0/task:0/device:CPU:0\", send_device=\"/job:localhost/replica:0/task:0/device:GPU:0\", send_device_incarnation=1, tensor_name=\"edge_5242_proposal_targets/roi_assertion_1/AssertGuard/Assert/Switch_1\", tensor_type=DT_FLOAT, _device=\"/job:localhost/replica:0/task:0/device:CPU:0\"]()]]\nHint: If you want to see a list of allocated tensors when OOM happens, add report_tensor_allocations_upon_oom to RunOptions for current allocation info.\n",
      "\nDuring handling of the above exception, another exception occurred:\n",
      "\u001b[1;31mResourceExhaustedError\u001b[0m                    Traceback (most recent call last)",
      "\u001b[1;32m<ipython-input-9-cae5bc062ab8>\u001b[0m in \u001b[0;36m<module>\u001b[1;34m()\u001b[0m\n\u001b[0;32m      6\u001b[0m             \u001b[0mlearning_rate\u001b[0m\u001b[1;33m=\u001b[0m\u001b[0mconfig\u001b[0m\u001b[1;33m.\u001b[0m\u001b[0mLEARNING_RATE\u001b[0m\u001b[1;33m,\u001b[0m\u001b[1;33m\u001b[0m\u001b[0m\n\u001b[0;32m      7\u001b[0m             \u001b[0mepochs\u001b[0m\u001b[1;33m=\u001b[0m\u001b[1;36m1\u001b[0m\u001b[1;33m,\u001b[0m\u001b[1;33m\u001b[0m\u001b[0m\n\u001b[1;32m----> 8\u001b[1;33m             layers='heads')\n\u001b[0m",
      "\u001b[1;32mc:\\program files\\python36\\lib\\site-packages\\mask_rcnn-2.1-py3.6.egg\\mrcnn\\model.py\u001b[0m in \u001b[0;36mtrain\u001b[1;34m(self, train_dataset, val_dataset, learning_rate, epochs, layers, augmentation)\u001b[0m\n\u001b[0;32m   2326\u001b[0m             \u001b[0mmax_queue_size\u001b[0m\u001b[1;33m=\u001b[0m\u001b[1;36m100\u001b[0m\u001b[1;33m,\u001b[0m\u001b[1;33m\u001b[0m\u001b[0m\n\u001b[0;32m   2327\u001b[0m             \u001b[0mworkers\u001b[0m\u001b[1;33m=\u001b[0m\u001b[0mworkers\u001b[0m\u001b[1;33m,\u001b[0m\u001b[1;33m\u001b[0m\u001b[0m\n\u001b[1;32m-> 2328\u001b[1;33m             \u001b[0muse_multiprocessing\u001b[0m\u001b[1;33m=\u001b[0m\u001b[1;32mTrue\u001b[0m\u001b[1;33m,\u001b[0m\u001b[1;33m\u001b[0m\u001b[0m\n\u001b[0m\u001b[0;32m   2329\u001b[0m         )\n\u001b[0;32m   2330\u001b[0m         \u001b[0mself\u001b[0m\u001b[1;33m.\u001b[0m\u001b[0mepoch\u001b[0m \u001b[1;33m=\u001b[0m \u001b[0mmax\u001b[0m\u001b[1;33m(\u001b[0m\u001b[0mself\u001b[0m\u001b[1;33m.\u001b[0m\u001b[0mepoch\u001b[0m\u001b[1;33m,\u001b[0m \u001b[0mepochs\u001b[0m\u001b[1;33m)\u001b[0m\u001b[1;33m\u001b[0m\u001b[0m\n",
      "\u001b[1;32mc:\\program files\\python36\\lib\\site-packages\\keras\\legacy\\interfaces.py\u001b[0m in \u001b[0;36mwrapper\u001b[1;34m(*args, **kwargs)\u001b[0m\n\u001b[0;32m     89\u001b[0m                 warnings.warn('Update your `' + object_name +\n\u001b[0;32m     90\u001b[0m                               '` call to the Keras 2 API: ' + signature, stacklevel=2)\n\u001b[1;32m---> 91\u001b[1;33m             \u001b[1;32mreturn\u001b[0m \u001b[0mfunc\u001b[0m\u001b[1;33m(\u001b[0m\u001b[1;33m*\u001b[0m\u001b[0margs\u001b[0m\u001b[1;33m,\u001b[0m \u001b[1;33m**\u001b[0m\u001b[0mkwargs\u001b[0m\u001b[1;33m)\u001b[0m\u001b[1;33m\u001b[0m\u001b[0m\n\u001b[0m\u001b[0;32m     92\u001b[0m         \u001b[0mwrapper\u001b[0m\u001b[1;33m.\u001b[0m\u001b[0m_original_function\u001b[0m \u001b[1;33m=\u001b[0m \u001b[0mfunc\u001b[0m\u001b[1;33m\u001b[0m\u001b[0m\n\u001b[0;32m     93\u001b[0m         \u001b[1;32mreturn\u001b[0m \u001b[0mwrapper\u001b[0m\u001b[1;33m\u001b[0m\u001b[0m\n",
      "\u001b[1;32mc:\\program files\\python36\\lib\\site-packages\\keras\\engine\\training.py\u001b[0m in \u001b[0;36mfit_generator\u001b[1;34m(self, generator, steps_per_epoch, epochs, verbose, callbacks, validation_data, validation_steps, class_weight, max_queue_size, workers, use_multiprocessing, shuffle, initial_epoch)\u001b[0m\n\u001b[0;32m   2222\u001b[0m                     outs = self.train_on_batch(x, y,\n\u001b[0;32m   2223\u001b[0m                                                \u001b[0msample_weight\u001b[0m\u001b[1;33m=\u001b[0m\u001b[0msample_weight\u001b[0m\u001b[1;33m,\u001b[0m\u001b[1;33m\u001b[0m\u001b[0m\n\u001b[1;32m-> 2224\u001b[1;33m                                                class_weight=class_weight)\n\u001b[0m\u001b[0;32m   2225\u001b[0m \u001b[1;33m\u001b[0m\u001b[0m\n\u001b[0;32m   2226\u001b[0m                     \u001b[1;32mif\u001b[0m \u001b[1;32mnot\u001b[0m \u001b[0misinstance\u001b[0m\u001b[1;33m(\u001b[0m\u001b[0mouts\u001b[0m\u001b[1;33m,\u001b[0m \u001b[0mlist\u001b[0m\u001b[1;33m)\u001b[0m\u001b[1;33m:\u001b[0m\u001b[1;33m\u001b[0m\u001b[0m\n",
      "\u001b[1;32mc:\\program files\\python36\\lib\\site-packages\\keras\\engine\\training.py\u001b[0m in \u001b[0;36mtrain_on_batch\u001b[1;34m(self, x, y, sample_weight, class_weight)\u001b[0m\n\u001b[0;32m   1881\u001b[0m             \u001b[0mins\u001b[0m \u001b[1;33m=\u001b[0m \u001b[0mx\u001b[0m \u001b[1;33m+\u001b[0m \u001b[0my\u001b[0m \u001b[1;33m+\u001b[0m \u001b[0msample_weights\u001b[0m\u001b[1;33m\u001b[0m\u001b[0m\n\u001b[0;32m   1882\u001b[0m         \u001b[0mself\u001b[0m\u001b[1;33m.\u001b[0m\u001b[0m_make_train_function\u001b[0m\u001b[1;33m(\u001b[0m\u001b[1;33m)\u001b[0m\u001b[1;33m\u001b[0m\u001b[0m\n\u001b[1;32m-> 1883\u001b[1;33m         \u001b[0moutputs\u001b[0m \u001b[1;33m=\u001b[0m \u001b[0mself\u001b[0m\u001b[1;33m.\u001b[0m\u001b[0mtrain_function\u001b[0m\u001b[1;33m(\u001b[0m\u001b[0mins\u001b[0m\u001b[1;33m)\u001b[0m\u001b[1;33m\u001b[0m\u001b[0m\n\u001b[0m\u001b[0;32m   1884\u001b[0m         \u001b[1;32mif\u001b[0m \u001b[0mlen\u001b[0m\u001b[1;33m(\u001b[0m\u001b[0moutputs\u001b[0m\u001b[1;33m)\u001b[0m \u001b[1;33m==\u001b[0m \u001b[1;36m1\u001b[0m\u001b[1;33m:\u001b[0m\u001b[1;33m\u001b[0m\u001b[0m\n\u001b[0;32m   1885\u001b[0m             \u001b[1;32mreturn\u001b[0m \u001b[0moutputs\u001b[0m\u001b[1;33m[\u001b[0m\u001b[1;36m0\u001b[0m\u001b[1;33m]\u001b[0m\u001b[1;33m\u001b[0m\u001b[0m\n",
      "\u001b[1;32mc:\\program files\\python36\\lib\\site-packages\\keras\\backend\\tensorflow_backend.py\u001b[0m in \u001b[0;36m__call__\u001b[1;34m(self, inputs)\u001b[0m\n\u001b[0;32m   2476\u001b[0m         \u001b[0msession\u001b[0m \u001b[1;33m=\u001b[0m \u001b[0mget_session\u001b[0m\u001b[1;33m(\u001b[0m\u001b[1;33m)\u001b[0m\u001b[1;33m\u001b[0m\u001b[0m\n\u001b[0;32m   2477\u001b[0m         updated = session.run(fetches=fetches, feed_dict=feed_dict,\n\u001b[1;32m-> 2478\u001b[1;33m                               **self.session_kwargs)\n\u001b[0m\u001b[0;32m   2479\u001b[0m         \u001b[1;32mreturn\u001b[0m \u001b[0mupdated\u001b[0m\u001b[1;33m[\u001b[0m\u001b[1;33m:\u001b[0m\u001b[0mlen\u001b[0m\u001b[1;33m(\u001b[0m\u001b[0mself\u001b[0m\u001b[1;33m.\u001b[0m\u001b[0moutputs\u001b[0m\u001b[1;33m)\u001b[0m\u001b[1;33m]\u001b[0m\u001b[1;33m\u001b[0m\u001b[0m\n\u001b[0;32m   2480\u001b[0m \u001b[1;33m\u001b[0m\u001b[0m\n",
      "\u001b[1;32mc:\\program files\\python36\\lib\\site-packages\\tensorflow\\python\\client\\session.py\u001b[0m in \u001b[0;36mrun\u001b[1;34m(self, fetches, feed_dict, options, run_metadata)\u001b[0m\n\u001b[0;32m    898\u001b[0m     \u001b[1;32mtry\u001b[0m\u001b[1;33m:\u001b[0m\u001b[1;33m\u001b[0m\u001b[0m\n\u001b[0;32m    899\u001b[0m       result = self._run(None, fetches, feed_dict, options_ptr,\n\u001b[1;32m--> 900\u001b[1;33m                          run_metadata_ptr)\n\u001b[0m\u001b[0;32m    901\u001b[0m       \u001b[1;32mif\u001b[0m \u001b[0mrun_metadata\u001b[0m\u001b[1;33m:\u001b[0m\u001b[1;33m\u001b[0m\u001b[0m\n\u001b[0;32m    902\u001b[0m         \u001b[0mproto_data\u001b[0m \u001b[1;33m=\u001b[0m \u001b[0mtf_session\u001b[0m\u001b[1;33m.\u001b[0m\u001b[0mTF_GetBuffer\u001b[0m\u001b[1;33m(\u001b[0m\u001b[0mrun_metadata_ptr\u001b[0m\u001b[1;33m)\u001b[0m\u001b[1;33m\u001b[0m\u001b[0m\n",
      "\u001b[1;32mc:\\program files\\python36\\lib\\site-packages\\tensorflow\\python\\client\\session.py\u001b[0m in \u001b[0;36m_run\u001b[1;34m(self, handle, fetches, feed_dict, options, run_metadata)\u001b[0m\n\u001b[0;32m   1133\u001b[0m     \u001b[1;32mif\u001b[0m \u001b[0mfinal_fetches\u001b[0m \u001b[1;32mor\u001b[0m \u001b[0mfinal_targets\u001b[0m \u001b[1;32mor\u001b[0m \u001b[1;33m(\u001b[0m\u001b[0mhandle\u001b[0m \u001b[1;32mand\u001b[0m \u001b[0mfeed_dict_tensor\u001b[0m\u001b[1;33m)\u001b[0m\u001b[1;33m:\u001b[0m\u001b[1;33m\u001b[0m\u001b[0m\n\u001b[0;32m   1134\u001b[0m       results = self._do_run(handle, final_targets, final_fetches,\n\u001b[1;32m-> 1135\u001b[1;33m                              feed_dict_tensor, options, run_metadata)\n\u001b[0m\u001b[0;32m   1136\u001b[0m     \u001b[1;32melse\u001b[0m\u001b[1;33m:\u001b[0m\u001b[1;33m\u001b[0m\u001b[0m\n\u001b[0;32m   1137\u001b[0m       \u001b[0mresults\u001b[0m \u001b[1;33m=\u001b[0m \u001b[1;33m[\u001b[0m\u001b[1;33m]\u001b[0m\u001b[1;33m\u001b[0m\u001b[0m\n",
      "\u001b[1;32mc:\\program files\\python36\\lib\\site-packages\\tensorflow\\python\\client\\session.py\u001b[0m in \u001b[0;36m_do_run\u001b[1;34m(self, handle, target_list, fetch_list, feed_dict, options, run_metadata)\u001b[0m\n\u001b[0;32m   1314\u001b[0m     \u001b[1;32mif\u001b[0m \u001b[0mhandle\u001b[0m \u001b[1;32mis\u001b[0m \u001b[1;32mNone\u001b[0m\u001b[1;33m:\u001b[0m\u001b[1;33m\u001b[0m\u001b[0m\n\u001b[0;32m   1315\u001b[0m       return self._do_call(_run_fn, feeds, fetches, targets, options,\n\u001b[1;32m-> 1316\u001b[1;33m                            run_metadata)\n\u001b[0m\u001b[0;32m   1317\u001b[0m     \u001b[1;32melse\u001b[0m\u001b[1;33m:\u001b[0m\u001b[1;33m\u001b[0m\u001b[0m\n\u001b[0;32m   1318\u001b[0m       \u001b[1;32mreturn\u001b[0m \u001b[0mself\u001b[0m\u001b[1;33m.\u001b[0m\u001b[0m_do_call\u001b[0m\u001b[1;33m(\u001b[0m\u001b[0m_prun_fn\u001b[0m\u001b[1;33m,\u001b[0m \u001b[0mhandle\u001b[0m\u001b[1;33m,\u001b[0m \u001b[0mfeeds\u001b[0m\u001b[1;33m,\u001b[0m \u001b[0mfetches\u001b[0m\u001b[1;33m)\u001b[0m\u001b[1;33m\u001b[0m\u001b[0m\n",
      "\u001b[1;32mc:\\program files\\python36\\lib\\site-packages\\tensorflow\\python\\client\\session.py\u001b[0m in \u001b[0;36m_do_call\u001b[1;34m(self, fn, *args)\u001b[0m\n\u001b[0;32m   1333\u001b[0m         \u001b[1;32mexcept\u001b[0m \u001b[0mKeyError\u001b[0m\u001b[1;33m:\u001b[0m\u001b[1;33m\u001b[0m\u001b[0m\n\u001b[0;32m   1334\u001b[0m           \u001b[1;32mpass\u001b[0m\u001b[1;33m\u001b[0m\u001b[0m\n\u001b[1;32m-> 1335\u001b[1;33m       \u001b[1;32mraise\u001b[0m \u001b[0mtype\u001b[0m\u001b[1;33m(\u001b[0m\u001b[0me\u001b[0m\u001b[1;33m)\u001b[0m\u001b[1;33m(\u001b[0m\u001b[0mnode_def\u001b[0m\u001b[1;33m,\u001b[0m \u001b[0mop\u001b[0m\u001b[1;33m,\u001b[0m \u001b[0mmessage\u001b[0m\u001b[1;33m)\u001b[0m\u001b[1;33m\u001b[0m\u001b[0m\n\u001b[0m\u001b[0;32m   1336\u001b[0m \u001b[1;33m\u001b[0m\u001b[0m\n\u001b[0;32m   1337\u001b[0m   \u001b[1;32mdef\u001b[0m \u001b[0m_extend_graph\u001b[0m\u001b[1;33m(\u001b[0m\u001b[0mself\u001b[0m\u001b[1;33m)\u001b[0m\u001b[1;33m:\u001b[0m\u001b[1;33m\u001b[0m\u001b[0m\n",
      "\u001b[1;31mResourceExhaustedError\u001b[0m: OOM when allocating tensor with shape[2,512,128,128] and type float on /job:localhost/replica:0/task:0/device:GPU:0 by allocator GPU_0_bfc\n\t [[Node: rpn_model_1/rpn_conv_shared/convolution = Conv2D[T=DT_FLOAT, _class=[\"loc:@train...propFilter\"], data_format=\"NCHW\", dilations=[1, 1, 1, 1], padding=\"SAME\", strides=[1, 1, 1, 1], use_cudnn_on_gpu=true, _device=\"/job:localhost/replica:0/task:0/device:GPU:0\"](fpn_p3/BiasAdd, rpn_conv_shared/kernel/read)]]\nHint: If you want to see a list of allocated tensors when OOM happens, add report_tensor_allocations_upon_oom to RunOptions for current allocation info.\n\n\t [[Node: proposal_targets/roi_assertion_1/AssertGuard/Assert/Switch_1/_1721 = _Recv[client_terminated=false, recv_device=\"/job:localhost/replica:0/task:0/device:CPU:0\", send_device=\"/job:localhost/replica:0/task:0/device:GPU:0\", send_device_incarnation=1, tensor_name=\"edge_5242_proposal_targets/roi_assertion_1/AssertGuard/Assert/Switch_1\", tensor_type=DT_FLOAT, _device=\"/job:localhost/replica:0/task:0/device:CPU:0\"]()]]\nHint: If you want to see a list of allocated tensors when OOM happens, add report_tensor_allocations_upon_oom to RunOptions for current allocation info.\n\n\nCaused by op 'rpn_model_1/rpn_conv_shared/convolution', defined at:\n  File \"c:\\program files\\python36\\lib\\runpy.py\", line 193, in _run_module_as_main\n    \"__main__\", mod_spec)\n  File \"c:\\program files\\python36\\lib\\runpy.py\", line 85, in _run_code\n    exec(code, run_globals)\n  File \"c:\\program files\\python36\\lib\\site-packages\\ipykernel_launcher.py\", line 16, in <module>\n    app.launch_new_instance()\n  File \"c:\\program files\\python36\\lib\\site-packages\\traitlets\\config\\application.py\", line 658, in launch_instance\n    app.start()\n  File \"c:\\program files\\python36\\lib\\site-packages\\ipykernel\\kernelapp.py\", line 486, in start\n    self.io_loop.start()\n  File \"c:\\program files\\python36\\lib\\site-packages\\tornado\\platform\\asyncio.py\", line 127, in start\n    self.asyncio_loop.run_forever()\n  File \"c:\\program files\\python36\\lib\\asyncio\\base_events.py\", line 421, in run_forever\n    self._run_once()\n  File \"c:\\program files\\python36\\lib\\asyncio\\base_events.py\", line 1431, in _run_once\n    handle._run()\n  File \"c:\\program files\\python36\\lib\\asyncio\\events.py\", line 145, in _run\n    self._callback(*self._args)\n  File \"c:\\program files\\python36\\lib\\site-packages\\tornado\\ioloop.py\", line 759, in _run_callback\n    ret = callback()\n  File \"c:\\program files\\python36\\lib\\site-packages\\tornado\\stack_context.py\", line 276, in null_wrapper\n    return fn(*args, **kwargs)\n  File \"c:\\program files\\python36\\lib\\site-packages\\ipykernel\\kernelbase.py\", line 263, in enter_eventloop\n    self.eventloop(self)\n  File \"c:\\program files\\python36\\lib\\site-packages\\ipykernel\\eventloops.py\", line 134, in loop_qt5\n    return loop_qt4(kernel)\n  File \"c:\\program files\\python36\\lib\\site-packages\\ipykernel\\eventloops.py\", line 122, in loop_qt4\n    _loop_qt(kernel.app)\n  File \"c:\\program files\\python36\\lib\\site-packages\\ipykernel\\eventloops.py\", line 106, in _loop_qt\n    app.exec_()\n  File \"c:\\program files\\python36\\lib\\site-packages\\ipykernel\\eventloops.py\", line 39, in process_stream_events\n    kernel.do_one_iteration()\n  File \"c:\\program files\\python36\\lib\\site-packages\\ipykernel\\kernelbase.py\", line 298, in do_one_iteration\n    stream.flush(zmq.POLLIN, 1)\n  File \"c:\\program files\\python36\\lib\\site-packages\\zmq\\eventloop\\zmqstream.py\", line 357, in flush\n    self._handle_recv()\n  File \"c:\\program files\\python36\\lib\\site-packages\\zmq\\eventloop\\zmqstream.py\", line 480, in _handle_recv\n    self._run_callback(callback, msg)\n  File \"c:\\program files\\python36\\lib\\site-packages\\zmq\\eventloop\\zmqstream.py\", line 432, in _run_callback\n    callback(*args, **kwargs)\n  File \"c:\\program files\\python36\\lib\\site-packages\\tornado\\stack_context.py\", line 276, in null_wrapper\n    return fn(*args, **kwargs)\n  File \"c:\\program files\\python36\\lib\\site-packages\\ipykernel\\kernelbase.py\", line 283, in dispatcher\n    return self.dispatch_shell(stream, msg)\n  File \"c:\\program files\\python36\\lib\\site-packages\\ipykernel\\kernelbase.py\", line 233, in dispatch_shell\n    handler(stream, idents, msg)\n  File \"c:\\program files\\python36\\lib\\site-packages\\ipykernel\\kernelbase.py\", line 399, in execute_request\n    user_expressions, allow_stdin)\n  File \"c:\\program files\\python36\\lib\\site-packages\\ipykernel\\ipkernel.py\", line 208, in do_execute\n    res = shell.run_cell(code, store_history=store_history, silent=silent)\n  File \"c:\\program files\\python36\\lib\\site-packages\\ipykernel\\zmqshell.py\", line 537, in run_cell\n    return super(ZMQInteractiveShell, self).run_cell(*args, **kwargs)\n  File \"c:\\program files\\python36\\lib\\site-packages\\IPython\\core\\interactiveshell.py\", line 2662, in run_cell\n    raw_cell, store_history, silent, shell_futures)\n  File \"c:\\program files\\python36\\lib\\site-packages\\IPython\\core\\interactiveshell.py\", line 2785, in _run_cell\n    interactivity=interactivity, compiler=compiler, result=result)\n  File \"c:\\program files\\python36\\lib\\site-packages\\IPython\\core\\interactiveshell.py\", line 2903, in run_ast_nodes\n    if self.run_code(code, result):\n  File \"c:\\program files\\python36\\lib\\site-packages\\IPython\\core\\interactiveshell.py\", line 2963, in run_code\n    exec(code_obj, self.user_global_ns, self.user_ns)\n  File \"<ipython-input-9-cae5bc062ab8>\", line 3, in <module>\n    model_dir=LOGS_DIR)\n  File \"c:\\program files\\python36\\lib\\site-packages\\mask_rcnn-2.1-py3.6.egg\\mrcnn\\model.py\", line 1823, in __init__\n    self.keras_model = self.build(mode=mode, config=config)\n  File \"c:\\program files\\python36\\lib\\site-packages\\mask_rcnn-2.1-py3.6.egg\\mrcnn\\model.py\", line 1926, in build\n    layer_outputs.append(rpn([p]))\n  File \"c:\\program files\\python36\\lib\\site-packages\\keras\\engine\\topology.py\", line 619, in __call__\n    output = self.call(inputs, **kwargs)\n  File \"c:\\program files\\python36\\lib\\site-packages\\keras\\engine\\topology.py\", line 2085, in call\n    output_tensors, _, _ = self.run_internal_graph(inputs, masks)\n  File \"c:\\program files\\python36\\lib\\site-packages\\keras\\engine\\topology.py\", line 2236, in run_internal_graph\n    output_tensors = _to_list(layer.call(computed_tensor, **kwargs))\n  File \"c:\\program files\\python36\\lib\\site-packages\\keras\\layers\\convolutional.py\", line 168, in call\n    dilation_rate=self.dilation_rate)\n  File \"c:\\program files\\python36\\lib\\site-packages\\keras\\backend\\tensorflow_backend.py\", line 3335, in conv2d\n    data_format=tf_data_format)\n  File \"c:\\program files\\python36\\lib\\site-packages\\tensorflow\\python\\ops\\nn_ops.py\", line 780, in convolution\n    return op(input, filter)\n  File \"c:\\program files\\python36\\lib\\site-packages\\tensorflow\\python\\ops\\nn_ops.py\", line 868, in __call__\n    return self.conv_op(inp, filter)\n  File \"c:\\program files\\python36\\lib\\site-packages\\tensorflow\\python\\ops\\nn_ops.py\", line 520, in __call__\n    return self.call(inp, filter)\n  File \"c:\\program files\\python36\\lib\\site-packages\\tensorflow\\python\\ops\\nn_ops.py\", line 204, in __call__\n    name=self.name)\n  File \"c:\\program files\\python36\\lib\\site-packages\\tensorflow\\python\\ops\\gen_nn_ops.py\", line 1042, in conv2d\n    data_format=data_format, dilations=dilations, name=name)\n  File \"c:\\program files\\python36\\lib\\site-packages\\tensorflow\\python\\framework\\op_def_library.py\", line 787, in _apply_op_helper\n    op_def=op_def)\n  File \"c:\\program files\\python36\\lib\\site-packages\\tensorflow\\python\\framework\\ops.py\", line 3392, in create_op\n    op_def=op_def)\n  File \"c:\\program files\\python36\\lib\\site-packages\\tensorflow\\python\\framework\\ops.py\", line 1718, in __init__\n    self._traceback = self._graph._extract_stack()  # pylint: disable=protected-access\n\nResourceExhaustedError (see above for traceback): OOM when allocating tensor with shape[2,512,128,128] and type float on /job:localhost/replica:0/task:0/device:GPU:0 by allocator GPU_0_bfc\n\t [[Node: rpn_model_1/rpn_conv_shared/convolution = Conv2D[T=DT_FLOAT, _class=[\"loc:@train...propFilter\"], data_format=\"NCHW\", dilations=[1, 1, 1, 1], padding=\"SAME\", strides=[1, 1, 1, 1], use_cudnn_on_gpu=true, _device=\"/job:localhost/replica:0/task:0/device:GPU:0\"](fpn_p3/BiasAdd, rpn_conv_shared/kernel/read)]]\nHint: If you want to see a list of allocated tensors when OOM happens, add report_tensor_allocations_upon_oom to RunOptions for current allocation info.\n\n\t [[Node: proposal_targets/roi_assertion_1/AssertGuard/Assert/Switch_1/_1721 = _Recv[client_terminated=false, recv_device=\"/job:localhost/replica:0/task:0/device:CPU:0\", send_device=\"/job:localhost/replica:0/task:0/device:GPU:0\", send_device_incarnation=1, tensor_name=\"edge_5242_proposal_targets/roi_assertion_1/AssertGuard/Assert/Switch_1\", tensor_type=DT_FLOAT, _device=\"/job:localhost/replica:0/task:0/device:CPU:0\"]()]]\nHint: If you want to see a list of allocated tensors when OOM happens, add report_tensor_allocations_upon_oom to RunOptions for current allocation info.\n\n"
     ]
    }
   ],
   "source": [
    "# Create model in training mode\n",
    "model = modellib.MaskRCNN(mode=\"training\", config=config,\n",
    "                          model_dir=LOGS_DIR)\n",
    "\n",
    "model.train(dataset_train, dataset_val, \n",
    "            learning_rate=config.LEARNING_RATE, \n",
    "            epochs=1, \n",
    "            layers='heads')"
   ]
  },
  {
   "cell_type": "code",
   "execution_count": null,
   "metadata": {
    "colab": {
     "autoexec": {
      "startup": false,
      "wait_interval": 0
     }
    },
    "colab_type": "code",
    "id": "R07AN1HvUxm7"
   },
   "outputs": [],
   "source": [
    "#model.train(dataset_train, dataset_val, \n",
    "#            learning_rate=config.LEARNING_RATE / 10,\n",
    "#            epochs=1, \n",
    "#            layers=\"all\")"
   ]
  },
  {
   "cell_type": "code",
   "execution_count": null,
   "metadata": {
    "colab": {
     "autoexec": {
      "startup": false,
      "wait_interval": 0
     }
    },
    "colab_type": "code",
    "id": "zqhhOThXUxm9"
   },
   "outputs": [],
   "source": []
  },
  {
   "cell_type": "code",
   "execution_count": null,
   "metadata": {
    "colab": {
     "autoexec": {
      "startup": false,
      "wait_interval": 0
     }
    },
    "colab_type": "code",
    "id": "aQEehfi4Uxm_"
   },
   "outputs": [],
   "source": []
  },
  {
   "cell_type": "code",
   "execution_count": null,
   "metadata": {
    "colab": {
     "autoexec": {
      "startup": false,
      "wait_interval": 0
     }
    },
    "colab_type": "code",
    "id": "aB9Efw_oUxnB"
   },
   "outputs": [],
   "source": []
  },
  {
   "cell_type": "code",
   "execution_count": null,
   "metadata": {
    "colab": {
     "autoexec": {
      "startup": false,
      "wait_interval": 0
     }
    },
    "colab_type": "code",
    "id": "LicJ3SLgUxnD"
   },
   "outputs": [],
   "source": []
  },
  {
   "cell_type": "code",
   "execution_count": null,
   "metadata": {
    "colab": {
     "autoexec": {
      "startup": false,
      "wait_interval": 0
     }
    },
    "colab_type": "code",
    "id": "uLn6t_swUxnG"
   },
   "outputs": [],
   "source": []
  },
  {
   "cell_type": "code",
   "execution_count": null,
   "metadata": {
    "colab": {
     "autoexec": {
      "startup": false,
      "wait_interval": 0
     }
    },
    "colab_type": "code",
    "id": "oIqARZBqKUsO"
   },
   "outputs": [],
   "source": []
  },
  {
   "cell_type": "code",
   "execution_count": null,
   "metadata": {
    "colab": {
     "autoexec": {
      "startup": false,
      "wait_interval": 0
     }
    },
    "colab_type": "code",
    "id": "VN-1OTZ4UxnK"
   },
   "outputs": [],
   "source": []
  },
  {
   "cell_type": "code",
   "execution_count": null,
   "metadata": {
    "colab": {
     "autoexec": {
      "startup": false,
      "wait_interval": 0
     }
    },
    "colab_type": "code",
    "id": "gCrsoCLrUxnM"
   },
   "outputs": [],
   "source": []
  },
  {
   "cell_type": "code",
   "execution_count": null,
   "metadata": {
    "colab": {
     "autoexec": {
      "startup": false,
      "wait_interval": 0
     }
    },
    "colab_type": "code",
    "id": "D2pTIHMWUxnO"
   },
   "outputs": [],
   "source": []
  },
  {
   "cell_type": "code",
   "execution_count": null,
   "metadata": {
    "colab": {
     "autoexec": {
      "startup": false,
      "wait_interval": 0
     }
    },
    "colab_type": "code",
    "id": "p3tY5QfUUxnP"
   },
   "outputs": [],
   "source": []
  },
  {
   "cell_type": "code",
   "execution_count": null,
   "metadata": {
    "colab": {
     "autoexec": {
      "startup": false,
      "wait_interval": 0
     }
    },
    "colab_type": "code",
    "id": "HHHPooSDKZQG"
   },
   "outputs": [],
   "source": []
  },
  {
   "cell_type": "code",
   "execution_count": null,
   "metadata": {
    "colab": {
     "autoexec": {
      "startup": false,
      "wait_interval": 0
     }
    },
    "colab_type": "code",
    "id": "LF4dk-IYKZQC"
   },
   "outputs": [],
   "source": []
  },
  {
   "cell_type": "code",
   "execution_count": null,
   "metadata": {
    "colab": {
     "autoexec": {
      "startup": false,
      "wait_interval": 0
     }
    },
    "colab_type": "code",
    "id": "6aPcBz4sKZP-"
   },
   "outputs": [],
   "source": []
  },
  {
   "cell_type": "code",
   "execution_count": null,
   "metadata": {
    "colab": {
     "autoexec": {
      "startup": false,
      "wait_interval": 0
     }
    },
    "colab_type": "code",
    "id": "-sIuiMuZKZP6"
   },
   "outputs": [],
   "source": []
  },
  {
   "cell_type": "code",
   "execution_count": null,
   "metadata": {
    "colab": {
     "autoexec": {
      "startup": false,
      "wait_interval": 0
     }
    },
    "colab_type": "code",
    "id": "vcmDMabKKZP4"
   },
   "outputs": [],
   "source": []
  },
  {
   "cell_type": "code",
   "execution_count": null,
   "metadata": {
    "colab": {
     "autoexec": {
      "startup": false,
      "wait_interval": 0
     }
    },
    "colab_type": "code",
    "id": "p7MUxIT-KZP0"
   },
   "outputs": [],
   "source": []
  }
 ],
 "metadata": {
  "accelerator": "GPU",
  "colab": {
   "collapsed_sections": [],
   "default_view": {},
   "name": "wad_data_training-1.ipynb",
   "provenance": [],
   "version": "0.3.2",
   "views": {}
  },
  "kernelspec": {
   "display_name": "Python 3",
   "language": "python",
   "name": "python3"
  },
  "language_info": {
   "codemirror_mode": {
    "name": "ipython",
    "version": 3
   },
   "file_extension": ".py",
   "mimetype": "text/x-python",
   "name": "python",
   "nbconvert_exporter": "python",
   "pygments_lexer": "ipython3",
   "version": "3.6.4"
  }
 },
 "nbformat": 4,
 "nbformat_minor": 1
}
